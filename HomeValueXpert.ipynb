{
 "cells": [
  {
   "cell_type": "code",
   "execution_count": 1,
   "id": "8d1ea566",
   "metadata": {},
   "outputs": [],
   "source": [
    "import numpy as np\n",
    "import pandas as pd"
   ]
  },
  {
   "cell_type": "code",
   "execution_count": null,
   "id": "2ff55fa0",
   "metadata": {},
   "outputs": [],
   "source": []
  },
  {
   "cell_type": "code",
   "execution_count": 2,
   "id": "1e4b7f2d",
   "metadata": {},
   "outputs": [],
   "source": [
    "df=pd.read_csv('nepali_housing.csv')"
   ]
  },
  {
   "cell_type": "code",
   "execution_count": 3,
   "id": "e96848d3",
   "metadata": {
    "scrolled": true
   },
   "outputs": [
    {
     "data": {
      "text/html": [
       "<div>\n",
       "<style scoped>\n",
       "    .dataframe tbody tr th:only-of-type {\n",
       "        vertical-align: middle;\n",
       "    }\n",
       "\n",
       "    .dataframe tbody tr th {\n",
       "        vertical-align: top;\n",
       "    }\n",
       "\n",
       "    .dataframe thead th {\n",
       "        text-align: right;\n",
       "    }\n",
       "</style>\n",
       "<table border=\"1\" class=\"dataframe\">\n",
       "  <thead>\n",
       "    <tr style=\"text-align: right;\">\n",
       "      <th></th>\n",
       "      <th>Title</th>\n",
       "      <th>Address</th>\n",
       "      <th>City</th>\n",
       "      <th>Price</th>\n",
       "      <th>Bedroom</th>\n",
       "      <th>Bathroom</th>\n",
       "      <th>Floors</th>\n",
       "      <th>Parking</th>\n",
       "      <th>Face</th>\n",
       "      <th>Year</th>\n",
       "      <th>Views</th>\n",
       "      <th>Area</th>\n",
       "      <th>Road</th>\n",
       "      <th>Road Width</th>\n",
       "      <th>Road Type</th>\n",
       "      <th>Build Area</th>\n",
       "      <th>Posted</th>\n",
       "      <th>Amenities</th>\n",
       "    </tr>\n",
       "  </thead>\n",
       "  <tbody>\n",
       "    <tr>\n",
       "      <th>2206</th>\n",
       "      <td>House For Rent In Chapali, Kathmandu</td>\n",
       "      <td>Bhangal, Chapali, Kathmandu</td>\n",
       "      <td>Kathmandu</td>\n",
       "      <td>500000</td>\n",
       "      <td>5</td>\n",
       "      <td>5</td>\n",
       "      <td>3.0</td>\n",
       "      <td>5</td>\n",
       "      <td>North East</td>\n",
       "      <td>NaN</td>\n",
       "      <td>3.1K</td>\n",
       "      <td>1 Ropani</td>\n",
       "      <td>16 Feet</td>\n",
       "      <td>16 Feet</td>\n",
       "      <td>NaN</td>\n",
       "      <td>N/A Sq. Feet</td>\n",
       "      <td>1 year ago</td>\n",
       "      <td>['Balcony', 'Frontyard', 'Garden', 'Drainage',...</td>\n",
       "    </tr>\n",
       "    <tr>\n",
       "      <th>2207</th>\n",
       "      <td>House For Sale In Sitapaila, Kathmandu</td>\n",
       "      <td>Nagarjun, Sitapaila, Kathmandu</td>\n",
       "      <td>Kathmandu</td>\n",
       "      <td>12000000</td>\n",
       "      <td>4</td>\n",
       "      <td>2</td>\n",
       "      <td>2.0</td>\n",
       "      <td>1</td>\n",
       "      <td>North East</td>\n",
       "      <td>NaN</td>\n",
       "      <td>1.4K</td>\n",
       "      <td>2.5 Aana</td>\n",
       "      <td>13 Feet</td>\n",
       "      <td>13 Feet</td>\n",
       "      <td>NaN</td>\n",
       "      <td>N/A Sq. Feet</td>\n",
       "      <td>1 year ago</td>\n",
       "      <td>['Balcony', 'Frontyard', 'Drainage', 'Water Su...</td>\n",
       "    </tr>\n",
       "    <tr>\n",
       "      <th>2208</th>\n",
       "      <td>House For Sale In Budhanilkantha, Kathmandu</td>\n",
       "      <td>Deuja Chowk, Budhanilkantha, Kathmandu</td>\n",
       "      <td>Kathmandu</td>\n",
       "      <td>27000000</td>\n",
       "      <td>5</td>\n",
       "      <td>3</td>\n",
       "      <td>2.0</td>\n",
       "      <td>1</td>\n",
       "      <td>East</td>\n",
       "      <td>2071.0</td>\n",
       "      <td>1.5K</td>\n",
       "      <td>8 Aana</td>\n",
       "      <td>12 Feet</td>\n",
       "      <td>12 Feet</td>\n",
       "      <td>NaN</td>\n",
       "      <td>N/A Sq. Feet</td>\n",
       "      <td>1 year ago</td>\n",
       "      <td>['Balcony', 'Frontyard', 'Drainage', 'Water Su...</td>\n",
       "    </tr>\n",
       "    <tr>\n",
       "      <th>2209</th>\n",
       "      <td>House For Rent In Baneshwor, Kathmandu</td>\n",
       "      <td>Bhimsengola, Baneshwor, Kathmandu</td>\n",
       "      <td>Kathmandu</td>\n",
       "      <td>300000</td>\n",
       "      <td>9</td>\n",
       "      <td>3</td>\n",
       "      <td>2.0</td>\n",
       "      <td>4</td>\n",
       "      <td>North</td>\n",
       "      <td>NaN</td>\n",
       "      <td>2.5K</td>\n",
       "      <td>51 Aana</td>\n",
       "      <td>13 Feet</td>\n",
       "      <td>13 Feet</td>\n",
       "      <td>NaN</td>\n",
       "      <td>N/A Sq. Feet</td>\n",
       "      <td>1 year ago</td>\n",
       "      <td>['Drainage', 'Water Supply', 'Garden', 'Fronty...</td>\n",
       "    </tr>\n",
       "    <tr>\n",
       "      <th>2210</th>\n",
       "      <td>House For Sale In Baluwatar, Kathmandu</td>\n",
       "      <td>Gocha marg, Baluwatar, Kathmandu</td>\n",
       "      <td>Kathmandu</td>\n",
       "      <td>72500000</td>\n",
       "      <td>5</td>\n",
       "      <td>2</td>\n",
       "      <td>3.0</td>\n",
       "      <td>5</td>\n",
       "      <td>East</td>\n",
       "      <td>NaN</td>\n",
       "      <td>19.6K</td>\n",
       "      <td>13 Aana</td>\n",
       "      <td>12 Feet</td>\n",
       "      <td>12 Feet</td>\n",
       "      <td>NaN</td>\n",
       "      <td>13 Aana</td>\n",
       "      <td>1 year ago</td>\n",
       "      <td>['Garage', 'Balcony', 'Frontyard', 'Drainage',...</td>\n",
       "    </tr>\n",
       "  </tbody>\n",
       "</table>\n",
       "</div>"
      ],
      "text/plain": [
       "                                            Title  \\\n",
       "2206         House For Rent In Chapali, Kathmandu   \n",
       "2207       House For Sale In Sitapaila, Kathmandu   \n",
       "2208  House For Sale In Budhanilkantha, Kathmandu   \n",
       "2209       House For Rent In Baneshwor, Kathmandu   \n",
       "2210       House For Sale In Baluwatar, Kathmandu   \n",
       "\n",
       "                                     Address       City     Price  Bedroom  \\\n",
       "2206             Bhangal, Chapali, Kathmandu  Kathmandu    500000        5   \n",
       "2207          Nagarjun, Sitapaila, Kathmandu  Kathmandu  12000000        4   \n",
       "2208  Deuja Chowk, Budhanilkantha, Kathmandu  Kathmandu  27000000        5   \n",
       "2209       Bhimsengola, Baneshwor, Kathmandu  Kathmandu    300000        9   \n",
       "2210        Gocha marg, Baluwatar, Kathmandu  Kathmandu  72500000        5   \n",
       "\n",
       "      Bathroom  Floors  Parking        Face    Year  Views      Area     Road  \\\n",
       "2206         5     3.0        5  North East     NaN   3.1K  1 Ropani  16 Feet   \n",
       "2207         2     2.0        1  North East     NaN   1.4K  2.5 Aana  13 Feet   \n",
       "2208         3     2.0        1        East  2071.0   1.5K    8 Aana  12 Feet   \n",
       "2209         3     2.0        4       North     NaN   2.5K   51 Aana  13 Feet   \n",
       "2210         2     3.0        5        East     NaN  19.6K   13 Aana  12 Feet   \n",
       "\n",
       "     Road Width Road Type    Build Area      Posted  \\\n",
       "2206    16 Feet       NaN  N/A Sq. Feet  1 year ago   \n",
       "2207    13 Feet       NaN  N/A Sq. Feet  1 year ago   \n",
       "2208    12 Feet       NaN  N/A Sq. Feet  1 year ago   \n",
       "2209    13 Feet       NaN  N/A Sq. Feet  1 year ago   \n",
       "2210    12 Feet       NaN       13 Aana  1 year ago   \n",
       "\n",
       "                                              Amenities  \n",
       "2206  ['Balcony', 'Frontyard', 'Garden', 'Drainage',...  \n",
       "2207  ['Balcony', 'Frontyard', 'Drainage', 'Water Su...  \n",
       "2208  ['Balcony', 'Frontyard', 'Drainage', 'Water Su...  \n",
       "2209  ['Drainage', 'Water Supply', 'Garden', 'Fronty...  \n",
       "2210  ['Garage', 'Balcony', 'Frontyard', 'Drainage',...  "
      ]
     },
     "execution_count": 3,
     "metadata": {},
     "output_type": "execute_result"
    }
   ],
   "source": [
    "df.tail()"
   ]
  },
  {
   "cell_type": "code",
   "execution_count": 4,
   "id": "058a872f",
   "metadata": {},
   "outputs": [
    {
     "data": {
      "text/plain": [
       "(2211, 18)"
      ]
     },
     "execution_count": 4,
     "metadata": {},
     "output_type": "execute_result"
    }
   ],
   "source": [
    "df.shape"
   ]
  },
  {
   "cell_type": "code",
   "execution_count": 5,
   "id": "3c6ccadc",
   "metadata": {},
   "outputs": [
    {
     "name": "stdout",
     "output_type": "stream",
     "text": [
      "<class 'pandas.core.frame.DataFrame'>\n",
      "RangeIndex: 2211 entries, 0 to 2210\n",
      "Data columns (total 18 columns):\n",
      " #   Column      Non-Null Count  Dtype  \n",
      "---  ------      --------------  -----  \n",
      " 0   Title       2211 non-null   object \n",
      " 1   Address     2211 non-null   object \n",
      " 2   City        2211 non-null   object \n",
      " 3   Price       2211 non-null   int64  \n",
      " 4   Bedroom     2211 non-null   int64  \n",
      " 5   Bathroom    2211 non-null   int64  \n",
      " 6   Floors      1039 non-null   float64\n",
      " 7   Parking     2211 non-null   int64  \n",
      " 8   Face        2211 non-null   object \n",
      " 9   Year        582 non-null    float64\n",
      " 10  Views       2211 non-null   object \n",
      " 11  Area        2211 non-null   object \n",
      " 12  Road        2211 non-null   object \n",
      " 13  Road Width  2211 non-null   object \n",
      " 14  Road Type   1426 non-null   object \n",
      " 15  Build Area  2211 non-null   object \n",
      " 16  Posted      2211 non-null   object \n",
      " 17  Amenities   2211 non-null   object \n",
      "dtypes: float64(2), int64(4), object(12)\n",
      "memory usage: 311.0+ KB\n"
     ]
    }
   ],
   "source": [
    "df.info()"
   ]
  },
  {
   "cell_type": "code",
   "execution_count": 6,
   "id": "13d1180a",
   "metadata": {},
   "outputs": [
    {
     "data": {
      "text/plain": [
       "0"
      ]
     },
     "execution_count": 6,
     "metadata": {},
     "output_type": "execute_result"
    }
   ],
   "source": [
    "df.duplicated().sum()"
   ]
  },
  {
   "cell_type": "code",
   "execution_count": 7,
   "id": "cb61ec0d",
   "metadata": {},
   "outputs": [
    {
     "data": {
      "text/plain": [
       "Title            0\n",
       "Address          0\n",
       "City             0\n",
       "Price            0\n",
       "Bedroom          0\n",
       "Bathroom         0\n",
       "Floors        1172\n",
       "Parking          0\n",
       "Face             0\n",
       "Year          1629\n",
       "Views            0\n",
       "Area             0\n",
       "Road             0\n",
       "Road Width       0\n",
       "Road Type      785\n",
       "Build Area       0\n",
       "Posted           0\n",
       "Amenities        0\n",
       "dtype: int64"
      ]
     },
     "execution_count": 7,
     "metadata": {},
     "output_type": "execute_result"
    }
   ],
   "source": [
    "df.isnull().sum()"
   ]
  },
  {
   "cell_type": "code",
   "execution_count": 8,
   "id": "64fe2cb4",
   "metadata": {},
   "outputs": [
    {
     "data": {
      "text/plain": [
       "\"['Parking', 'Lawn', 'Garage', 'Frontyard', 'Fencing', 'Balcony', 'Backyard', 'Modular Kitchen', 'Garden', 'Water Supply', 'Drainage', 'Water Tank', 'Wifi', 'Water Well', 'Solar Water', 'TV Cable']\""
      ]
     },
     "execution_count": 8,
     "metadata": {},
     "output_type": "execute_result"
    }
   ],
   "source": [
    "df[\"Amenities\"][0]"
   ]
  },
  {
   "cell_type": "code",
   "execution_count": 9,
   "id": "f04311d1",
   "metadata": {},
   "outputs": [],
   "source": [
    "df1 = pd.read_csv(\"Nepali_house_dataset.csv\")"
   ]
  },
  {
   "cell_type": "code",
   "execution_count": 10,
   "id": "0099d2dd",
   "metadata": {},
   "outputs": [
    {
     "data": {
      "text/html": [
       "<div>\n",
       "<style scoped>\n",
       "    .dataframe tbody tr th:only-of-type {\n",
       "        vertical-align: middle;\n",
       "    }\n",
       "\n",
       "    .dataframe tbody tr th {\n",
       "        vertical-align: top;\n",
       "    }\n",
       "\n",
       "    .dataframe thead th {\n",
       "        text-align: right;\n",
       "    }\n",
       "</style>\n",
       "<table border=\"1\" class=\"dataframe\">\n",
       "  <thead>\n",
       "    <tr style=\"text-align: right;\">\n",
       "      <th></th>\n",
       "      <th>TITLE</th>\n",
       "      <th>LOCATION</th>\n",
       "      <th>PRICE</th>\n",
       "      <th>LAND AREA</th>\n",
       "      <th>BUILDUP AREA</th>\n",
       "      <th>ROAD ACCESS</th>\n",
       "      <th>FACING</th>\n",
       "      <th>FLOOR</th>\n",
       "      <th>BEDROOM</th>\n",
       "      <th>BATHROOM</th>\n",
       "      <th>BUILT YEAR</th>\n",
       "      <th>PARKING</th>\n",
       "      <th>AMENITIES</th>\n",
       "    </tr>\n",
       "  </thead>\n",
       "  <tbody>\n",
       "    <tr>\n",
       "      <th>3413</th>\n",
       "      <td>Padma Colony Phase III</td>\n",
       "      <td>Sitapiala,  Kathmandu</td>\n",
       "      <td>Rs. 26,000,000</td>\n",
       "      <td>4.5 aana</td>\n",
       "      <td>NaN</td>\n",
       "      <td>16 Feet</td>\n",
       "      <td>North</td>\n",
       "      <td>2.5</td>\n",
       "      <td>4.0</td>\n",
       "      <td>4.0</td>\n",
       "      <td>2076 B.S</td>\n",
       "      <td>1 Car &amp; 3 Bikes</td>\n",
       "      <td>['Garage', 'Parking']</td>\n",
       "    </tr>\n",
       "    <tr>\n",
       "      <th>3414</th>\n",
       "      <td>Bhatbhateni Apartment</td>\n",
       "      <td>Bhatbhateni,  Kathmandu</td>\n",
       "      <td>Rs. 30,000,000</td>\n",
       "      <td>4.5 aana</td>\n",
       "      <td>1700 Sq.ft</td>\n",
       "      <td>16 Feet</td>\n",
       "      <td>South</td>\n",
       "      <td>3.0</td>\n",
       "      <td>3.0</td>\n",
       "      <td>3.0</td>\n",
       "      <td>2076 B.S</td>\n",
       "      <td>1 Car &amp; 3 Bikes</td>\n",
       "      <td>['Garage', 'Parking']</td>\n",
       "    </tr>\n",
       "    <tr>\n",
       "      <th>3415</th>\n",
       "      <td>स्यूचाटार</td>\n",
       "      <td>Syuchatar,  Kathmandu</td>\n",
       "      <td>Rs. 16000000</td>\n",
       "      <td>4.7 aana</td>\n",
       "      <td>1700 Sq.ft</td>\n",
       "      <td>16 Feet</td>\n",
       "      <td>South</td>\n",
       "      <td>2.5</td>\n",
       "      <td>4.0</td>\n",
       "      <td>2.0</td>\n",
       "      <td>2072 B.S</td>\n",
       "      <td>1 Car &amp; 3 Bikes</td>\n",
       "      <td>['Garage']</td>\n",
       "    </tr>\n",
       "    <tr>\n",
       "      <th>3416</th>\n",
       "      <td>Sano Bharayang Colony</td>\n",
       "      <td>Sano Bharayang,  Kathmandu</td>\n",
       "      <td>Rs. 3.5 Cr</td>\n",
       "      <td>6.3 aana</td>\n",
       "      <td>3505 Sq.ft</td>\n",
       "      <td>16 Feet</td>\n",
       "      <td>North-West</td>\n",
       "      <td>2.5</td>\n",
       "      <td>5.0</td>\n",
       "      <td>3.0</td>\n",
       "      <td>2077 B.S</td>\n",
       "      <td>2 CaRs. &amp; 7 Bikes</td>\n",
       "      <td>['Lawn', 'Garage', 'Air Condition', 'Backyard'...</td>\n",
       "    </tr>\n",
       "    <tr>\n",
       "      <th>3417</th>\n",
       "      <td>Buddhanilkatha Banglow</td>\n",
       "      <td>Budhanilkantha,  Kathmandu</td>\n",
       "      <td>Rs. 48000000</td>\n",
       "      <td>8 aana</td>\n",
       "      <td>5 aana</td>\n",
       "      <td>16 Feet</td>\n",
       "      <td>North</td>\n",
       "      <td>2.0</td>\n",
       "      <td>5.0</td>\n",
       "      <td>4.0</td>\n",
       "      <td>2075 B.S</td>\n",
       "      <td>2 CaRs. &amp; 8 Bikes</td>\n",
       "      <td>[]</td>\n",
       "    </tr>\n",
       "  </tbody>\n",
       "</table>\n",
       "</div>"
      ],
      "text/plain": [
       "                       TITLE                     LOCATION           PRICE  \\\n",
       "3413  Padma Colony Phase III        Sitapiala,  Kathmandu  Rs. 26,000,000   \n",
       "3414   Bhatbhateni Apartment      Bhatbhateni,  Kathmandu  Rs. 30,000,000   \n",
       "3415               स्यूचाटार        Syuchatar,  Kathmandu    Rs. 16000000   \n",
       "3416   Sano Bharayang Colony   Sano Bharayang,  Kathmandu      Rs. 3.5 Cr   \n",
       "3417  Buddhanilkatha Banglow   Budhanilkantha,  Kathmandu    Rs. 48000000   \n",
       "\n",
       "      LAND AREA BUILDUP AREA ROAD ACCESS      FACING  FLOOR  BEDROOM  \\\n",
       "3413   4.5 aana          NaN     16 Feet       North    2.5      4.0   \n",
       "3414   4.5 aana   1700 Sq.ft     16 Feet       South    3.0      3.0   \n",
       "3415  4.7 aana    1700 Sq.ft     16 Feet       South    2.5      4.0   \n",
       "3416   6.3 aana   3505 Sq.ft     16 Feet  North-West    2.5      5.0   \n",
       "3417     8 aana       5 aana     16 Feet       North    2.0      5.0   \n",
       "\n",
       "      BATHROOM BUILT YEAR            PARKING  \\\n",
       "3413       4.0   2076 B.S    1 Car & 3 Bikes   \n",
       "3414       3.0   2076 B.S    1 Car & 3 Bikes   \n",
       "3415       2.0   2072 B.S    1 Car & 3 Bikes   \n",
       "3416       3.0   2077 B.S  2 CaRs. & 7 Bikes   \n",
       "3417       4.0   2075 B.S  2 CaRs. & 8 Bikes   \n",
       "\n",
       "                                              AMENITIES  \n",
       "3413                              ['Garage', 'Parking']  \n",
       "3414                              ['Garage', 'Parking']  \n",
       "3415                                         ['Garage']  \n",
       "3416  ['Lawn', 'Garage', 'Air Condition', 'Backyard'...  \n",
       "3417                                                 []  "
      ]
     },
     "execution_count": 10,
     "metadata": {},
     "output_type": "execute_result"
    }
   ],
   "source": [
    "df1.tail()"
   ]
  },
  {
   "cell_type": "code",
   "execution_count": 11,
   "id": "305d03a0",
   "metadata": {},
   "outputs": [
    {
     "data": {
      "text/plain": [
       "(3418, 13)"
      ]
     },
     "execution_count": 11,
     "metadata": {},
     "output_type": "execute_result"
    }
   ],
   "source": [
    "df1.shape"
   ]
  },
  {
   "cell_type": "code",
   "execution_count": 12,
   "id": "2ee4daeb",
   "metadata": {},
   "outputs": [
    {
     "name": "stdout",
     "output_type": "stream",
     "text": [
      "<class 'pandas.core.frame.DataFrame'>\n",
      "RangeIndex: 3418 entries, 0 to 3417\n",
      "Data columns (total 13 columns):\n",
      " #   Column        Non-Null Count  Dtype  \n",
      "---  ------        --------------  -----  \n",
      " 0   TITLE         3418 non-null   object \n",
      " 1   LOCATION      3418 non-null   object \n",
      " 2   PRICE         3418 non-null   object \n",
      " 3   LAND AREA     3329 non-null   object \n",
      " 4   BUILDUP AREA  719 non-null    object \n",
      " 5   ROAD ACCESS   3409 non-null   object \n",
      " 6   FACING        3212 non-null   object \n",
      " 7   FLOOR         3323 non-null   float64\n",
      " 8   BEDROOM       3136 non-null   float64\n",
      " 9   BATHROOM      3072 non-null   float64\n",
      " 10  BUILT YEAR    3357 non-null   object \n",
      " 11  PARKING       632 non-null    object \n",
      " 12  AMENITIES     3418 non-null   object \n",
      "dtypes: float64(3), object(10)\n",
      "memory usage: 347.3+ KB\n"
     ]
    }
   ],
   "source": [
    "df1.info()"
   ]
  },
  {
   "cell_type": "code",
   "execution_count": 13,
   "id": "dd7fe5e9",
   "metadata": {},
   "outputs": [
    {
     "data": {
      "text/plain": [
       "\"['Earthquake Resistant', 'Marbel', 'Parquet', 'Parking', 'Drinking Water', 'Terrace', 'Modular Kitchen', 'Closet', 'Dining Room', 'Pantry', 'Bed Room']\""
      ]
     },
     "execution_count": 13,
     "metadata": {},
     "output_type": "execute_result"
    }
   ],
   "source": [
    "df1[\"AMENITIES\"][0]"
   ]
  },
  {
   "cell_type": "code",
   "execution_count": 14,
   "id": "94679edb",
   "metadata": {},
   "outputs": [
    {
     "data": {
      "text/plain": [
       "0"
      ]
     },
     "execution_count": 14,
     "metadata": {},
     "output_type": "execute_result"
    }
   ],
   "source": [
    "df1.duplicated().sum()"
   ]
  },
  {
   "cell_type": "code",
   "execution_count": 15,
   "id": "68513bc2",
   "metadata": {},
   "outputs": [
    {
     "data": {
      "text/plain": [
       "TITLE              0\n",
       "LOCATION           0\n",
       "PRICE              0\n",
       "LAND AREA         89\n",
       "BUILDUP AREA    2699\n",
       "ROAD ACCESS        9\n",
       "FACING           206\n",
       "FLOOR             95\n",
       "BEDROOM          282\n",
       "BATHROOM         346\n",
       "BUILT YEAR        61\n",
       "PARKING         2786\n",
       "AMENITIES          0\n",
       "dtype: int64"
      ]
     },
     "execution_count": 15,
     "metadata": {},
     "output_type": "execute_result"
    }
   ],
   "source": [
    "df1.isnull().sum()"
   ]
  },
  {
   "cell_type": "code",
   "execution_count": 16,
   "id": "0704204d",
   "metadata": {},
   "outputs": [
    {
     "data": {
      "text/html": [
       "<div>\n",
       "<style scoped>\n",
       "    .dataframe tbody tr th:only-of-type {\n",
       "        vertical-align: middle;\n",
       "    }\n",
       "\n",
       "    .dataframe tbody tr th {\n",
       "        vertical-align: top;\n",
       "    }\n",
       "\n",
       "    .dataframe thead th {\n",
       "        text-align: right;\n",
       "    }\n",
       "</style>\n",
       "<table border=\"1\" class=\"dataframe\">\n",
       "  <thead>\n",
       "    <tr style=\"text-align: right;\">\n",
       "      <th></th>\n",
       "      <th>TITLE</th>\n",
       "      <th>LOCATION</th>\n",
       "      <th>PRICE</th>\n",
       "      <th>LAND AREA</th>\n",
       "      <th>BUILDUP AREA</th>\n",
       "      <th>ROAD ACCESS</th>\n",
       "      <th>FACING</th>\n",
       "      <th>FLOOR</th>\n",
       "      <th>BEDROOM</th>\n",
       "      <th>BATHROOM</th>\n",
       "      <th>BUILT YEAR</th>\n",
       "      <th>PARKING</th>\n",
       "      <th>AMENITIES</th>\n",
       "    </tr>\n",
       "  </thead>\n",
       "  <tbody>\n",
       "    <tr>\n",
       "      <th>1083</th>\n",
       "      <td>Attractive house on sale in Imadol</td>\n",
       "      <td>Imadol, Lalitpur</td>\n",
       "      <td>Rs. 2.7 Cr</td>\n",
       "      <td>3.2 aana</td>\n",
       "      <td>NaN</td>\n",
       "      <td>20 Feet</td>\n",
       "      <td>West</td>\n",
       "      <td>2.5</td>\n",
       "      <td>5.0</td>\n",
       "      <td>4.0</td>\n",
       "      <td>2076 B.S</td>\n",
       "      <td>NaN</td>\n",
       "      <td>['Bathroom', 'Drinking Water', 'Drainage', 'Pa...</td>\n",
       "    </tr>\n",
       "  </tbody>\n",
       "</table>\n",
       "</div>"
      ],
      "text/plain": [
       "                                   TITLE          LOCATION        PRICE  \\\n",
       "1083  Attractive house on sale in Imadol  Imadol, Lalitpur  Rs. 2.7 Cr    \n",
       "\n",
       "     LAND AREA BUILDUP AREA ROAD ACCESS FACING  FLOOR  BEDROOM  BATHROOM  \\\n",
       "1083  3.2 aana          NaN     20 Feet   West    2.5      5.0       4.0   \n",
       "\n",
       "     BUILT YEAR PARKING                                          AMENITIES  \n",
       "1083   2076 B.S     NaN  ['Bathroom', 'Drinking Water', 'Drainage', 'Pa...  "
      ]
     },
     "execution_count": 16,
     "metadata": {},
     "output_type": "execute_result"
    }
   ],
   "source": [
    "df1.sample()"
   ]
  },
  {
   "cell_type": "code",
   "execution_count": 17,
   "id": "a2564ad4",
   "metadata": {},
   "outputs": [],
   "source": [
    "df1.rename(columns={\n",
    "    'TITLE':'Title', 'LOCATION' : 'Address', 'PRICE' : 'Price', 'LAND AREA':'Area', 'BUILDUP AREA' :'Build Area','ROAD ACCESS':'Road'\n",
    "    , 'FACING':'Face','FLOOR':'Floors','BEDROOM':'Bedroom','BATHROOM':'Bathroom','BUILT YEAR':'Year','PARKING':'Parking',\n",
    "    'AMENITIES':'Amenities' \n",
    "},inplace = True)"
   ]
  },
  {
   "cell_type": "code",
   "execution_count": 18,
   "id": "ee835a22",
   "metadata": {},
   "outputs": [
    {
     "data": {
      "text/html": [
       "<div>\n",
       "<style scoped>\n",
       "    .dataframe tbody tr th:only-of-type {\n",
       "        vertical-align: middle;\n",
       "    }\n",
       "\n",
       "    .dataframe tbody tr th {\n",
       "        vertical-align: top;\n",
       "    }\n",
       "\n",
       "    .dataframe thead th {\n",
       "        text-align: right;\n",
       "    }\n",
       "</style>\n",
       "<table border=\"1\" class=\"dataframe\">\n",
       "  <thead>\n",
       "    <tr style=\"text-align: right;\">\n",
       "      <th></th>\n",
       "      <th>Title</th>\n",
       "      <th>Address</th>\n",
       "      <th>Price</th>\n",
       "      <th>Area</th>\n",
       "      <th>Build Area</th>\n",
       "      <th>Road</th>\n",
       "      <th>Face</th>\n",
       "      <th>Floors</th>\n",
       "      <th>Bedroom</th>\n",
       "      <th>Bathroom</th>\n",
       "      <th>Year</th>\n",
       "      <th>Parking</th>\n",
       "      <th>Amenities</th>\n",
       "    </tr>\n",
       "  </thead>\n",
       "  <tbody>\n",
       "    <tr>\n",
       "      <th>0</th>\n",
       "      <td>House for Sale</td>\n",
       "      <td>Imadol, Lalitpur</td>\n",
       "      <td>Rs. 2.9 Cr</td>\n",
       "      <td>4.0 aana</td>\n",
       "      <td>NaN</td>\n",
       "      <td>12 Feet</td>\n",
       "      <td>West</td>\n",
       "      <td>3.0</td>\n",
       "      <td>5.0</td>\n",
       "      <td>4.0</td>\n",
       "      <td>2076 B.S</td>\n",
       "      <td>1 CaRs.  &amp; 2 Bikes</td>\n",
       "      <td>['Earthquake Resistant', 'Marbel', 'Parquet', ...</td>\n",
       "    </tr>\n",
       "    <tr>\n",
       "      <th>1</th>\n",
       "      <td>House for Sale</td>\n",
       "      <td>Satdobato, Lalitpur</td>\n",
       "      <td>Rs. 4.75 Cr</td>\n",
       "      <td>3.0 aana</td>\n",
       "      <td>NaN</td>\n",
       "      <td>10 Feet</td>\n",
       "      <td>West</td>\n",
       "      <td>4.5</td>\n",
       "      <td>5.0</td>\n",
       "      <td>6.0</td>\n",
       "      <td>2076 B.S</td>\n",
       "      <td>2 CaRs.  &amp; 2 Bikes</td>\n",
       "      <td>['Earthquake Resistant', 'Parquet', 'Drinking ...</td>\n",
       "    </tr>\n",
       "    <tr>\n",
       "      <th>2</th>\n",
       "      <td>4 BHK House for Sale</td>\n",
       "      <td>Imadol, Lalitpur</td>\n",
       "      <td>Rs. 1.99 Cr</td>\n",
       "      <td>2.3 aana</td>\n",
       "      <td>NaN</td>\n",
       "      <td>10 Feet</td>\n",
       "      <td>West</td>\n",
       "      <td>2.5</td>\n",
       "      <td>4.0</td>\n",
       "      <td>4.0</td>\n",
       "      <td>2060 B.S</td>\n",
       "      <td>1 CaRs.  &amp; 3 Bikes</td>\n",
       "      <td>['Earthquake Resistant', 'Marbel', 'Parquet', ...</td>\n",
       "    </tr>\n",
       "    <tr>\n",
       "      <th>3</th>\n",
       "      <td>Bungalow House for Sale</td>\n",
       "      <td>Bhaisepati, Lalitpur</td>\n",
       "      <td>Rs. 4 Cr</td>\n",
       "      <td>7.0 aana</td>\n",
       "      <td>NaN</td>\n",
       "      <td>12 Feet</td>\n",
       "      <td>North-West</td>\n",
       "      <td>2.5</td>\n",
       "      <td>4.0</td>\n",
       "      <td>3.0</td>\n",
       "      <td>2059 B.S</td>\n",
       "      <td>4 CaRs.  &amp; 4 Bikes</td>\n",
       "      <td>['Earthquake Resistant', 'Marbel', 'Parquet', ...</td>\n",
       "    </tr>\n",
       "    <tr>\n",
       "      <th>4</th>\n",
       "      <td>House for Rent</td>\n",
       "      <td>Maharajgunj, Kathmandu</td>\n",
       "      <td>Rs. 12000000</td>\n",
       "      <td>6.0 aana</td>\n",
       "      <td>NaN</td>\n",
       "      <td>20 Feet</td>\n",
       "      <td>South</td>\n",
       "      <td>2.0</td>\n",
       "      <td>4.0</td>\n",
       "      <td>4.0</td>\n",
       "      <td>2071 B.S</td>\n",
       "      <td>4 CaRs.  &amp; 5 Bikes</td>\n",
       "      <td>['Earthquake Resistant', 'Parquet', 'Parking',...</td>\n",
       "    </tr>\n",
       "  </tbody>\n",
       "</table>\n",
       "</div>"
      ],
      "text/plain": [
       "                     Title                 Address         Price      Area  \\\n",
       "0           House for Sale        Imadol, Lalitpur   Rs. 2.9 Cr   4.0 aana   \n",
       "1           House for Sale     Satdobato, Lalitpur  Rs. 4.75 Cr   3.0 aana   \n",
       "2     4 BHK House for Sale        Imadol, Lalitpur  Rs. 1.99 Cr   2.3 aana   \n",
       "3  Bungalow House for Sale    Bhaisepati, Lalitpur     Rs. 4 Cr   7.0 aana   \n",
       "4           House for Rent  Maharajgunj, Kathmandu  Rs. 12000000  6.0 aana   \n",
       "\n",
       "  Build Area     Road        Face  Floors  Bedroom  Bathroom      Year  \\\n",
       "0        NaN  12 Feet        West     3.0      5.0       4.0  2076 B.S   \n",
       "1        NaN  10 Feet        West     4.5      5.0       6.0  2076 B.S   \n",
       "2        NaN  10 Feet        West     2.5      4.0       4.0  2060 B.S   \n",
       "3        NaN  12 Feet  North-West     2.5      4.0       3.0  2059 B.S   \n",
       "4        NaN  20 Feet       South     2.0      4.0       4.0  2071 B.S   \n",
       "\n",
       "              Parking                                          Amenities  \n",
       "0  1 CaRs.  & 2 Bikes  ['Earthquake Resistant', 'Marbel', 'Parquet', ...  \n",
       "1  2 CaRs.  & 2 Bikes  ['Earthquake Resistant', 'Parquet', 'Drinking ...  \n",
       "2  1 CaRs.  & 3 Bikes  ['Earthquake Resistant', 'Marbel', 'Parquet', ...  \n",
       "3  4 CaRs.  & 4 Bikes  ['Earthquake Resistant', 'Marbel', 'Parquet', ...  \n",
       "4  4 CaRs.  & 5 Bikes  ['Earthquake Resistant', 'Parquet', 'Parking',...  "
      ]
     },
     "execution_count": 18,
     "metadata": {},
     "output_type": "execute_result"
    }
   ],
   "source": [
    "df1.head()"
   ]
  },
  {
   "cell_type": "code",
   "execution_count": 19,
   "id": "dc033643",
   "metadata": {},
   "outputs": [],
   "source": [
    "df2 = df[[\"Title\",\"Address\",\"Price\",\"Area\",\"Build Area\",\"Road\",\"Face\",\"Floors\",\"Bedroom\",\"Bathroom\",\"Year\",\"Parking\",\"Amenities\"]]"
   ]
  },
  {
   "cell_type": "code",
   "execution_count": 20,
   "id": "298dd4c9",
   "metadata": {},
   "outputs": [
    {
     "data": {
      "text/html": [
       "<div>\n",
       "<style scoped>\n",
       "    .dataframe tbody tr th:only-of-type {\n",
       "        vertical-align: middle;\n",
       "    }\n",
       "\n",
       "    .dataframe tbody tr th {\n",
       "        vertical-align: top;\n",
       "    }\n",
       "\n",
       "    .dataframe thead th {\n",
       "        text-align: right;\n",
       "    }\n",
       "</style>\n",
       "<table border=\"1\" class=\"dataframe\">\n",
       "  <thead>\n",
       "    <tr style=\"text-align: right;\">\n",
       "      <th></th>\n",
       "      <th>Title</th>\n",
       "      <th>Address</th>\n",
       "      <th>Price</th>\n",
       "      <th>Area</th>\n",
       "      <th>Build Area</th>\n",
       "      <th>Road</th>\n",
       "      <th>Face</th>\n",
       "      <th>Floors</th>\n",
       "      <th>Bedroom</th>\n",
       "      <th>Bathroom</th>\n",
       "      <th>Year</th>\n",
       "      <th>Parking</th>\n",
       "      <th>Amenities</th>\n",
       "    </tr>\n",
       "  </thead>\n",
       "  <tbody>\n",
       "    <tr>\n",
       "      <th>0</th>\n",
       "      <td>Flat System House On Sale At Budhanikantha : H...</td>\n",
       "      <td>Budhanikantha, Budhanilkantha, Kathmandu</td>\n",
       "      <td>90000000</td>\n",
       "      <td>1-0-0-0 Aana</td>\n",
       "      <td>18-0-0-0 Aana</td>\n",
       "      <td>20 Feet / Blacktopped</td>\n",
       "      <td>West</td>\n",
       "      <td>2.0</td>\n",
       "      <td>6</td>\n",
       "      <td>3</td>\n",
       "      <td>2073.0</td>\n",
       "      <td>10</td>\n",
       "      <td>['Parking', 'Lawn', 'Garage', 'Frontyard', 'Fe...</td>\n",
       "    </tr>\n",
       "    <tr>\n",
       "      <th>1</th>\n",
       "      <td>21 Aana Beautiful House : House For Sale In Bu...</td>\n",
       "      <td>Pasikot, Budhanilkantha, Kathmandu</td>\n",
       "      <td>80000000</td>\n",
       "      <td>0-21-0-0 Aana</td>\n",
       "      <td>0-14-0-0 Aana</td>\n",
       "      <td>20 Feet / Blacktopped</td>\n",
       "      <td>East</td>\n",
       "      <td>2.0</td>\n",
       "      <td>5</td>\n",
       "      <td>3</td>\n",
       "      <td>2073.0</td>\n",
       "      <td>9</td>\n",
       "      <td>['Parking', 'Garage', 'Fencing', 'Frontyard', ...</td>\n",
       "    </tr>\n",
       "    <tr>\n",
       "      <th>2</th>\n",
       "      <td>Beautiful To Floor House : House For Sale In D...</td>\n",
       "      <td>Dhapasi, Dhapasi, Kathmandu</td>\n",
       "      <td>70000000</td>\n",
       "      <td>1-1-0-0 Aana</td>\n",
       "      <td>10-1-0-0 Aana</td>\n",
       "      <td>20 Feet / Blacktopped</td>\n",
       "      <td>East</td>\n",
       "      <td>2.0</td>\n",
       "      <td>5</td>\n",
       "      <td>3</td>\n",
       "      <td>2071.0</td>\n",
       "      <td>12</td>\n",
       "      <td>['Parking', 'Lawn', 'Garage', 'Frontyard', 'Fe...</td>\n",
       "    </tr>\n",
       "    <tr>\n",
       "      <th>3</th>\n",
       "      <td>Modern Architecture Bungalow House : House For...</td>\n",
       "      <td>baluwatar, Baluwatar, Kathmandu</td>\n",
       "      <td>130000000</td>\n",
       "      <td>0-10-1-0 Aana</td>\n",
       "      <td>0-7-1-0 Aana</td>\n",
       "      <td>20 Feet / Blacktopped</td>\n",
       "      <td>West</td>\n",
       "      <td>3.0</td>\n",
       "      <td>6</td>\n",
       "      <td>4</td>\n",
       "      <td>2017.0</td>\n",
       "      <td>9</td>\n",
       "      <td>['Parking', 'Lawn', 'Garage', 'Frontyard', 'Fe...</td>\n",
       "    </tr>\n",
       "    <tr>\n",
       "      <th>4</th>\n",
       "      <td>Modern Bungalow House : House For Sale In Golf...</td>\n",
       "      <td>Golfutar, Golfutar, Kathmandu</td>\n",
       "      <td>100000000</td>\n",
       "      <td>0-19-2-0 Aana</td>\n",
       "      <td>0-14-2-0 Aana</td>\n",
       "      <td>20 Feet / Blacktopped</td>\n",
       "      <td>East</td>\n",
       "      <td>2.0</td>\n",
       "      <td>6</td>\n",
       "      <td>3</td>\n",
       "      <td>2070.0</td>\n",
       "      <td>10</td>\n",
       "      <td>['Parking', 'Lawn', 'Garage', 'Balcony', 'Back...</td>\n",
       "    </tr>\n",
       "  </tbody>\n",
       "</table>\n",
       "</div>"
      ],
      "text/plain": [
       "                                               Title  \\\n",
       "0  Flat System House On Sale At Budhanikantha : H...   \n",
       "1  21 Aana Beautiful House : House For Sale In Bu...   \n",
       "2  Beautiful To Floor House : House For Sale In D...   \n",
       "3  Modern Architecture Bungalow House : House For...   \n",
       "4  Modern Bungalow House : House For Sale In Golf...   \n",
       "\n",
       "                                    Address      Price           Area  \\\n",
       "0  Budhanikantha, Budhanilkantha, Kathmandu   90000000   1-0-0-0 Aana   \n",
       "1        Pasikot, Budhanilkantha, Kathmandu   80000000  0-21-0-0 Aana   \n",
       "2               Dhapasi, Dhapasi, Kathmandu   70000000   1-1-0-0 Aana   \n",
       "3           baluwatar, Baluwatar, Kathmandu  130000000  0-10-1-0 Aana   \n",
       "4             Golfutar, Golfutar, Kathmandu  100000000  0-19-2-0 Aana   \n",
       "\n",
       "      Build Area                   Road  Face  Floors  Bedroom  Bathroom  \\\n",
       "0  18-0-0-0 Aana  20 Feet / Blacktopped  West     2.0        6         3   \n",
       "1  0-14-0-0 Aana  20 Feet / Blacktopped  East     2.0        5         3   \n",
       "2  10-1-0-0 Aana  20 Feet / Blacktopped  East     2.0        5         3   \n",
       "3   0-7-1-0 Aana  20 Feet / Blacktopped  West     3.0        6         4   \n",
       "4  0-14-2-0 Aana  20 Feet / Blacktopped  East     2.0        6         3   \n",
       "\n",
       "     Year  Parking                                          Amenities  \n",
       "0  2073.0       10  ['Parking', 'Lawn', 'Garage', 'Frontyard', 'Fe...  \n",
       "1  2073.0        9  ['Parking', 'Garage', 'Fencing', 'Frontyard', ...  \n",
       "2  2071.0       12  ['Parking', 'Lawn', 'Garage', 'Frontyard', 'Fe...  \n",
       "3  2017.0        9  ['Parking', 'Lawn', 'Garage', 'Frontyard', 'Fe...  \n",
       "4  2070.0       10  ['Parking', 'Lawn', 'Garage', 'Balcony', 'Back...  "
      ]
     },
     "execution_count": 20,
     "metadata": {},
     "output_type": "execute_result"
    }
   ],
   "source": [
    "df2.head()"
   ]
  },
  {
   "cell_type": "code",
   "execution_count": 21,
   "id": "b6da73c6",
   "metadata": {},
   "outputs": [],
   "source": [
    "house = pd.concat([df1,df2],ignore_index=True,axis=0)"
   ]
  },
  {
   "cell_type": "code",
   "execution_count": 22,
   "id": "9ce7e873",
   "metadata": {},
   "outputs": [
    {
     "data": {
      "text/html": [
       "<div>\n",
       "<style scoped>\n",
       "    .dataframe tbody tr th:only-of-type {\n",
       "        vertical-align: middle;\n",
       "    }\n",
       "\n",
       "    .dataframe tbody tr th {\n",
       "        vertical-align: top;\n",
       "    }\n",
       "\n",
       "    .dataframe thead th {\n",
       "        text-align: right;\n",
       "    }\n",
       "</style>\n",
       "<table border=\"1\" class=\"dataframe\">\n",
       "  <thead>\n",
       "    <tr style=\"text-align: right;\">\n",
       "      <th></th>\n",
       "      <th>Title</th>\n",
       "      <th>Address</th>\n",
       "      <th>Price</th>\n",
       "      <th>Area</th>\n",
       "      <th>Build Area</th>\n",
       "      <th>Road</th>\n",
       "      <th>Face</th>\n",
       "      <th>Floors</th>\n",
       "      <th>Bedroom</th>\n",
       "      <th>Bathroom</th>\n",
       "      <th>Year</th>\n",
       "      <th>Parking</th>\n",
       "      <th>Amenities</th>\n",
       "    </tr>\n",
       "  </thead>\n",
       "  <tbody>\n",
       "    <tr>\n",
       "      <th>0</th>\n",
       "      <td>House for Sale</td>\n",
       "      <td>Imadol, Lalitpur</td>\n",
       "      <td>Rs. 2.9 Cr</td>\n",
       "      <td>4.0 aana</td>\n",
       "      <td>NaN</td>\n",
       "      <td>12 Feet</td>\n",
       "      <td>West</td>\n",
       "      <td>3.0</td>\n",
       "      <td>5.0</td>\n",
       "      <td>4.0</td>\n",
       "      <td>2076 B.S</td>\n",
       "      <td>1 CaRs.  &amp; 2 Bikes</td>\n",
       "      <td>['Earthquake Resistant', 'Marbel', 'Parquet', ...</td>\n",
       "    </tr>\n",
       "    <tr>\n",
       "      <th>1</th>\n",
       "      <td>House for Sale</td>\n",
       "      <td>Satdobato, Lalitpur</td>\n",
       "      <td>Rs. 4.75 Cr</td>\n",
       "      <td>3.0 aana</td>\n",
       "      <td>NaN</td>\n",
       "      <td>10 Feet</td>\n",
       "      <td>West</td>\n",
       "      <td>4.5</td>\n",
       "      <td>5.0</td>\n",
       "      <td>6.0</td>\n",
       "      <td>2076 B.S</td>\n",
       "      <td>2 CaRs.  &amp; 2 Bikes</td>\n",
       "      <td>['Earthquake Resistant', 'Parquet', 'Drinking ...</td>\n",
       "    </tr>\n",
       "    <tr>\n",
       "      <th>2</th>\n",
       "      <td>4 BHK House for Sale</td>\n",
       "      <td>Imadol, Lalitpur</td>\n",
       "      <td>Rs. 1.99 Cr</td>\n",
       "      <td>2.3 aana</td>\n",
       "      <td>NaN</td>\n",
       "      <td>10 Feet</td>\n",
       "      <td>West</td>\n",
       "      <td>2.5</td>\n",
       "      <td>4.0</td>\n",
       "      <td>4.0</td>\n",
       "      <td>2060 B.S</td>\n",
       "      <td>1 CaRs.  &amp; 3 Bikes</td>\n",
       "      <td>['Earthquake Resistant', 'Marbel', 'Parquet', ...</td>\n",
       "    </tr>\n",
       "    <tr>\n",
       "      <th>3</th>\n",
       "      <td>Bungalow House for Sale</td>\n",
       "      <td>Bhaisepati, Lalitpur</td>\n",
       "      <td>Rs. 4 Cr</td>\n",
       "      <td>7.0 aana</td>\n",
       "      <td>NaN</td>\n",
       "      <td>12 Feet</td>\n",
       "      <td>North-West</td>\n",
       "      <td>2.5</td>\n",
       "      <td>4.0</td>\n",
       "      <td>3.0</td>\n",
       "      <td>2059 B.S</td>\n",
       "      <td>4 CaRs.  &amp; 4 Bikes</td>\n",
       "      <td>['Earthquake Resistant', 'Marbel', 'Parquet', ...</td>\n",
       "    </tr>\n",
       "    <tr>\n",
       "      <th>4</th>\n",
       "      <td>House for Rent</td>\n",
       "      <td>Maharajgunj, Kathmandu</td>\n",
       "      <td>Rs. 12000000</td>\n",
       "      <td>6.0 aana</td>\n",
       "      <td>NaN</td>\n",
       "      <td>20 Feet</td>\n",
       "      <td>South</td>\n",
       "      <td>2.0</td>\n",
       "      <td>4.0</td>\n",
       "      <td>4.0</td>\n",
       "      <td>2071 B.S</td>\n",
       "      <td>4 CaRs.  &amp; 5 Bikes</td>\n",
       "      <td>['Earthquake Resistant', 'Parquet', 'Parking',...</td>\n",
       "    </tr>\n",
       "    <tr>\n",
       "      <th>...</th>\n",
       "      <td>...</td>\n",
       "      <td>...</td>\n",
       "      <td>...</td>\n",
       "      <td>...</td>\n",
       "      <td>...</td>\n",
       "      <td>...</td>\n",
       "      <td>...</td>\n",
       "      <td>...</td>\n",
       "      <td>...</td>\n",
       "      <td>...</td>\n",
       "      <td>...</td>\n",
       "      <td>...</td>\n",
       "      <td>...</td>\n",
       "    </tr>\n",
       "    <tr>\n",
       "      <th>5624</th>\n",
       "      <td>House For Rent In Chapali, Kathmandu</td>\n",
       "      <td>Bhangal, Chapali, Kathmandu</td>\n",
       "      <td>500000</td>\n",
       "      <td>1 Ropani</td>\n",
       "      <td>N/A Sq. Feet</td>\n",
       "      <td>16 Feet</td>\n",
       "      <td>North East</td>\n",
       "      <td>3.0</td>\n",
       "      <td>5.0</td>\n",
       "      <td>5.0</td>\n",
       "      <td>NaN</td>\n",
       "      <td>5</td>\n",
       "      <td>['Balcony', 'Frontyard', 'Garden', 'Drainage',...</td>\n",
       "    </tr>\n",
       "    <tr>\n",
       "      <th>5625</th>\n",
       "      <td>House For Sale In Sitapaila, Kathmandu</td>\n",
       "      <td>Nagarjun, Sitapaila, Kathmandu</td>\n",
       "      <td>12000000</td>\n",
       "      <td>2.5 Aana</td>\n",
       "      <td>N/A Sq. Feet</td>\n",
       "      <td>13 Feet</td>\n",
       "      <td>North East</td>\n",
       "      <td>2.0</td>\n",
       "      <td>4.0</td>\n",
       "      <td>2.0</td>\n",
       "      <td>NaN</td>\n",
       "      <td>1</td>\n",
       "      <td>['Balcony', 'Frontyard', 'Drainage', 'Water Su...</td>\n",
       "    </tr>\n",
       "    <tr>\n",
       "      <th>5626</th>\n",
       "      <td>House For Sale In Budhanilkantha, Kathmandu</td>\n",
       "      <td>Deuja Chowk, Budhanilkantha, Kathmandu</td>\n",
       "      <td>27000000</td>\n",
       "      <td>8 Aana</td>\n",
       "      <td>N/A Sq. Feet</td>\n",
       "      <td>12 Feet</td>\n",
       "      <td>East</td>\n",
       "      <td>2.0</td>\n",
       "      <td>5.0</td>\n",
       "      <td>3.0</td>\n",
       "      <td>2071.0</td>\n",
       "      <td>1</td>\n",
       "      <td>['Balcony', 'Frontyard', 'Drainage', 'Water Su...</td>\n",
       "    </tr>\n",
       "    <tr>\n",
       "      <th>5627</th>\n",
       "      <td>House For Rent In Baneshwor, Kathmandu</td>\n",
       "      <td>Bhimsengola, Baneshwor, Kathmandu</td>\n",
       "      <td>300000</td>\n",
       "      <td>51 Aana</td>\n",
       "      <td>N/A Sq. Feet</td>\n",
       "      <td>13 Feet</td>\n",
       "      <td>North</td>\n",
       "      <td>2.0</td>\n",
       "      <td>9.0</td>\n",
       "      <td>3.0</td>\n",
       "      <td>NaN</td>\n",
       "      <td>4</td>\n",
       "      <td>['Drainage', 'Water Supply', 'Garden', 'Fronty...</td>\n",
       "    </tr>\n",
       "    <tr>\n",
       "      <th>5628</th>\n",
       "      <td>House For Sale In Baluwatar, Kathmandu</td>\n",
       "      <td>Gocha marg, Baluwatar, Kathmandu</td>\n",
       "      <td>72500000</td>\n",
       "      <td>13 Aana</td>\n",
       "      <td>13 Aana</td>\n",
       "      <td>12 Feet</td>\n",
       "      <td>East</td>\n",
       "      <td>3.0</td>\n",
       "      <td>5.0</td>\n",
       "      <td>2.0</td>\n",
       "      <td>NaN</td>\n",
       "      <td>5</td>\n",
       "      <td>['Garage', 'Balcony', 'Frontyard', 'Drainage',...</td>\n",
       "    </tr>\n",
       "  </tbody>\n",
       "</table>\n",
       "<p>5629 rows × 13 columns</p>\n",
       "</div>"
      ],
      "text/plain": [
       "                                            Title  \\\n",
       "0                                  House for Sale   \n",
       "1                                  House for Sale   \n",
       "2                            4 BHK House for Sale   \n",
       "3                         Bungalow House for Sale   \n",
       "4                                  House for Rent   \n",
       "...                                           ...   \n",
       "5624         House For Rent In Chapali, Kathmandu   \n",
       "5625       House For Sale In Sitapaila, Kathmandu   \n",
       "5626  House For Sale In Budhanilkantha, Kathmandu   \n",
       "5627       House For Rent In Baneshwor, Kathmandu   \n",
       "5628       House For Sale In Baluwatar, Kathmandu   \n",
       "\n",
       "                                     Address         Price      Area  \\\n",
       "0                           Imadol, Lalitpur   Rs. 2.9 Cr   4.0 aana   \n",
       "1                        Satdobato, Lalitpur  Rs. 4.75 Cr   3.0 aana   \n",
       "2                           Imadol, Lalitpur  Rs. 1.99 Cr   2.3 aana   \n",
       "3                       Bhaisepati, Lalitpur     Rs. 4 Cr   7.0 aana   \n",
       "4                     Maharajgunj, Kathmandu  Rs. 12000000  6.0 aana   \n",
       "...                                      ...           ...       ...   \n",
       "5624             Bhangal, Chapali, Kathmandu        500000  1 Ropani   \n",
       "5625          Nagarjun, Sitapaila, Kathmandu      12000000  2.5 Aana   \n",
       "5626  Deuja Chowk, Budhanilkantha, Kathmandu      27000000    8 Aana   \n",
       "5627       Bhimsengola, Baneshwor, Kathmandu        300000   51 Aana   \n",
       "5628        Gocha marg, Baluwatar, Kathmandu      72500000   13 Aana   \n",
       "\n",
       "        Build Area     Road        Face  Floors  Bedroom  Bathroom      Year  \\\n",
       "0              NaN  12 Feet        West     3.0      5.0       4.0  2076 B.S   \n",
       "1              NaN  10 Feet        West     4.5      5.0       6.0  2076 B.S   \n",
       "2              NaN  10 Feet        West     2.5      4.0       4.0  2060 B.S   \n",
       "3              NaN  12 Feet  North-West     2.5      4.0       3.0  2059 B.S   \n",
       "4              NaN  20 Feet       South     2.0      4.0       4.0  2071 B.S   \n",
       "...            ...      ...         ...     ...      ...       ...       ...   \n",
       "5624  N/A Sq. Feet  16 Feet  North East     3.0      5.0       5.0       NaN   \n",
       "5625  N/A Sq. Feet  13 Feet  North East     2.0      4.0       2.0       NaN   \n",
       "5626  N/A Sq. Feet  12 Feet        East     2.0      5.0       3.0    2071.0   \n",
       "5627  N/A Sq. Feet  13 Feet       North     2.0      9.0       3.0       NaN   \n",
       "5628       13 Aana  12 Feet        East     3.0      5.0       2.0       NaN   \n",
       "\n",
       "                 Parking                                          Amenities  \n",
       "0     1 CaRs.  & 2 Bikes  ['Earthquake Resistant', 'Marbel', 'Parquet', ...  \n",
       "1     2 CaRs.  & 2 Bikes  ['Earthquake Resistant', 'Parquet', 'Drinking ...  \n",
       "2     1 CaRs.  & 3 Bikes  ['Earthquake Resistant', 'Marbel', 'Parquet', ...  \n",
       "3     4 CaRs.  & 4 Bikes  ['Earthquake Resistant', 'Marbel', 'Parquet', ...  \n",
       "4     4 CaRs.  & 5 Bikes  ['Earthquake Resistant', 'Parquet', 'Parking',...  \n",
       "...                  ...                                                ...  \n",
       "5624                   5  ['Balcony', 'Frontyard', 'Garden', 'Drainage',...  \n",
       "5625                   1  ['Balcony', 'Frontyard', 'Drainage', 'Water Su...  \n",
       "5626                   1  ['Balcony', 'Frontyard', 'Drainage', 'Water Su...  \n",
       "5627                   4  ['Drainage', 'Water Supply', 'Garden', 'Fronty...  \n",
       "5628                   5  ['Garage', 'Balcony', 'Frontyard', 'Drainage',...  \n",
       "\n",
       "[5629 rows x 13 columns]"
      ]
     },
     "execution_count": 22,
     "metadata": {},
     "output_type": "execute_result"
    }
   ],
   "source": [
    "house"
   ]
  },
  {
   "cell_type": "code",
   "execution_count": 23,
   "id": "3a57c367",
   "metadata": {},
   "outputs": [
    {
     "data": {
      "text/plain": [
       "(5629, 13)"
      ]
     },
     "execution_count": 23,
     "metadata": {},
     "output_type": "execute_result"
    }
   ],
   "source": [
    "house.shape"
   ]
  },
  {
   "cell_type": "code",
   "execution_count": 24,
   "id": "829f22d6",
   "metadata": {},
   "outputs": [
    {
     "name": "stdout",
     "output_type": "stream",
     "text": [
      "<class 'pandas.core.frame.DataFrame'>\n",
      "RangeIndex: 5629 entries, 0 to 5628\n",
      "Data columns (total 13 columns):\n",
      " #   Column      Non-Null Count  Dtype  \n",
      "---  ------      --------------  -----  \n",
      " 0   Title       5629 non-null   object \n",
      " 1   Address     5629 non-null   object \n",
      " 2   Price       5629 non-null   object \n",
      " 3   Area        5540 non-null   object \n",
      " 4   Build Area  2930 non-null   object \n",
      " 5   Road        5620 non-null   object \n",
      " 6   Face        5423 non-null   object \n",
      " 7   Floors      4362 non-null   float64\n",
      " 8   Bedroom     5347 non-null   float64\n",
      " 9   Bathroom    5283 non-null   float64\n",
      " 10  Year        3939 non-null   object \n",
      " 11  Parking     2843 non-null   object \n",
      " 12  Amenities   5629 non-null   object \n",
      "dtypes: float64(3), object(10)\n",
      "memory usage: 571.8+ KB\n"
     ]
    }
   ],
   "source": [
    "house.info()"
   ]
  },
  {
   "cell_type": "code",
   "execution_count": 25,
   "id": "240a37cb",
   "metadata": {},
   "outputs": [
    {
     "data": {
      "text/plain": [
       "(5629, 13)"
      ]
     },
     "execution_count": 25,
     "metadata": {},
     "output_type": "execute_result"
    }
   ],
   "source": [
    "house.shape"
   ]
  },
  {
   "cell_type": "code",
   "execution_count": 26,
   "id": "e8f69004",
   "metadata": {},
   "outputs": [],
   "source": [
    "house.to_csv('Housing.csv',index=False)"
   ]
  },
  {
   "cell_type": "code",
   "execution_count": null,
   "id": "48e5ffe5",
   "metadata": {},
   "outputs": [],
   "source": []
  },
  {
   "cell_type": "code",
   "execution_count": 27,
   "id": "1824c014",
   "metadata": {},
   "outputs": [
    {
     "data": {
      "text/html": [
       "<div>\n",
       "<style scoped>\n",
       "    .dataframe tbody tr th:only-of-type {\n",
       "        vertical-align: middle;\n",
       "    }\n",
       "\n",
       "    .dataframe tbody tr th {\n",
       "        vertical-align: top;\n",
       "    }\n",
       "\n",
       "    .dataframe thead th {\n",
       "        text-align: right;\n",
       "    }\n",
       "</style>\n",
       "<table border=\"1\" class=\"dataframe\">\n",
       "  <thead>\n",
       "    <tr style=\"text-align: right;\">\n",
       "      <th></th>\n",
       "      <th>Title</th>\n",
       "      <th>Address</th>\n",
       "      <th>Price</th>\n",
       "      <th>Area</th>\n",
       "      <th>Build Area</th>\n",
       "      <th>Road</th>\n",
       "      <th>Face</th>\n",
       "      <th>Floors</th>\n",
       "      <th>Bedroom</th>\n",
       "      <th>Bathroom</th>\n",
       "      <th>Year</th>\n",
       "      <th>Parking</th>\n",
       "      <th>Amenities</th>\n",
       "    </tr>\n",
       "  </thead>\n",
       "  <tbody>\n",
       "    <tr>\n",
       "      <th>0</th>\n",
       "      <td>House for Sale</td>\n",
       "      <td>Imadol, Lalitpur</td>\n",
       "      <td>Rs. 2.9 Cr</td>\n",
       "      <td>4.0 aana</td>\n",
       "      <td>NaN</td>\n",
       "      <td>12 Feet</td>\n",
       "      <td>West</td>\n",
       "      <td>3.0</td>\n",
       "      <td>5.0</td>\n",
       "      <td>4.0</td>\n",
       "      <td>2076 B.S</td>\n",
       "      <td>1 CaRs.  &amp; 2 Bikes</td>\n",
       "      <td>['Earthquake Resistant', 'Marbel', 'Parquet', ...</td>\n",
       "    </tr>\n",
       "    <tr>\n",
       "      <th>1</th>\n",
       "      <td>House for Sale</td>\n",
       "      <td>Satdobato, Lalitpur</td>\n",
       "      <td>Rs. 4.75 Cr</td>\n",
       "      <td>3.0 aana</td>\n",
       "      <td>NaN</td>\n",
       "      <td>10 Feet</td>\n",
       "      <td>West</td>\n",
       "      <td>4.5</td>\n",
       "      <td>5.0</td>\n",
       "      <td>6.0</td>\n",
       "      <td>2076 B.S</td>\n",
       "      <td>2 CaRs.  &amp; 2 Bikes</td>\n",
       "      <td>['Earthquake Resistant', 'Parquet', 'Drinking ...</td>\n",
       "    </tr>\n",
       "    <tr>\n",
       "      <th>2</th>\n",
       "      <td>4 BHK House for Sale</td>\n",
       "      <td>Imadol, Lalitpur</td>\n",
       "      <td>Rs. 1.99 Cr</td>\n",
       "      <td>2.3 aana</td>\n",
       "      <td>NaN</td>\n",
       "      <td>10 Feet</td>\n",
       "      <td>West</td>\n",
       "      <td>2.5</td>\n",
       "      <td>4.0</td>\n",
       "      <td>4.0</td>\n",
       "      <td>2060 B.S</td>\n",
       "      <td>1 CaRs.  &amp; 3 Bikes</td>\n",
       "      <td>['Earthquake Resistant', 'Marbel', 'Parquet', ...</td>\n",
       "    </tr>\n",
       "    <tr>\n",
       "      <th>3</th>\n",
       "      <td>Bungalow House for Sale</td>\n",
       "      <td>Bhaisepati, Lalitpur</td>\n",
       "      <td>Rs. 4 Cr</td>\n",
       "      <td>7.0 aana</td>\n",
       "      <td>NaN</td>\n",
       "      <td>12 Feet</td>\n",
       "      <td>North-West</td>\n",
       "      <td>2.5</td>\n",
       "      <td>4.0</td>\n",
       "      <td>3.0</td>\n",
       "      <td>2059 B.S</td>\n",
       "      <td>4 CaRs.  &amp; 4 Bikes</td>\n",
       "      <td>['Earthquake Resistant', 'Marbel', 'Parquet', ...</td>\n",
       "    </tr>\n",
       "    <tr>\n",
       "      <th>4</th>\n",
       "      <td>House for Rent</td>\n",
       "      <td>Maharajgunj, Kathmandu</td>\n",
       "      <td>Rs. 12000000</td>\n",
       "      <td>6.0 aana</td>\n",
       "      <td>NaN</td>\n",
       "      <td>20 Feet</td>\n",
       "      <td>South</td>\n",
       "      <td>2.0</td>\n",
       "      <td>4.0</td>\n",
       "      <td>4.0</td>\n",
       "      <td>2071 B.S</td>\n",
       "      <td>4 CaRs.  &amp; 5 Bikes</td>\n",
       "      <td>['Earthquake Resistant', 'Parquet', 'Parking',...</td>\n",
       "    </tr>\n",
       "    <tr>\n",
       "      <th>...</th>\n",
       "      <td>...</td>\n",
       "      <td>...</td>\n",
       "      <td>...</td>\n",
       "      <td>...</td>\n",
       "      <td>...</td>\n",
       "      <td>...</td>\n",
       "      <td>...</td>\n",
       "      <td>...</td>\n",
       "      <td>...</td>\n",
       "      <td>...</td>\n",
       "      <td>...</td>\n",
       "      <td>...</td>\n",
       "      <td>...</td>\n",
       "    </tr>\n",
       "    <tr>\n",
       "      <th>5622</th>\n",
       "      <td>House For Rent In Chapali, Kathmandu</td>\n",
       "      <td>Bhangal, Chapali, Kathmandu</td>\n",
       "      <td>500000</td>\n",
       "      <td>1 Ropani</td>\n",
       "      <td>N/A Sq. Feet</td>\n",
       "      <td>16 Feet</td>\n",
       "      <td>North East</td>\n",
       "      <td>3.0</td>\n",
       "      <td>5.0</td>\n",
       "      <td>5.0</td>\n",
       "      <td>NaN</td>\n",
       "      <td>5</td>\n",
       "      <td>['Balcony', 'Frontyard', 'Garden', 'Drainage',...</td>\n",
       "    </tr>\n",
       "    <tr>\n",
       "      <th>5623</th>\n",
       "      <td>House For Sale In Sitapaila, Kathmandu</td>\n",
       "      <td>Nagarjun, Sitapaila, Kathmandu</td>\n",
       "      <td>12000000</td>\n",
       "      <td>2.5 Aana</td>\n",
       "      <td>N/A Sq. Feet</td>\n",
       "      <td>13 Feet</td>\n",
       "      <td>North East</td>\n",
       "      <td>2.0</td>\n",
       "      <td>4.0</td>\n",
       "      <td>2.0</td>\n",
       "      <td>NaN</td>\n",
       "      <td>1</td>\n",
       "      <td>['Balcony', 'Frontyard', 'Drainage', 'Water Su...</td>\n",
       "    </tr>\n",
       "    <tr>\n",
       "      <th>5624</th>\n",
       "      <td>House For Sale In Budhanilkantha, Kathmandu</td>\n",
       "      <td>Deuja Chowk, Budhanilkantha, Kathmandu</td>\n",
       "      <td>27000000</td>\n",
       "      <td>8 Aana</td>\n",
       "      <td>N/A Sq. Feet</td>\n",
       "      <td>12 Feet</td>\n",
       "      <td>East</td>\n",
       "      <td>2.0</td>\n",
       "      <td>5.0</td>\n",
       "      <td>3.0</td>\n",
       "      <td>2071.0</td>\n",
       "      <td>1</td>\n",
       "      <td>['Balcony', 'Frontyard', 'Drainage', 'Water Su...</td>\n",
       "    </tr>\n",
       "    <tr>\n",
       "      <th>5625</th>\n",
       "      <td>House For Rent In Baneshwor, Kathmandu</td>\n",
       "      <td>Bhimsengola, Baneshwor, Kathmandu</td>\n",
       "      <td>300000</td>\n",
       "      <td>51 Aana</td>\n",
       "      <td>N/A Sq. Feet</td>\n",
       "      <td>13 Feet</td>\n",
       "      <td>North</td>\n",
       "      <td>2.0</td>\n",
       "      <td>9.0</td>\n",
       "      <td>3.0</td>\n",
       "      <td>NaN</td>\n",
       "      <td>4</td>\n",
       "      <td>['Drainage', 'Water Supply', 'Garden', 'Fronty...</td>\n",
       "    </tr>\n",
       "    <tr>\n",
       "      <th>5626</th>\n",
       "      <td>House For Sale In Baluwatar, Kathmandu</td>\n",
       "      <td>Gocha marg, Baluwatar, Kathmandu</td>\n",
       "      <td>72500000</td>\n",
       "      <td>13 Aana</td>\n",
       "      <td>13 Aana</td>\n",
       "      <td>12 Feet</td>\n",
       "      <td>East</td>\n",
       "      <td>3.0</td>\n",
       "      <td>5.0</td>\n",
       "      <td>2.0</td>\n",
       "      <td>NaN</td>\n",
       "      <td>5</td>\n",
       "      <td>['Garage', 'Balcony', 'Frontyard', 'Drainage',...</td>\n",
       "    </tr>\n",
       "  </tbody>\n",
       "</table>\n",
       "<p>5627 rows × 13 columns</p>\n",
       "</div>"
      ],
      "text/plain": [
       "                                            Title  \\\n",
       "0                                  House for Sale   \n",
       "1                                  House for Sale   \n",
       "2                            4 BHK House for Sale   \n",
       "3                         Bungalow House for Sale   \n",
       "4                                  House for Rent   \n",
       "...                                           ...   \n",
       "5622         House For Rent In Chapali, Kathmandu   \n",
       "5623       House For Sale In Sitapaila, Kathmandu   \n",
       "5624  House For Sale In Budhanilkantha, Kathmandu   \n",
       "5625       House For Rent In Baneshwor, Kathmandu   \n",
       "5626       House For Sale In Baluwatar, Kathmandu   \n",
       "\n",
       "                                     Address         Price      Area  \\\n",
       "0                           Imadol, Lalitpur   Rs. 2.9 Cr   4.0 aana   \n",
       "1                        Satdobato, Lalitpur  Rs. 4.75 Cr   3.0 aana   \n",
       "2                           Imadol, Lalitpur  Rs. 1.99 Cr   2.3 aana   \n",
       "3                       Bhaisepati, Lalitpur     Rs. 4 Cr   7.0 aana   \n",
       "4                     Maharajgunj, Kathmandu  Rs. 12000000  6.0 aana   \n",
       "...                                      ...           ...       ...   \n",
       "5622             Bhangal, Chapali, Kathmandu        500000  1 Ropani   \n",
       "5623          Nagarjun, Sitapaila, Kathmandu      12000000  2.5 Aana   \n",
       "5624  Deuja Chowk, Budhanilkantha, Kathmandu      27000000    8 Aana   \n",
       "5625       Bhimsengola, Baneshwor, Kathmandu        300000   51 Aana   \n",
       "5626        Gocha marg, Baluwatar, Kathmandu      72500000   13 Aana   \n",
       "\n",
       "        Build Area     Road        Face  Floors  Bedroom  Bathroom      Year  \\\n",
       "0              NaN  12 Feet        West     3.0      5.0       4.0  2076 B.S   \n",
       "1              NaN  10 Feet        West     4.5      5.0       6.0  2076 B.S   \n",
       "2              NaN  10 Feet        West     2.5      4.0       4.0  2060 B.S   \n",
       "3              NaN  12 Feet  North-West     2.5      4.0       3.0  2059 B.S   \n",
       "4              NaN  20 Feet       South     2.0      4.0       4.0  2071 B.S   \n",
       "...            ...      ...         ...     ...      ...       ...       ...   \n",
       "5622  N/A Sq. Feet  16 Feet  North East     3.0      5.0       5.0       NaN   \n",
       "5623  N/A Sq. Feet  13 Feet  North East     2.0      4.0       2.0       NaN   \n",
       "5624  N/A Sq. Feet  12 Feet        East     2.0      5.0       3.0    2071.0   \n",
       "5625  N/A Sq. Feet  13 Feet       North     2.0      9.0       3.0       NaN   \n",
       "5626       13 Aana  12 Feet        East     3.0      5.0       2.0       NaN   \n",
       "\n",
       "                 Parking                                          Amenities  \n",
       "0     1 CaRs.  & 2 Bikes  ['Earthquake Resistant', 'Marbel', 'Parquet', ...  \n",
       "1     2 CaRs.  & 2 Bikes  ['Earthquake Resistant', 'Parquet', 'Drinking ...  \n",
       "2     1 CaRs.  & 3 Bikes  ['Earthquake Resistant', 'Marbel', 'Parquet', ...  \n",
       "3     4 CaRs.  & 4 Bikes  ['Earthquake Resistant', 'Marbel', 'Parquet', ...  \n",
       "4     4 CaRs.  & 5 Bikes  ['Earthquake Resistant', 'Parquet', 'Parking',...  \n",
       "...                  ...                                                ...  \n",
       "5622                   5  ['Balcony', 'Frontyard', 'Garden', 'Drainage',...  \n",
       "5623                   1  ['Balcony', 'Frontyard', 'Drainage', 'Water Su...  \n",
       "5624                   1  ['Balcony', 'Frontyard', 'Drainage', 'Water Su...  \n",
       "5625                   4  ['Drainage', 'Water Supply', 'Garden', 'Fronty...  \n",
       "5626                   5  ['Garage', 'Balcony', 'Frontyard', 'Drainage',...  \n",
       "\n",
       "[5627 rows x 13 columns]"
      ]
     },
     "execution_count": 27,
     "metadata": {},
     "output_type": "execute_result"
    }
   ],
   "source": [
    "house.drop_duplicates(keep='first',inplace=False,ignore_index=True)"
   ]
  },
  {
   "cell_type": "code",
   "execution_count": 28,
   "id": "12725005",
   "metadata": {},
   "outputs": [
    {
     "data": {
      "text/plain": [
       "(5629, 13)"
      ]
     },
     "execution_count": 28,
     "metadata": {},
     "output_type": "execute_result"
    }
   ],
   "source": [
    "house.shape"
   ]
  },
  {
   "cell_type": "code",
   "execution_count": 29,
   "id": "1236af7a",
   "metadata": {},
   "outputs": [
    {
     "name": "stdout",
     "output_type": "stream",
     "text": [
      "<class 'pandas.core.frame.DataFrame'>\n",
      "RangeIndex: 5629 entries, 0 to 5628\n",
      "Data columns (total 13 columns):\n",
      " #   Column      Non-Null Count  Dtype  \n",
      "---  ------      --------------  -----  \n",
      " 0   Title       5629 non-null   object \n",
      " 1   Address     5629 non-null   object \n",
      " 2   Price       5629 non-null   object \n",
      " 3   Area        5540 non-null   object \n",
      " 4   Build Area  2930 non-null   object \n",
      " 5   Road        5620 non-null   object \n",
      " 6   Face        5423 non-null   object \n",
      " 7   Floors      4362 non-null   float64\n",
      " 8   Bedroom     5347 non-null   float64\n",
      " 9   Bathroom    5283 non-null   float64\n",
      " 10  Year        3939 non-null   object \n",
      " 11  Parking     2843 non-null   object \n",
      " 12  Amenities   5629 non-null   object \n",
      "dtypes: float64(3), object(10)\n",
      "memory usage: 571.8+ KB\n"
     ]
    }
   ],
   "source": [
    "house.info()"
   ]
  },
  {
   "cell_type": "code",
   "execution_count": 30,
   "id": "da714c11",
   "metadata": {},
   "outputs": [
    {
     "data": {
      "text/plain": [
       "array(['Imadol, Lalitpur', 'Satdobato, Lalitpur', 'Bhaisepati, Lalitpur',\n",
       "       ..., 'Deuja Chowk, Budhanilkantha, Kathmandu',\n",
       "       'Bhimsengola, Baneshwor, Kathmandu',\n",
       "       'Gocha marg, Baluwatar, Kathmandu'], dtype=object)"
      ]
     },
     "execution_count": 30,
     "metadata": {},
     "output_type": "execute_result"
    }
   ],
   "source": [
    "house.Address.unique()"
   ]
  },
  {
   "cell_type": "code",
   "execution_count": 31,
   "id": "d40e0e00",
   "metadata": {},
   "outputs": [
    {
     "data": {
      "text/plain": [
       "2102"
      ]
     },
     "execution_count": 31,
     "metadata": {},
     "output_type": "execute_result"
    }
   ],
   "source": [
    "len(house.Address.unique())"
   ]
  },
  {
   "cell_type": "code",
   "execution_count": 32,
   "id": "0cd017f9",
   "metadata": {},
   "outputs": [
    {
     "data": {
      "text/plain": [
       "Imadol, Lalitpur                                                          234\n",
       "Bhaisepati, Lalitpur                                                      231\n",
       "Budhanilkantha, Kathmandu                                                 192\n",
       "Dhapasi, Kathmandu                                                         74\n",
       "Kapan, Kathmandu                                                           56\n",
       "                                                                         ... \n",
       "Bishalnagar, Hadigaun, Kathmandu                                            1\n",
       "Bhangal sangyukta buspark , budhanilkantha, Budhanilkantha, Kathmandu       1\n",
       "Rudreshwor, Budhanilkantha, (road - 20 Ft.), Budhanilkantha, Kathmandu      1\n",
       "Greenland, Tokha, Kathmandu                                                 1\n",
       "Gocha marg, Baluwatar, Kathmandu                                            1\n",
       "Name: Address, Length: 2102, dtype: int64"
      ]
     },
     "execution_count": 32,
     "metadata": {},
     "output_type": "execute_result"
    }
   ],
   "source": [
    "house.Address.value_counts()"
   ]
  },
  {
   "cell_type": "code",
   "execution_count": 33,
   "id": "6fec0085",
   "metadata": {},
   "outputs": [
    {
     "data": {
      "text/html": [
       "<div>\n",
       "<style scoped>\n",
       "    .dataframe tbody tr th:only-of-type {\n",
       "        vertical-align: middle;\n",
       "    }\n",
       "\n",
       "    .dataframe tbody tr th {\n",
       "        vertical-align: top;\n",
       "    }\n",
       "\n",
       "    .dataframe thead th {\n",
       "        text-align: right;\n",
       "    }\n",
       "</style>\n",
       "<table border=\"1\" class=\"dataframe\">\n",
       "  <thead>\n",
       "    <tr style=\"text-align: right;\">\n",
       "      <th></th>\n",
       "      <th>Floors</th>\n",
       "      <th>Bedroom</th>\n",
       "      <th>Bathroom</th>\n",
       "    </tr>\n",
       "  </thead>\n",
       "  <tbody>\n",
       "    <tr>\n",
       "      <th>count</th>\n",
       "      <td>4362.000000</td>\n",
       "      <td>5347.000000</td>\n",
       "      <td>5283.000000</td>\n",
       "    </tr>\n",
       "    <tr>\n",
       "      <th>mean</th>\n",
       "      <td>2.705582</td>\n",
       "      <td>4.296241</td>\n",
       "      <td>3.218247</td>\n",
       "    </tr>\n",
       "    <tr>\n",
       "      <th>std</th>\n",
       "      <td>0.887178</td>\n",
       "      <td>3.839580</td>\n",
       "      <td>2.893521</td>\n",
       "    </tr>\n",
       "    <tr>\n",
       "      <th>min</th>\n",
       "      <td>0.000000</td>\n",
       "      <td>0.000000</td>\n",
       "      <td>0.000000</td>\n",
       "    </tr>\n",
       "    <tr>\n",
       "      <th>25%</th>\n",
       "      <td>2.500000</td>\n",
       "      <td>2.000000</td>\n",
       "      <td>1.000000</td>\n",
       "    </tr>\n",
       "    <tr>\n",
       "      <th>50%</th>\n",
       "      <td>2.500000</td>\n",
       "      <td>4.000000</td>\n",
       "      <td>4.000000</td>\n",
       "    </tr>\n",
       "    <tr>\n",
       "      <th>75%</th>\n",
       "      <td>3.000000</td>\n",
       "      <td>6.000000</td>\n",
       "      <td>4.000000</td>\n",
       "    </tr>\n",
       "    <tr>\n",
       "      <th>max</th>\n",
       "      <td>13.000000</td>\n",
       "      <td>100.000000</td>\n",
       "      <td>100.000000</td>\n",
       "    </tr>\n",
       "  </tbody>\n",
       "</table>\n",
       "</div>"
      ],
      "text/plain": [
       "            Floors      Bedroom     Bathroom\n",
       "count  4362.000000  5347.000000  5283.000000\n",
       "mean      2.705582     4.296241     3.218247\n",
       "std       0.887178     3.839580     2.893521\n",
       "min       0.000000     0.000000     0.000000\n",
       "25%       2.500000     2.000000     1.000000\n",
       "50%       2.500000     4.000000     4.000000\n",
       "75%       3.000000     6.000000     4.000000\n",
       "max      13.000000   100.000000   100.000000"
      ]
     },
     "execution_count": 33,
     "metadata": {},
     "output_type": "execute_result"
    }
   ],
   "source": [
    "house.describe()"
   ]
  },
  {
   "cell_type": "code",
   "execution_count": 34,
   "id": "99fb9def",
   "metadata": {},
   "outputs": [
    {
     "data": {
      "text/html": [
       "<div>\n",
       "<style scoped>\n",
       "    .dataframe tbody tr th:only-of-type {\n",
       "        vertical-align: middle;\n",
       "    }\n",
       "\n",
       "    .dataframe tbody tr th {\n",
       "        vertical-align: top;\n",
       "    }\n",
       "\n",
       "    .dataframe thead th {\n",
       "        text-align: right;\n",
       "    }\n",
       "</style>\n",
       "<table border=\"1\" class=\"dataframe\">\n",
       "  <thead>\n",
       "    <tr style=\"text-align: right;\">\n",
       "      <th></th>\n",
       "      <th>Title</th>\n",
       "      <th>Address</th>\n",
       "      <th>Price</th>\n",
       "      <th>Area</th>\n",
       "      <th>Build Area</th>\n",
       "      <th>Road</th>\n",
       "      <th>Face</th>\n",
       "      <th>Floors</th>\n",
       "      <th>Bedroom</th>\n",
       "      <th>Bathroom</th>\n",
       "      <th>Year</th>\n",
       "      <th>Parking</th>\n",
       "      <th>Amenities</th>\n",
       "    </tr>\n",
       "  </thead>\n",
       "  <tbody>\n",
       "    <tr>\n",
       "      <th>0</th>\n",
       "      <td>House for Sale</td>\n",
       "      <td>Imadol, Lalitpur</td>\n",
       "      <td>Rs. 2.9 Cr</td>\n",
       "      <td>4.0 aana</td>\n",
       "      <td>NaN</td>\n",
       "      <td>12 Feet</td>\n",
       "      <td>West</td>\n",
       "      <td>3.0</td>\n",
       "      <td>5.0</td>\n",
       "      <td>4.0</td>\n",
       "      <td>2076 B.S</td>\n",
       "      <td>1 CaRs.  &amp; 2 Bikes</td>\n",
       "      <td>['Earthquake Resistant', 'Marbel', 'Parquet', ...</td>\n",
       "    </tr>\n",
       "    <tr>\n",
       "      <th>1</th>\n",
       "      <td>House for Sale</td>\n",
       "      <td>Satdobato, Lalitpur</td>\n",
       "      <td>Rs. 4.75 Cr</td>\n",
       "      <td>3.0 aana</td>\n",
       "      <td>NaN</td>\n",
       "      <td>10 Feet</td>\n",
       "      <td>West</td>\n",
       "      <td>4.5</td>\n",
       "      <td>5.0</td>\n",
       "      <td>6.0</td>\n",
       "      <td>2076 B.S</td>\n",
       "      <td>2 CaRs.  &amp; 2 Bikes</td>\n",
       "      <td>['Earthquake Resistant', 'Parquet', 'Drinking ...</td>\n",
       "    </tr>\n",
       "    <tr>\n",
       "      <th>2</th>\n",
       "      <td>4 BHK House for Sale</td>\n",
       "      <td>Imadol, Lalitpur</td>\n",
       "      <td>Rs. 1.99 Cr</td>\n",
       "      <td>2.3 aana</td>\n",
       "      <td>NaN</td>\n",
       "      <td>10 Feet</td>\n",
       "      <td>West</td>\n",
       "      <td>2.5</td>\n",
       "      <td>4.0</td>\n",
       "      <td>4.0</td>\n",
       "      <td>2060 B.S</td>\n",
       "      <td>1 CaRs.  &amp; 3 Bikes</td>\n",
       "      <td>['Earthquake Resistant', 'Marbel', 'Parquet', ...</td>\n",
       "    </tr>\n",
       "    <tr>\n",
       "      <th>3</th>\n",
       "      <td>Bungalow House for Sale</td>\n",
       "      <td>Bhaisepati, Lalitpur</td>\n",
       "      <td>Rs. 4 Cr</td>\n",
       "      <td>7.0 aana</td>\n",
       "      <td>NaN</td>\n",
       "      <td>12 Feet</td>\n",
       "      <td>North-West</td>\n",
       "      <td>2.5</td>\n",
       "      <td>4.0</td>\n",
       "      <td>3.0</td>\n",
       "      <td>2059 B.S</td>\n",
       "      <td>4 CaRs.  &amp; 4 Bikes</td>\n",
       "      <td>['Earthquake Resistant', 'Marbel', 'Parquet', ...</td>\n",
       "    </tr>\n",
       "    <tr>\n",
       "      <th>4</th>\n",
       "      <td>House for Rent</td>\n",
       "      <td>Maharajgunj, Kathmandu</td>\n",
       "      <td>Rs. 12000000</td>\n",
       "      <td>6.0 aana</td>\n",
       "      <td>NaN</td>\n",
       "      <td>20 Feet</td>\n",
       "      <td>South</td>\n",
       "      <td>2.0</td>\n",
       "      <td>4.0</td>\n",
       "      <td>4.0</td>\n",
       "      <td>2071 B.S</td>\n",
       "      <td>4 CaRs.  &amp; 5 Bikes</td>\n",
       "      <td>['Earthquake Resistant', 'Parquet', 'Parking',...</td>\n",
       "    </tr>\n",
       "    <tr>\n",
       "      <th>...</th>\n",
       "      <td>...</td>\n",
       "      <td>...</td>\n",
       "      <td>...</td>\n",
       "      <td>...</td>\n",
       "      <td>...</td>\n",
       "      <td>...</td>\n",
       "      <td>...</td>\n",
       "      <td>...</td>\n",
       "      <td>...</td>\n",
       "      <td>...</td>\n",
       "      <td>...</td>\n",
       "      <td>...</td>\n",
       "      <td>...</td>\n",
       "    </tr>\n",
       "    <tr>\n",
       "      <th>5624</th>\n",
       "      <td>House For Rent In Chapali, Kathmandu</td>\n",
       "      <td>Bhangal, Chapali, Kathmandu</td>\n",
       "      <td>500000</td>\n",
       "      <td>1 Ropani</td>\n",
       "      <td>N/A Sq. Feet</td>\n",
       "      <td>16 Feet</td>\n",
       "      <td>North East</td>\n",
       "      <td>3.0</td>\n",
       "      <td>5.0</td>\n",
       "      <td>5.0</td>\n",
       "      <td>NaN</td>\n",
       "      <td>5</td>\n",
       "      <td>['Balcony', 'Frontyard', 'Garden', 'Drainage',...</td>\n",
       "    </tr>\n",
       "    <tr>\n",
       "      <th>5625</th>\n",
       "      <td>House For Sale In Sitapaila, Kathmandu</td>\n",
       "      <td>Nagarjun, Sitapaila, Kathmandu</td>\n",
       "      <td>12000000</td>\n",
       "      <td>2.5 Aana</td>\n",
       "      <td>N/A Sq. Feet</td>\n",
       "      <td>13 Feet</td>\n",
       "      <td>North East</td>\n",
       "      <td>2.0</td>\n",
       "      <td>4.0</td>\n",
       "      <td>2.0</td>\n",
       "      <td>NaN</td>\n",
       "      <td>1</td>\n",
       "      <td>['Balcony', 'Frontyard', 'Drainage', 'Water Su...</td>\n",
       "    </tr>\n",
       "    <tr>\n",
       "      <th>5626</th>\n",
       "      <td>House For Sale In Budhanilkantha, Kathmandu</td>\n",
       "      <td>Deuja Chowk, Budhanilkantha, Kathmandu</td>\n",
       "      <td>27000000</td>\n",
       "      <td>8 Aana</td>\n",
       "      <td>N/A Sq. Feet</td>\n",
       "      <td>12 Feet</td>\n",
       "      <td>East</td>\n",
       "      <td>2.0</td>\n",
       "      <td>5.0</td>\n",
       "      <td>3.0</td>\n",
       "      <td>2071.0</td>\n",
       "      <td>1</td>\n",
       "      <td>['Balcony', 'Frontyard', 'Drainage', 'Water Su...</td>\n",
       "    </tr>\n",
       "    <tr>\n",
       "      <th>5627</th>\n",
       "      <td>House For Rent In Baneshwor, Kathmandu</td>\n",
       "      <td>Bhimsengola, Baneshwor, Kathmandu</td>\n",
       "      <td>300000</td>\n",
       "      <td>51 Aana</td>\n",
       "      <td>N/A Sq. Feet</td>\n",
       "      <td>13 Feet</td>\n",
       "      <td>North</td>\n",
       "      <td>2.0</td>\n",
       "      <td>9.0</td>\n",
       "      <td>3.0</td>\n",
       "      <td>NaN</td>\n",
       "      <td>4</td>\n",
       "      <td>['Drainage', 'Water Supply', 'Garden', 'Fronty...</td>\n",
       "    </tr>\n",
       "    <tr>\n",
       "      <th>5628</th>\n",
       "      <td>House For Sale In Baluwatar, Kathmandu</td>\n",
       "      <td>Gocha marg, Baluwatar, Kathmandu</td>\n",
       "      <td>72500000</td>\n",
       "      <td>13 Aana</td>\n",
       "      <td>13 Aana</td>\n",
       "      <td>12 Feet</td>\n",
       "      <td>East</td>\n",
       "      <td>3.0</td>\n",
       "      <td>5.0</td>\n",
       "      <td>2.0</td>\n",
       "      <td>NaN</td>\n",
       "      <td>5</td>\n",
       "      <td>['Garage', 'Balcony', 'Frontyard', 'Drainage',...</td>\n",
       "    </tr>\n",
       "  </tbody>\n",
       "</table>\n",
       "<p>5629 rows × 13 columns</p>\n",
       "</div>"
      ],
      "text/plain": [
       "                                            Title  \\\n",
       "0                                  House for Sale   \n",
       "1                                  House for Sale   \n",
       "2                            4 BHK House for Sale   \n",
       "3                         Bungalow House for Sale   \n",
       "4                                  House for Rent   \n",
       "...                                           ...   \n",
       "5624         House For Rent In Chapali, Kathmandu   \n",
       "5625       House For Sale In Sitapaila, Kathmandu   \n",
       "5626  House For Sale In Budhanilkantha, Kathmandu   \n",
       "5627       House For Rent In Baneshwor, Kathmandu   \n",
       "5628       House For Sale In Baluwatar, Kathmandu   \n",
       "\n",
       "                                     Address         Price      Area  \\\n",
       "0                           Imadol, Lalitpur   Rs. 2.9 Cr   4.0 aana   \n",
       "1                        Satdobato, Lalitpur  Rs. 4.75 Cr   3.0 aana   \n",
       "2                           Imadol, Lalitpur  Rs. 1.99 Cr   2.3 aana   \n",
       "3                       Bhaisepati, Lalitpur     Rs. 4 Cr   7.0 aana   \n",
       "4                     Maharajgunj, Kathmandu  Rs. 12000000  6.0 aana   \n",
       "...                                      ...           ...       ...   \n",
       "5624             Bhangal, Chapali, Kathmandu        500000  1 Ropani   \n",
       "5625          Nagarjun, Sitapaila, Kathmandu      12000000  2.5 Aana   \n",
       "5626  Deuja Chowk, Budhanilkantha, Kathmandu      27000000    8 Aana   \n",
       "5627       Bhimsengola, Baneshwor, Kathmandu        300000   51 Aana   \n",
       "5628        Gocha marg, Baluwatar, Kathmandu      72500000   13 Aana   \n",
       "\n",
       "        Build Area     Road        Face  Floors  Bedroom  Bathroom      Year  \\\n",
       "0              NaN  12 Feet        West     3.0      5.0       4.0  2076 B.S   \n",
       "1              NaN  10 Feet        West     4.5      5.0       6.0  2076 B.S   \n",
       "2              NaN  10 Feet        West     2.5      4.0       4.0  2060 B.S   \n",
       "3              NaN  12 Feet  North-West     2.5      4.0       3.0  2059 B.S   \n",
       "4              NaN  20 Feet       South     2.0      4.0       4.0  2071 B.S   \n",
       "...            ...      ...         ...     ...      ...       ...       ...   \n",
       "5624  N/A Sq. Feet  16 Feet  North East     3.0      5.0       5.0       NaN   \n",
       "5625  N/A Sq. Feet  13 Feet  North East     2.0      4.0       2.0       NaN   \n",
       "5626  N/A Sq. Feet  12 Feet        East     2.0      5.0       3.0    2071.0   \n",
       "5627  N/A Sq. Feet  13 Feet       North     2.0      9.0       3.0       NaN   \n",
       "5628       13 Aana  12 Feet        East     3.0      5.0       2.0       NaN   \n",
       "\n",
       "                 Parking                                          Amenities  \n",
       "0     1 CaRs.  & 2 Bikes  ['Earthquake Resistant', 'Marbel', 'Parquet', ...  \n",
       "1     2 CaRs.  & 2 Bikes  ['Earthquake Resistant', 'Parquet', 'Drinking ...  \n",
       "2     1 CaRs.  & 3 Bikes  ['Earthquake Resistant', 'Marbel', 'Parquet', ...  \n",
       "3     4 CaRs.  & 4 Bikes  ['Earthquake Resistant', 'Marbel', 'Parquet', ...  \n",
       "4     4 CaRs.  & 5 Bikes  ['Earthquake Resistant', 'Parquet', 'Parking',...  \n",
       "...                  ...                                                ...  \n",
       "5624                   5  ['Balcony', 'Frontyard', 'Garden', 'Drainage',...  \n",
       "5625                   1  ['Balcony', 'Frontyard', 'Drainage', 'Water Su...  \n",
       "5626                   1  ['Balcony', 'Frontyard', 'Drainage', 'Water Su...  \n",
       "5627                   4  ['Drainage', 'Water Supply', 'Garden', 'Fronty...  \n",
       "5628                   5  ['Garage', 'Balcony', 'Frontyard', 'Drainage',...  \n",
       "\n",
       "[5629 rows x 13 columns]"
      ]
     },
     "execution_count": 34,
     "metadata": {},
     "output_type": "execute_result"
    }
   ],
   "source": [
    "house"
   ]
  },
  {
   "cell_type": "code",
   "execution_count": 35,
   "id": "f73a9458",
   "metadata": {},
   "outputs": [
    {
     "data": {
      "text/plain": [
       "(5629, 13)"
      ]
     },
     "execution_count": 35,
     "metadata": {},
     "output_type": "execute_result"
    }
   ],
   "source": [
    "house.shape"
   ]
  },
  {
   "cell_type": "code",
   "execution_count": 36,
   "id": "7652178b",
   "metadata": {},
   "outputs": [],
   "source": [
    "house = house[['Title','Address','Price','Area','Floors','Bedroom','Bathroom']]"
   ]
  },
  {
   "cell_type": "code",
   "execution_count": 37,
   "id": "2135ea47",
   "metadata": {},
   "outputs": [
    {
     "data": {
      "text/plain": [
       "(5629, 7)"
      ]
     },
     "execution_count": 37,
     "metadata": {},
     "output_type": "execute_result"
    }
   ],
   "source": [
    "house.shape"
   ]
  },
  {
   "cell_type": "code",
   "execution_count": 38,
   "id": "f8ad57ec",
   "metadata": {},
   "outputs": [
    {
     "data": {
      "text/plain": [
       "Title          0\n",
       "Address        0\n",
       "Price          0\n",
       "Area          89\n",
       "Floors      1267\n",
       "Bedroom      282\n",
       "Bathroom     346\n",
       "dtype: int64"
      ]
     },
     "execution_count": 38,
     "metadata": {},
     "output_type": "execute_result"
    }
   ],
   "source": [
    "house.isnull().sum()"
   ]
  },
  {
   "cell_type": "code",
   "execution_count": 39,
   "id": "ea8493c4",
   "metadata": {},
   "outputs": [
    {
     "name": "stderr",
     "output_type": "stream",
     "text": [
      "C:\\Users\\Dell\\AppData\\Local\\Temp\\ipykernel_1940\\3485570238.py:1: SettingWithCopyWarning: \n",
      "A value is trying to be set on a copy of a slice from a DataFrame\n",
      "\n",
      "See the caveats in the documentation: https://pandas.pydata.org/pandas-docs/stable/user_guide/indexing.html#returning-a-view-versus-a-copy\n",
      "  house.dropna(inplace=True)\n"
     ]
    }
   ],
   "source": [
    "house.dropna(inplace=True)"
   ]
  },
  {
   "cell_type": "code",
   "execution_count": 40,
   "id": "67b787d8",
   "metadata": {},
   "outputs": [
    {
     "data": {
      "text/plain": [
       "6"
      ]
     },
     "execution_count": 40,
     "metadata": {},
     "output_type": "execute_result"
    }
   ],
   "source": [
    "house.duplicated().sum()"
   ]
  },
  {
   "cell_type": "code",
   "execution_count": 41,
   "id": "aeb1cbc4",
   "metadata": {},
   "outputs": [],
   "source": [
    "house = house.drop_duplicates(keep='first')"
   ]
  },
  {
   "cell_type": "code",
   "execution_count": 42,
   "id": "2ccfa72b",
   "metadata": {},
   "outputs": [
    {
     "data": {
      "text/plain": [
       "(4003, 7)"
      ]
     },
     "execution_count": 42,
     "metadata": {},
     "output_type": "execute_result"
    }
   ],
   "source": [
    "house.shape"
   ]
  },
  {
   "cell_type": "code",
   "execution_count": 43,
   "id": "a7de75e7",
   "metadata": {},
   "outputs": [
    {
     "name": "stdout",
     "output_type": "stream",
     "text": [
      "<class 'pandas.core.frame.DataFrame'>\n",
      "Int64Index: 4003 entries, 0 to 5628\n",
      "Data columns (total 7 columns):\n",
      " #   Column    Non-Null Count  Dtype  \n",
      "---  ------    --------------  -----  \n",
      " 0   Title     4003 non-null   object \n",
      " 1   Address   4003 non-null   object \n",
      " 2   Price     4003 non-null   object \n",
      " 3   Area      4003 non-null   object \n",
      " 4   Floors    4003 non-null   float64\n",
      " 5   Bedroom   4003 non-null   float64\n",
      " 6   Bathroom  4003 non-null   float64\n",
      "dtypes: float64(3), object(4)\n",
      "memory usage: 250.2+ KB\n"
     ]
    }
   ],
   "source": [
    "house.info()"
   ]
  },
  {
   "cell_type": "code",
   "execution_count": 44,
   "id": "7d925000",
   "metadata": {},
   "outputs": [
    {
     "data": {
      "text/plain": [
       "Title       0\n",
       "Address     0\n",
       "Price       0\n",
       "Area        0\n",
       "Floors      0\n",
       "Bedroom     0\n",
       "Bathroom    0\n",
       "dtype: int64"
      ]
     },
     "execution_count": 44,
     "metadata": {},
     "output_type": "execute_result"
    }
   ],
   "source": [
    "house.isnull().sum()"
   ]
  },
  {
   "cell_type": "code",
   "execution_count": null,
   "id": "821b53b8",
   "metadata": {},
   "outputs": [],
   "source": []
  },
  {
   "cell_type": "code",
   "execution_count": 45,
   "id": "168d0025",
   "metadata": {},
   "outputs": [
    {
     "name": "stderr",
     "output_type": "stream",
     "text": [
      "C:\\Users\\Dell\\AppData\\Local\\Temp\\ipykernel_1940\\3520698225.py:1: FutureWarning: The default value of regex will change from True to False in a future version.\n",
      "  house['Price'] = house['Price'].str.replace('Rs.','')\n"
     ]
    }
   ],
   "source": [
    "house['Price'] = house['Price'].str.replace('Rs.','')"
   ]
  },
  {
   "cell_type": "code",
   "execution_count": 46,
   "id": "1111665a",
   "metadata": {},
   "outputs": [],
   "source": [
    "house['Price'] = house['Price'].str.replace('Cr','')"
   ]
  },
  {
   "cell_type": "code",
   "execution_count": 47,
   "id": "6a5cb0f4",
   "metadata": {},
   "outputs": [
    {
     "data": {
      "text/html": [
       "<div>\n",
       "<style scoped>\n",
       "    .dataframe tbody tr th:only-of-type {\n",
       "        vertical-align: middle;\n",
       "    }\n",
       "\n",
       "    .dataframe tbody tr th {\n",
       "        vertical-align: top;\n",
       "    }\n",
       "\n",
       "    .dataframe thead th {\n",
       "        text-align: right;\n",
       "    }\n",
       "</style>\n",
       "<table border=\"1\" class=\"dataframe\">\n",
       "  <thead>\n",
       "    <tr style=\"text-align: right;\">\n",
       "      <th></th>\n",
       "      <th>Title</th>\n",
       "      <th>Address</th>\n",
       "      <th>Price</th>\n",
       "      <th>Area</th>\n",
       "      <th>Floors</th>\n",
       "      <th>Bedroom</th>\n",
       "      <th>Bathroom</th>\n",
       "    </tr>\n",
       "  </thead>\n",
       "  <tbody>\n",
       "    <tr>\n",
       "      <th>0</th>\n",
       "      <td>House for Sale</td>\n",
       "      <td>Imadol, Lalitpur</td>\n",
       "      <td>2.9</td>\n",
       "      <td>4.0 aana</td>\n",
       "      <td>3.0</td>\n",
       "      <td>5.0</td>\n",
       "      <td>4.0</td>\n",
       "    </tr>\n",
       "    <tr>\n",
       "      <th>1</th>\n",
       "      <td>House for Sale</td>\n",
       "      <td>Satdobato, Lalitpur</td>\n",
       "      <td>4.75</td>\n",
       "      <td>3.0 aana</td>\n",
       "      <td>4.5</td>\n",
       "      <td>5.0</td>\n",
       "      <td>6.0</td>\n",
       "    </tr>\n",
       "    <tr>\n",
       "      <th>2</th>\n",
       "      <td>4 BHK House for Sale</td>\n",
       "      <td>Imadol, Lalitpur</td>\n",
       "      <td>1.99</td>\n",
       "      <td>2.3 aana</td>\n",
       "      <td>2.5</td>\n",
       "      <td>4.0</td>\n",
       "      <td>4.0</td>\n",
       "    </tr>\n",
       "    <tr>\n",
       "      <th>3</th>\n",
       "      <td>Bungalow House for Sale</td>\n",
       "      <td>Bhaisepati, Lalitpur</td>\n",
       "      <td>4</td>\n",
       "      <td>7.0 aana</td>\n",
       "      <td>2.5</td>\n",
       "      <td>4.0</td>\n",
       "      <td>3.0</td>\n",
       "    </tr>\n",
       "    <tr>\n",
       "      <th>4</th>\n",
       "      <td>House for Rent</td>\n",
       "      <td>Maharajgunj, Kathmandu</td>\n",
       "      <td>12000000</td>\n",
       "      <td>6.0 aana</td>\n",
       "      <td>2.0</td>\n",
       "      <td>4.0</td>\n",
       "      <td>4.0</td>\n",
       "    </tr>\n",
       "    <tr>\n",
       "      <th>...</th>\n",
       "      <td>...</td>\n",
       "      <td>...</td>\n",
       "      <td>...</td>\n",
       "      <td>...</td>\n",
       "      <td>...</td>\n",
       "      <td>...</td>\n",
       "      <td>...</td>\n",
       "    </tr>\n",
       "    <tr>\n",
       "      <th>5624</th>\n",
       "      <td>House For Rent In Chapali, Kathmandu</td>\n",
       "      <td>Bhangal, Chapali, Kathmandu</td>\n",
       "      <td>NaN</td>\n",
       "      <td>1 Ropani</td>\n",
       "      <td>3.0</td>\n",
       "      <td>5.0</td>\n",
       "      <td>5.0</td>\n",
       "    </tr>\n",
       "    <tr>\n",
       "      <th>5625</th>\n",
       "      <td>House For Sale In Sitapaila, Kathmandu</td>\n",
       "      <td>Nagarjun, Sitapaila, Kathmandu</td>\n",
       "      <td>NaN</td>\n",
       "      <td>2.5 Aana</td>\n",
       "      <td>2.0</td>\n",
       "      <td>4.0</td>\n",
       "      <td>2.0</td>\n",
       "    </tr>\n",
       "    <tr>\n",
       "      <th>5626</th>\n",
       "      <td>House For Sale In Budhanilkantha, Kathmandu</td>\n",
       "      <td>Deuja Chowk, Budhanilkantha, Kathmandu</td>\n",
       "      <td>NaN</td>\n",
       "      <td>8 Aana</td>\n",
       "      <td>2.0</td>\n",
       "      <td>5.0</td>\n",
       "      <td>3.0</td>\n",
       "    </tr>\n",
       "    <tr>\n",
       "      <th>5627</th>\n",
       "      <td>House For Rent In Baneshwor, Kathmandu</td>\n",
       "      <td>Bhimsengola, Baneshwor, Kathmandu</td>\n",
       "      <td>NaN</td>\n",
       "      <td>51 Aana</td>\n",
       "      <td>2.0</td>\n",
       "      <td>9.0</td>\n",
       "      <td>3.0</td>\n",
       "    </tr>\n",
       "    <tr>\n",
       "      <th>5628</th>\n",
       "      <td>House For Sale In Baluwatar, Kathmandu</td>\n",
       "      <td>Gocha marg, Baluwatar, Kathmandu</td>\n",
       "      <td>NaN</td>\n",
       "      <td>13 Aana</td>\n",
       "      <td>3.0</td>\n",
       "      <td>5.0</td>\n",
       "      <td>2.0</td>\n",
       "    </tr>\n",
       "  </tbody>\n",
       "</table>\n",
       "<p>4003 rows × 7 columns</p>\n",
       "</div>"
      ],
      "text/plain": [
       "                                            Title  \\\n",
       "0                                  House for Sale   \n",
       "1                                  House for Sale   \n",
       "2                            4 BHK House for Sale   \n",
       "3                         Bungalow House for Sale   \n",
       "4                                  House for Rent   \n",
       "...                                           ...   \n",
       "5624         House For Rent In Chapali, Kathmandu   \n",
       "5625       House For Sale In Sitapaila, Kathmandu   \n",
       "5626  House For Sale In Budhanilkantha, Kathmandu   \n",
       "5627       House For Rent In Baneshwor, Kathmandu   \n",
       "5628       House For Sale In Baluwatar, Kathmandu   \n",
       "\n",
       "                                     Address      Price      Area  Floors  \\\n",
       "0                           Imadol, Lalitpur      2.9    4.0 aana     3.0   \n",
       "1                        Satdobato, Lalitpur     4.75    3.0 aana     4.5   \n",
       "2                           Imadol, Lalitpur     1.99    2.3 aana     2.5   \n",
       "3                       Bhaisepati, Lalitpur        4    7.0 aana     2.5   \n",
       "4                     Maharajgunj, Kathmandu   12000000  6.0 aana     2.0   \n",
       "...                                      ...        ...       ...     ...   \n",
       "5624             Bhangal, Chapali, Kathmandu        NaN  1 Ropani     3.0   \n",
       "5625          Nagarjun, Sitapaila, Kathmandu        NaN  2.5 Aana     2.0   \n",
       "5626  Deuja Chowk, Budhanilkantha, Kathmandu        NaN    8 Aana     2.0   \n",
       "5627       Bhimsengola, Baneshwor, Kathmandu        NaN   51 Aana     2.0   \n",
       "5628        Gocha marg, Baluwatar, Kathmandu        NaN   13 Aana     3.0   \n",
       "\n",
       "      Bedroom  Bathroom  \n",
       "0         5.0       4.0  \n",
       "1         5.0       6.0  \n",
       "2         4.0       4.0  \n",
       "3         4.0       3.0  \n",
       "4         4.0       4.0  \n",
       "...       ...       ...  \n",
       "5624      5.0       5.0  \n",
       "5625      4.0       2.0  \n",
       "5626      5.0       3.0  \n",
       "5627      9.0       3.0  \n",
       "5628      5.0       2.0  \n",
       "\n",
       "[4003 rows x 7 columns]"
      ]
     },
     "execution_count": 47,
     "metadata": {},
     "output_type": "execute_result"
    }
   ],
   "source": [
    "house"
   ]
  },
  {
   "cell_type": "code",
   "execution_count": 48,
   "id": "fabf5074",
   "metadata": {},
   "outputs": [],
   "source": [
    "home = pd.read_csv('Housing.csv')"
   ]
  },
  {
   "cell_type": "code",
   "execution_count": 49,
   "id": "436eab56",
   "metadata": {},
   "outputs": [
    {
     "data": {
      "text/html": [
       "<div>\n",
       "<style scoped>\n",
       "    .dataframe tbody tr th:only-of-type {\n",
       "        vertical-align: middle;\n",
       "    }\n",
       "\n",
       "    .dataframe tbody tr th {\n",
       "        vertical-align: top;\n",
       "    }\n",
       "\n",
       "    .dataframe thead th {\n",
       "        text-align: right;\n",
       "    }\n",
       "</style>\n",
       "<table border=\"1\" class=\"dataframe\">\n",
       "  <thead>\n",
       "    <tr style=\"text-align: right;\">\n",
       "      <th></th>\n",
       "      <th>Title</th>\n",
       "      <th>Address</th>\n",
       "      <th>Price</th>\n",
       "      <th>Area</th>\n",
       "      <th>Build Area</th>\n",
       "      <th>Road</th>\n",
       "      <th>Face</th>\n",
       "      <th>Floors</th>\n",
       "      <th>Bedroom</th>\n",
       "      <th>Bathroom</th>\n",
       "      <th>Year</th>\n",
       "      <th>Parking</th>\n",
       "      <th>Amenities</th>\n",
       "    </tr>\n",
       "  </thead>\n",
       "  <tbody>\n",
       "    <tr>\n",
       "      <th>0</th>\n",
       "      <td>House for Sale</td>\n",
       "      <td>Imadol, Lalitpur</td>\n",
       "      <td>Rs. 2.9 Cr</td>\n",
       "      <td>4.0 aana</td>\n",
       "      <td>NaN</td>\n",
       "      <td>12 Feet</td>\n",
       "      <td>West</td>\n",
       "      <td>3.0</td>\n",
       "      <td>5.0</td>\n",
       "      <td>4.0</td>\n",
       "      <td>2076 B.S</td>\n",
       "      <td>1 CaRs.  &amp; 2 Bikes</td>\n",
       "      <td>['Earthquake Resistant', 'Marbel', 'Parquet', ...</td>\n",
       "    </tr>\n",
       "    <tr>\n",
       "      <th>1</th>\n",
       "      <td>House for Sale</td>\n",
       "      <td>Satdobato, Lalitpur</td>\n",
       "      <td>Rs. 4.75 Cr</td>\n",
       "      <td>3.0 aana</td>\n",
       "      <td>NaN</td>\n",
       "      <td>10 Feet</td>\n",
       "      <td>West</td>\n",
       "      <td>4.5</td>\n",
       "      <td>5.0</td>\n",
       "      <td>6.0</td>\n",
       "      <td>2076 B.S</td>\n",
       "      <td>2 CaRs.  &amp; 2 Bikes</td>\n",
       "      <td>['Earthquake Resistant', 'Parquet', 'Drinking ...</td>\n",
       "    </tr>\n",
       "    <tr>\n",
       "      <th>2</th>\n",
       "      <td>4 BHK House for Sale</td>\n",
       "      <td>Imadol, Lalitpur</td>\n",
       "      <td>Rs. 1.99 Cr</td>\n",
       "      <td>2.3 aana</td>\n",
       "      <td>NaN</td>\n",
       "      <td>10 Feet</td>\n",
       "      <td>West</td>\n",
       "      <td>2.5</td>\n",
       "      <td>4.0</td>\n",
       "      <td>4.0</td>\n",
       "      <td>2060 B.S</td>\n",
       "      <td>1 CaRs.  &amp; 3 Bikes</td>\n",
       "      <td>['Earthquake Resistant', 'Marbel', 'Parquet', ...</td>\n",
       "    </tr>\n",
       "    <tr>\n",
       "      <th>3</th>\n",
       "      <td>Bungalow House for Sale</td>\n",
       "      <td>Bhaisepati, Lalitpur</td>\n",
       "      <td>Rs. 4 Cr</td>\n",
       "      <td>7.0 aana</td>\n",
       "      <td>NaN</td>\n",
       "      <td>12 Feet</td>\n",
       "      <td>North-West</td>\n",
       "      <td>2.5</td>\n",
       "      <td>4.0</td>\n",
       "      <td>3.0</td>\n",
       "      <td>2059 B.S</td>\n",
       "      <td>4 CaRs.  &amp; 4 Bikes</td>\n",
       "      <td>['Earthquake Resistant', 'Marbel', 'Parquet', ...</td>\n",
       "    </tr>\n",
       "    <tr>\n",
       "      <th>4</th>\n",
       "      <td>House for Rent</td>\n",
       "      <td>Maharajgunj, Kathmandu</td>\n",
       "      <td>Rs. 12000000</td>\n",
       "      <td>6.0 aana</td>\n",
       "      <td>NaN</td>\n",
       "      <td>20 Feet</td>\n",
       "      <td>South</td>\n",
       "      <td>2.0</td>\n",
       "      <td>4.0</td>\n",
       "      <td>4.0</td>\n",
       "      <td>2071 B.S</td>\n",
       "      <td>4 CaRs.  &amp; 5 Bikes</td>\n",
       "      <td>['Earthquake Resistant', 'Parquet', 'Parking',...</td>\n",
       "    </tr>\n",
       "    <tr>\n",
       "      <th>...</th>\n",
       "      <td>...</td>\n",
       "      <td>...</td>\n",
       "      <td>...</td>\n",
       "      <td>...</td>\n",
       "      <td>...</td>\n",
       "      <td>...</td>\n",
       "      <td>...</td>\n",
       "      <td>...</td>\n",
       "      <td>...</td>\n",
       "      <td>...</td>\n",
       "      <td>...</td>\n",
       "      <td>...</td>\n",
       "      <td>...</td>\n",
       "    </tr>\n",
       "    <tr>\n",
       "      <th>5624</th>\n",
       "      <td>House For Rent In Chapali, Kathmandu</td>\n",
       "      <td>Bhangal, Chapali, Kathmandu</td>\n",
       "      <td>500000</td>\n",
       "      <td>1 Ropani</td>\n",
       "      <td>N/A Sq. Feet</td>\n",
       "      <td>16 Feet</td>\n",
       "      <td>North East</td>\n",
       "      <td>3.0</td>\n",
       "      <td>5.0</td>\n",
       "      <td>5.0</td>\n",
       "      <td>NaN</td>\n",
       "      <td>5</td>\n",
       "      <td>['Balcony', 'Frontyard', 'Garden', 'Drainage',...</td>\n",
       "    </tr>\n",
       "    <tr>\n",
       "      <th>5625</th>\n",
       "      <td>House For Sale In Sitapaila, Kathmandu</td>\n",
       "      <td>Nagarjun, Sitapaila, Kathmandu</td>\n",
       "      <td>12000000</td>\n",
       "      <td>2.5 Aana</td>\n",
       "      <td>N/A Sq. Feet</td>\n",
       "      <td>13 Feet</td>\n",
       "      <td>North East</td>\n",
       "      <td>2.0</td>\n",
       "      <td>4.0</td>\n",
       "      <td>2.0</td>\n",
       "      <td>NaN</td>\n",
       "      <td>1</td>\n",
       "      <td>['Balcony', 'Frontyard', 'Drainage', 'Water Su...</td>\n",
       "    </tr>\n",
       "    <tr>\n",
       "      <th>5626</th>\n",
       "      <td>House For Sale In Budhanilkantha, Kathmandu</td>\n",
       "      <td>Deuja Chowk, Budhanilkantha, Kathmandu</td>\n",
       "      <td>27000000</td>\n",
       "      <td>8 Aana</td>\n",
       "      <td>N/A Sq. Feet</td>\n",
       "      <td>12 Feet</td>\n",
       "      <td>East</td>\n",
       "      <td>2.0</td>\n",
       "      <td>5.0</td>\n",
       "      <td>3.0</td>\n",
       "      <td>2071.0</td>\n",
       "      <td>1</td>\n",
       "      <td>['Balcony', 'Frontyard', 'Drainage', 'Water Su...</td>\n",
       "    </tr>\n",
       "    <tr>\n",
       "      <th>5627</th>\n",
       "      <td>House For Rent In Baneshwor, Kathmandu</td>\n",
       "      <td>Bhimsengola, Baneshwor, Kathmandu</td>\n",
       "      <td>300000</td>\n",
       "      <td>51 Aana</td>\n",
       "      <td>N/A Sq. Feet</td>\n",
       "      <td>13 Feet</td>\n",
       "      <td>North</td>\n",
       "      <td>2.0</td>\n",
       "      <td>9.0</td>\n",
       "      <td>3.0</td>\n",
       "      <td>NaN</td>\n",
       "      <td>4</td>\n",
       "      <td>['Drainage', 'Water Supply', 'Garden', 'Fronty...</td>\n",
       "    </tr>\n",
       "    <tr>\n",
       "      <th>5628</th>\n",
       "      <td>House For Sale In Baluwatar, Kathmandu</td>\n",
       "      <td>Gocha marg, Baluwatar, Kathmandu</td>\n",
       "      <td>72500000</td>\n",
       "      <td>13 Aana</td>\n",
       "      <td>13 Aana</td>\n",
       "      <td>12 Feet</td>\n",
       "      <td>East</td>\n",
       "      <td>3.0</td>\n",
       "      <td>5.0</td>\n",
       "      <td>2.0</td>\n",
       "      <td>NaN</td>\n",
       "      <td>5</td>\n",
       "      <td>['Garage', 'Balcony', 'Frontyard', 'Drainage',...</td>\n",
       "    </tr>\n",
       "  </tbody>\n",
       "</table>\n",
       "<p>5629 rows × 13 columns</p>\n",
       "</div>"
      ],
      "text/plain": [
       "                                            Title  \\\n",
       "0                                  House for Sale   \n",
       "1                                  House for Sale   \n",
       "2                            4 BHK House for Sale   \n",
       "3                         Bungalow House for Sale   \n",
       "4                                  House for Rent   \n",
       "...                                           ...   \n",
       "5624         House For Rent In Chapali, Kathmandu   \n",
       "5625       House For Sale In Sitapaila, Kathmandu   \n",
       "5626  House For Sale In Budhanilkantha, Kathmandu   \n",
       "5627       House For Rent In Baneshwor, Kathmandu   \n",
       "5628       House For Sale In Baluwatar, Kathmandu   \n",
       "\n",
       "                                     Address         Price      Area  \\\n",
       "0                           Imadol, Lalitpur   Rs. 2.9 Cr   4.0 aana   \n",
       "1                        Satdobato, Lalitpur  Rs. 4.75 Cr   3.0 aana   \n",
       "2                           Imadol, Lalitpur  Rs. 1.99 Cr   2.3 aana   \n",
       "3                       Bhaisepati, Lalitpur     Rs. 4 Cr   7.0 aana   \n",
       "4                     Maharajgunj, Kathmandu  Rs. 12000000  6.0 aana   \n",
       "...                                      ...           ...       ...   \n",
       "5624             Bhangal, Chapali, Kathmandu        500000  1 Ropani   \n",
       "5625          Nagarjun, Sitapaila, Kathmandu      12000000  2.5 Aana   \n",
       "5626  Deuja Chowk, Budhanilkantha, Kathmandu      27000000    8 Aana   \n",
       "5627       Bhimsengola, Baneshwor, Kathmandu        300000   51 Aana   \n",
       "5628        Gocha marg, Baluwatar, Kathmandu      72500000   13 Aana   \n",
       "\n",
       "        Build Area     Road        Face  Floors  Bedroom  Bathroom      Year  \\\n",
       "0              NaN  12 Feet        West     3.0      5.0       4.0  2076 B.S   \n",
       "1              NaN  10 Feet        West     4.5      5.0       6.0  2076 B.S   \n",
       "2              NaN  10 Feet        West     2.5      4.0       4.0  2060 B.S   \n",
       "3              NaN  12 Feet  North-West     2.5      4.0       3.0  2059 B.S   \n",
       "4              NaN  20 Feet       South     2.0      4.0       4.0  2071 B.S   \n",
       "...            ...      ...         ...     ...      ...       ...       ...   \n",
       "5624  N/A Sq. Feet  16 Feet  North East     3.0      5.0       5.0       NaN   \n",
       "5625  N/A Sq. Feet  13 Feet  North East     2.0      4.0       2.0       NaN   \n",
       "5626  N/A Sq. Feet  12 Feet        East     2.0      5.0       3.0    2071.0   \n",
       "5627  N/A Sq. Feet  13 Feet       North     2.0      9.0       3.0       NaN   \n",
       "5628       13 Aana  12 Feet        East     3.0      5.0       2.0       NaN   \n",
       "\n",
       "                 Parking                                          Amenities  \n",
       "0     1 CaRs.  & 2 Bikes  ['Earthquake Resistant', 'Marbel', 'Parquet', ...  \n",
       "1     2 CaRs.  & 2 Bikes  ['Earthquake Resistant', 'Parquet', 'Drinking ...  \n",
       "2     1 CaRs.  & 3 Bikes  ['Earthquake Resistant', 'Marbel', 'Parquet', ...  \n",
       "3     4 CaRs.  & 4 Bikes  ['Earthquake Resistant', 'Marbel', 'Parquet', ...  \n",
       "4     4 CaRs.  & 5 Bikes  ['Earthquake Resistant', 'Parquet', 'Parking',...  \n",
       "...                  ...                                                ...  \n",
       "5624                   5  ['Balcony', 'Frontyard', 'Garden', 'Drainage',...  \n",
       "5625                   1  ['Balcony', 'Frontyard', 'Drainage', 'Water Su...  \n",
       "5626                   1  ['Balcony', 'Frontyard', 'Drainage', 'Water Su...  \n",
       "5627                   4  ['Drainage', 'Water Supply', 'Garden', 'Fronty...  \n",
       "5628                   5  ['Garage', 'Balcony', 'Frontyard', 'Drainage',...  \n",
       "\n",
       "[5629 rows x 13 columns]"
      ]
     },
     "execution_count": 49,
     "metadata": {},
     "output_type": "execute_result"
    }
   ],
   "source": [
    "home"
   ]
  },
  {
   "cell_type": "code",
   "execution_count": 50,
   "id": "eddae69b",
   "metadata": {},
   "outputs": [],
   "source": [
    "home = pd.read_csv('House.csv')"
   ]
  },
  {
   "cell_type": "code",
   "execution_count": 51,
   "id": "4b71a563",
   "metadata": {},
   "outputs": [
    {
     "data": {
      "text/html": [
       "<div>\n",
       "<style scoped>\n",
       "    .dataframe tbody tr th:only-of-type {\n",
       "        vertical-align: middle;\n",
       "    }\n",
       "\n",
       "    .dataframe tbody tr th {\n",
       "        vertical-align: top;\n",
       "    }\n",
       "\n",
       "    .dataframe thead th {\n",
       "        text-align: right;\n",
       "    }\n",
       "</style>\n",
       "<table border=\"1\" class=\"dataframe\">\n",
       "  <thead>\n",
       "    <tr style=\"text-align: right;\">\n",
       "      <th></th>\n",
       "      <th>Title</th>\n",
       "      <th>Address</th>\n",
       "      <th>Price</th>\n",
       "      <th>Area</th>\n",
       "      <th>Build Area</th>\n",
       "      <th>Road</th>\n",
       "      <th>Face</th>\n",
       "      <th>Floors</th>\n",
       "      <th>Bedroom</th>\n",
       "      <th>Bathroom</th>\n",
       "      <th>Year</th>\n",
       "      <th>Parking</th>\n",
       "      <th>Amenities</th>\n",
       "    </tr>\n",
       "  </thead>\n",
       "  <tbody>\n",
       "    <tr>\n",
       "      <th>2575</th>\n",
       "      <td>House on rent in Aawas Marga, Bhaisepati</td>\n",
       "      <td>Bhaisepati, Lalitpur</td>\n",
       "      <td>Rs. 3.99 Cr</td>\n",
       "      <td>4.0 aana</td>\n",
       "      <td>NaN</td>\n",
       "      <td>14-20 Feet</td>\n",
       "      <td>East</td>\n",
       "      <td>2.5</td>\n",
       "      <td>7.0</td>\n",
       "      <td>5.0</td>\n",
       "      <td>NaN</td>\n",
       "      <td>NaN</td>\n",
       "      <td>['Bathroom', 'Drinking Water', 'Drainage', 'Pa...</td>\n",
       "    </tr>\n",
       "    <tr>\n",
       "      <th>2819</th>\n",
       "      <td>House for sale at Maharajgunj, Bansbari</td>\n",
       "      <td>Bansbari, Kathmandu</td>\n",
       "      <td>Rs. 4.5 Cr</td>\n",
       "      <td>8.0 aana</td>\n",
       "      <td>NaN</td>\n",
       "      <td>20 Feet</td>\n",
       "      <td>East</td>\n",
       "      <td>2.5</td>\n",
       "      <td>6.0</td>\n",
       "      <td>4.0</td>\n",
       "      <td>2076 B.S</td>\n",
       "      <td>NaN</td>\n",
       "      <td>['Drainage', 'Bathroom', 'Drinking Water', 'Pa...</td>\n",
       "    </tr>\n",
       "    <tr>\n",
       "      <th>3608</th>\n",
       "      <td>House On Sell @Tarkeshwar-09, Manamaiju, Basuk...</td>\n",
       "      <td>Basukinagtole, Manamaiju, Kathmandu, Manamaiju...</td>\n",
       "      <td>Rs. 3.5 Cr</td>\n",
       "      <td>13 aana</td>\n",
       "      <td>0-2-2-1 Aana</td>\n",
       "      <td>14 Feet</td>\n",
       "      <td>West</td>\n",
       "      <td>3.0</td>\n",
       "      <td>5.0</td>\n",
       "      <td>3.0</td>\n",
       "      <td>NaN</td>\n",
       "      <td>1</td>\n",
       "      <td>['Parking', 'Balcony', 'TV Cable', 'Wifi', 'Wa...</td>\n",
       "    </tr>\n",
       "    <tr>\n",
       "      <th>3646</th>\n",
       "      <td>House Sale At Pokhara Buspark, Chitwan : House...</td>\n",
       "      <td>Naranghat, Bharatpur, Chitwan</td>\n",
       "      <td>Rs. 4.2 Cr</td>\n",
       "      <td>4 Aana</td>\n",
       "      <td>4 Aana</td>\n",
       "      <td>13 Feet / Blacktopped</td>\n",
       "      <td>South</td>\n",
       "      <td>3.0</td>\n",
       "      <td>4.0</td>\n",
       "      <td>4.0</td>\n",
       "      <td>2009</td>\n",
       "      <td>1</td>\n",
       "      <td>['Water Supply', 'Drainage', 'Water Tank']</td>\n",
       "    </tr>\n",
       "    <tr>\n",
       "      <th>3349</th>\n",
       "      <td>House on Magargaun</td>\n",
       "      <td>Magargaun,  Lalitpur</td>\n",
       "      <td>Rs. 4.7 Cr</td>\n",
       "      <td>3.3 aana</td>\n",
       "      <td>1954 Sq.ft.</td>\n",
       "      <td>13 Feet</td>\n",
       "      <td>WEST</td>\n",
       "      <td>3.0</td>\n",
       "      <td>4.0</td>\n",
       "      <td>3.0</td>\n",
       "      <td>2078 B.S</td>\n",
       "      <td>1 Car &amp; 3 Bikes</td>\n",
       "      <td>[]</td>\n",
       "    </tr>\n",
       "    <tr>\n",
       "      <th>3996</th>\n",
       "      <td>Budhanilkantha Family Bungalow : House For Sal...</td>\n",
       "      <td>NA, Budhanilkantha, Kathmandu</td>\n",
       "      <td>Rs. 4.1 Cr</td>\n",
       "      <td>4 Aana</td>\n",
       "      <td>N/A Aana</td>\n",
       "      <td>15 Feet / Paved</td>\n",
       "      <td>East</td>\n",
       "      <td>3.0</td>\n",
       "      <td>5.0</td>\n",
       "      <td>5.0</td>\n",
       "      <td>2076</td>\n",
       "      <td>2</td>\n",
       "      <td>['Balcony', 'Modular Kitchen', 'Water Supply',...</td>\n",
       "    </tr>\n",
       "    <tr>\n",
       "      <th>3056</th>\n",
       "      <td>House on sale at Nakhipot</td>\n",
       "      <td>Nakhipot, Lalitpur</td>\n",
       "      <td>Rs. 5.5 Cr</td>\n",
       "      <td>13.0 aana</td>\n",
       "      <td>NaN</td>\n",
       "      <td>14 Feet</td>\n",
       "      <td>South</td>\n",
       "      <td>3.0</td>\n",
       "      <td>6.0</td>\n",
       "      <td>5.0</td>\n",
       "      <td>2079 B.S</td>\n",
       "      <td>NaN</td>\n",
       "      <td>[]</td>\n",
       "    </tr>\n",
       "    <tr>\n",
       "      <th>4207</th>\n",
       "      <td>Surya Darshan Height Home : House For Sale In ...</td>\n",
       "      <td>Surya Darshan Height, Tokha, Kathmandu</td>\n",
       "      <td>Rs. 4.8 Cr</td>\n",
       "      <td>4 Aana</td>\n",
       "      <td>N/A Aana</td>\n",
       "      <td>13 Feet / Blacktopped</td>\n",
       "      <td>East</td>\n",
       "      <td>3.0</td>\n",
       "      <td>6.0</td>\n",
       "      <td>5.0</td>\n",
       "      <td>2075</td>\n",
       "      <td>1</td>\n",
       "      <td>['Garage', 'Drainage', 'TV Cable', 'Water Supp...</td>\n",
       "    </tr>\n",
       "    <tr>\n",
       "      <th>1495</th>\n",
       "      <td>Residential land for sale in Sundari Chowk, Go...</td>\n",
       "      <td>Gothatar, Kathmandu</td>\n",
       "      <td>Rs. 4.5 Cr</td>\n",
       "      <td>8.0 aana</td>\n",
       "      <td>NaN</td>\n",
       "      <td>15 Feet</td>\n",
       "      <td>East</td>\n",
       "      <td>2.5</td>\n",
       "      <td>6.0</td>\n",
       "      <td>4.0</td>\n",
       "      <td>2070 B.S</td>\n",
       "      <td>NaN</td>\n",
       "      <td>[]</td>\n",
       "    </tr>\n",
       "    <tr>\n",
       "      <th>3546</th>\n",
       "      <td>Hattigauda 9 Ana Home On Rent : House For Rent...</td>\n",
       "      <td>Man, Hattigauda, Kathmandu</td>\n",
       "      <td>Rs. 7.5 Cr</td>\n",
       "      <td>9 Aana</td>\n",
       "      <td>N/A Aana</td>\n",
       "      <td>13 Feet / Blacktopped</td>\n",
       "      <td>South</td>\n",
       "      <td>5.0</td>\n",
       "      <td>17.0</td>\n",
       "      <td>15.0</td>\n",
       "      <td>2070</td>\n",
       "      <td>3</td>\n",
       "      <td>['Parking']</td>\n",
       "    </tr>\n",
       "  </tbody>\n",
       "</table>\n",
       "</div>"
      ],
      "text/plain": [
       "                                                  Title  \\\n",
       "2575           House on rent in Aawas Marga, Bhaisepati   \n",
       "2819            House for sale at Maharajgunj, Bansbari   \n",
       "3608  House On Sell @Tarkeshwar-09, Manamaiju, Basuk...   \n",
       "3646  House Sale At Pokhara Buspark, Chitwan : House...   \n",
       "3349                                 House on Magargaun   \n",
       "3996  Budhanilkantha Family Bungalow : House For Sal...   \n",
       "3056                          House on sale at Nakhipot   \n",
       "4207  Surya Darshan Height Home : House For Sale In ...   \n",
       "1495  Residential land for sale in Sundari Chowk, Go...   \n",
       "3546  Hattigauda 9 Ana Home On Rent : House For Rent...   \n",
       "\n",
       "                                                Address         Price  \\\n",
       "2575                               Bhaisepati, Lalitpur  Rs. 3.99 Cr    \n",
       "2819                                Bansbari, Kathmandu   Rs. 4.5 Cr    \n",
       "3608  Basukinagtole, Manamaiju, Kathmandu, Manamaiju...    Rs. 3.5 Cr   \n",
       "3646                      Naranghat, Bharatpur, Chitwan    Rs. 4.2 Cr   \n",
       "3349                               Magargaun,  Lalitpur    Rs. 4.7 Cr   \n",
       "3996                      NA, Budhanilkantha, Kathmandu    Rs. 4.1 Cr   \n",
       "3056                                 Nakhipot, Lalitpur   Rs. 5.5 Cr    \n",
       "4207             Surya Darshan Height, Tokha, Kathmandu   Rs. 4.8 Cr    \n",
       "1495                                Gothatar, Kathmandu   Rs. 4.5 Cr    \n",
       "3546                         Man, Hattigauda, Kathmandu   Rs. 7.5 Cr    \n",
       "\n",
       "           Area    Build Area                   Road   Face  Floors  Bedroom  \\\n",
       "2575   4.0 aana           NaN             14-20 Feet   East     2.5      7.0   \n",
       "2819   8.0 aana           NaN                20 Feet   East     2.5      6.0   \n",
       "3608    13 aana  0-2-2-1 Aana                14 Feet   West     3.0      5.0   \n",
       "3646     4 Aana        4 Aana  13 Feet / Blacktopped  South     3.0      4.0   \n",
       "3349   3.3 aana   1954 Sq.ft.                13 Feet   WEST     3.0      4.0   \n",
       "3996     4 Aana      N/A Aana        15 Feet / Paved   East     3.0      5.0   \n",
       "3056  13.0 aana           NaN                14 Feet  South     3.0      6.0   \n",
       "4207     4 Aana      N/A Aana  13 Feet / Blacktopped   East     3.0      6.0   \n",
       "1495   8.0 aana           NaN                15 Feet   East     2.5      6.0   \n",
       "3546     9 Aana      N/A Aana  13 Feet / Blacktopped  South     5.0     17.0   \n",
       "\n",
       "      Bathroom      Year          Parking  \\\n",
       "2575       5.0       NaN              NaN   \n",
       "2819       4.0  2076 B.S              NaN   \n",
       "3608       3.0       NaN                1   \n",
       "3646       4.0      2009                1   \n",
       "3349       3.0  2078 B.S  1 Car & 3 Bikes   \n",
       "3996       5.0      2076                2   \n",
       "3056       5.0  2079 B.S              NaN   \n",
       "4207       5.0      2075                1   \n",
       "1495       4.0  2070 B.S              NaN   \n",
       "3546      15.0      2070                3   \n",
       "\n",
       "                                              Amenities  \n",
       "2575  ['Bathroom', 'Drinking Water', 'Drainage', 'Pa...  \n",
       "2819  ['Drainage', 'Bathroom', 'Drinking Water', 'Pa...  \n",
       "3608  ['Parking', 'Balcony', 'TV Cable', 'Wifi', 'Wa...  \n",
       "3646         ['Water Supply', 'Drainage', 'Water Tank']  \n",
       "3349                                                 []  \n",
       "3996  ['Balcony', 'Modular Kitchen', 'Water Supply',...  \n",
       "3056                                                 []  \n",
       "4207  ['Garage', 'Drainage', 'TV Cable', 'Water Supp...  \n",
       "1495                                                 []  \n",
       "3546                                        ['Parking']  "
      ]
     },
     "execution_count": 51,
     "metadata": {},
     "output_type": "execute_result"
    }
   ],
   "source": [
    "home.sample(10)"
   ]
  },
  {
   "cell_type": "code",
   "execution_count": 52,
   "id": "90918b4b",
   "metadata": {},
   "outputs": [
    {
     "data": {
      "text/plain": [
       "(5186, 13)"
      ]
     },
     "execution_count": 52,
     "metadata": {},
     "output_type": "execute_result"
    }
   ],
   "source": [
    "home.shape"
   ]
  },
  {
   "cell_type": "code",
   "execution_count": 53,
   "id": "75545b34",
   "metadata": {},
   "outputs": [
    {
     "name": "stdout",
     "output_type": "stream",
     "text": [
      "<class 'pandas.core.frame.DataFrame'>\n",
      "RangeIndex: 5186 entries, 0 to 5185\n",
      "Data columns (total 13 columns):\n",
      " #   Column      Non-Null Count  Dtype  \n",
      "---  ------      --------------  -----  \n",
      " 0   Title       5015 non-null   object \n",
      " 1   Address     5015 non-null   object \n",
      " 2   Price       5015 non-null   object \n",
      " 3   Area        5014 non-null   object \n",
      " 4   Build Area  2316 non-null   object \n",
      " 5   Road        5006 non-null   object \n",
      " 6   Face        4809 non-null   object \n",
      " 7   Floors      5015 non-null   float64\n",
      " 8   Bedroom     5015 non-null   float64\n",
      " 9   Bathroom    5012 non-null   float64\n",
      " 10  Year        3893 non-null   object \n",
      " 11  Parking     2229 non-null   object \n",
      " 12  Amenities   5015 non-null   object \n",
      "dtypes: float64(3), object(10)\n",
      "memory usage: 526.8+ KB\n"
     ]
    }
   ],
   "source": [
    "home.info()"
   ]
  },
  {
   "cell_type": "code",
   "execution_count": 54,
   "id": "6952d386",
   "metadata": {},
   "outputs": [
    {
     "data": {
      "text/plain": [
       "Title          171\n",
       "Address        171\n",
       "Price          171\n",
       "Area           172\n",
       "Build Area    2870\n",
       "Road           180\n",
       "Face           377\n",
       "Floors         171\n",
       "Bedroom        171\n",
       "Bathroom       174\n",
       "Year          1293\n",
       "Parking       2957\n",
       "Amenities      171\n",
       "dtype: int64"
      ]
     },
     "execution_count": 54,
     "metadata": {},
     "output_type": "execute_result"
    }
   ],
   "source": [
    "home.isnull().sum()"
   ]
  },
  {
   "cell_type": "code",
   "execution_count": 55,
   "id": "5edc81b4",
   "metadata": {},
   "outputs": [],
   "source": [
    "home.drop(columns=['Build Area','Road','Face','Year','Parking','Amenities'],inplace=True)"
   ]
  },
  {
   "cell_type": "code",
   "execution_count": 56,
   "id": "3be0ec8b",
   "metadata": {},
   "outputs": [
    {
     "data": {
      "text/html": [
       "<div>\n",
       "<style scoped>\n",
       "    .dataframe tbody tr th:only-of-type {\n",
       "        vertical-align: middle;\n",
       "    }\n",
       "\n",
       "    .dataframe tbody tr th {\n",
       "        vertical-align: top;\n",
       "    }\n",
       "\n",
       "    .dataframe thead th {\n",
       "        text-align: right;\n",
       "    }\n",
       "</style>\n",
       "<table border=\"1\" class=\"dataframe\">\n",
       "  <thead>\n",
       "    <tr style=\"text-align: right;\">\n",
       "      <th></th>\n",
       "      <th>Title</th>\n",
       "      <th>Address</th>\n",
       "      <th>Price</th>\n",
       "      <th>Area</th>\n",
       "      <th>Floors</th>\n",
       "      <th>Bedroom</th>\n",
       "      <th>Bathroom</th>\n",
       "    </tr>\n",
       "  </thead>\n",
       "  <tbody>\n",
       "    <tr>\n",
       "      <th>0</th>\n",
       "      <td>House for Sale</td>\n",
       "      <td>Imadol, Lalitpur</td>\n",
       "      <td>Rs. 2.9 Cr</td>\n",
       "      <td>4.0 aana</td>\n",
       "      <td>3.0</td>\n",
       "      <td>5.0</td>\n",
       "      <td>4.0</td>\n",
       "    </tr>\n",
       "    <tr>\n",
       "      <th>1</th>\n",
       "      <td>House for Sale</td>\n",
       "      <td>Satdobato, Lalitpur</td>\n",
       "      <td>Rs. 4.75 Cr</td>\n",
       "      <td>3.0 aana</td>\n",
       "      <td>4.5</td>\n",
       "      <td>5.0</td>\n",
       "      <td>6.0</td>\n",
       "    </tr>\n",
       "    <tr>\n",
       "      <th>2</th>\n",
       "      <td>4 BHK House for Sale</td>\n",
       "      <td>Imadol, Lalitpur</td>\n",
       "      <td>Rs. 1.99 Cr</td>\n",
       "      <td>2.3 aana</td>\n",
       "      <td>2.5</td>\n",
       "      <td>4.0</td>\n",
       "      <td>4.0</td>\n",
       "    </tr>\n",
       "    <tr>\n",
       "      <th>3</th>\n",
       "      <td>Bungalow House for Sale</td>\n",
       "      <td>Bhaisepati, Lalitpur</td>\n",
       "      <td>Rs. 4 Cr</td>\n",
       "      <td>7.0 aana</td>\n",
       "      <td>2.5</td>\n",
       "      <td>4.0</td>\n",
       "      <td>3.0</td>\n",
       "    </tr>\n",
       "    <tr>\n",
       "      <th>4</th>\n",
       "      <td>House for Rent</td>\n",
       "      <td>Maharajgunj, Kathmandu</td>\n",
       "      <td>Rs. 2.90 Cr</td>\n",
       "      <td>6.0 aana</td>\n",
       "      <td>2.0</td>\n",
       "      <td>4.0</td>\n",
       "      <td>4.0</td>\n",
       "    </tr>\n",
       "  </tbody>\n",
       "</table>\n",
       "</div>"
      ],
      "text/plain": [
       "                     Title                 Address         Price      Area  \\\n",
       "0           House for Sale        Imadol, Lalitpur   Rs. 2.9 Cr   4.0 aana   \n",
       "1           House for Sale     Satdobato, Lalitpur  Rs. 4.75 Cr   3.0 aana   \n",
       "2     4 BHK House for Sale        Imadol, Lalitpur  Rs. 1.99 Cr   2.3 aana   \n",
       "3  Bungalow House for Sale    Bhaisepati, Lalitpur     Rs. 4 Cr   7.0 aana   \n",
       "4           House for Rent  Maharajgunj, Kathmandu   Rs. 2.90 Cr  6.0 aana   \n",
       "\n",
       "   Floors  Bedroom  Bathroom  \n",
       "0     3.0      5.0       4.0  \n",
       "1     4.5      5.0       6.0  \n",
       "2     2.5      4.0       4.0  \n",
       "3     2.5      4.0       3.0  \n",
       "4     2.0      4.0       4.0  "
      ]
     },
     "execution_count": 56,
     "metadata": {},
     "output_type": "execute_result"
    }
   ],
   "source": [
    "home.head()"
   ]
  },
  {
   "cell_type": "code",
   "execution_count": 57,
   "id": "dc03c0fa",
   "metadata": {},
   "outputs": [
    {
     "data": {
      "text/plain": [
       "Title       171\n",
       "Address     171\n",
       "Price       171\n",
       "Area        172\n",
       "Floors      171\n",
       "Bedroom     171\n",
       "Bathroom    174\n",
       "dtype: int64"
      ]
     },
     "execution_count": 57,
     "metadata": {},
     "output_type": "execute_result"
    }
   ],
   "source": [
    "home.isnull().sum()"
   ]
  },
  {
   "cell_type": "code",
   "execution_count": 58,
   "id": "95fd5c5c",
   "metadata": {},
   "outputs": [],
   "source": [
    "home = home.dropna()"
   ]
  },
  {
   "cell_type": "code",
   "execution_count": 59,
   "id": "29632d5b",
   "metadata": {},
   "outputs": [
    {
     "data": {
      "text/html": [
       "<div>\n",
       "<style scoped>\n",
       "    .dataframe tbody tr th:only-of-type {\n",
       "        vertical-align: middle;\n",
       "    }\n",
       "\n",
       "    .dataframe tbody tr th {\n",
       "        vertical-align: top;\n",
       "    }\n",
       "\n",
       "    .dataframe thead th {\n",
       "        text-align: right;\n",
       "    }\n",
       "</style>\n",
       "<table border=\"1\" class=\"dataframe\">\n",
       "  <thead>\n",
       "    <tr style=\"text-align: right;\">\n",
       "      <th></th>\n",
       "      <th>Title</th>\n",
       "      <th>Address</th>\n",
       "      <th>Price</th>\n",
       "      <th>Area</th>\n",
       "      <th>Floors</th>\n",
       "      <th>Bedroom</th>\n",
       "      <th>Bathroom</th>\n",
       "    </tr>\n",
       "  </thead>\n",
       "  <tbody>\n",
       "    <tr>\n",
       "      <th>0</th>\n",
       "      <td>House for Sale</td>\n",
       "      <td>Imadol, Lalitpur</td>\n",
       "      <td>Rs. 2.9 Cr</td>\n",
       "      <td>4.0 aana</td>\n",
       "      <td>3.0</td>\n",
       "      <td>5.0</td>\n",
       "      <td>4.0</td>\n",
       "    </tr>\n",
       "    <tr>\n",
       "      <th>1</th>\n",
       "      <td>House for Sale</td>\n",
       "      <td>Satdobato, Lalitpur</td>\n",
       "      <td>Rs. 4.75 Cr</td>\n",
       "      <td>3.0 aana</td>\n",
       "      <td>4.5</td>\n",
       "      <td>5.0</td>\n",
       "      <td>6.0</td>\n",
       "    </tr>\n",
       "    <tr>\n",
       "      <th>2</th>\n",
       "      <td>4 BHK House for Sale</td>\n",
       "      <td>Imadol, Lalitpur</td>\n",
       "      <td>Rs. 1.99 Cr</td>\n",
       "      <td>2.3 aana</td>\n",
       "      <td>2.5</td>\n",
       "      <td>4.0</td>\n",
       "      <td>4.0</td>\n",
       "    </tr>\n",
       "    <tr>\n",
       "      <th>3</th>\n",
       "      <td>Bungalow House for Sale</td>\n",
       "      <td>Bhaisepati, Lalitpur</td>\n",
       "      <td>Rs. 4 Cr</td>\n",
       "      <td>7.0 aana</td>\n",
       "      <td>2.5</td>\n",
       "      <td>4.0</td>\n",
       "      <td>3.0</td>\n",
       "    </tr>\n",
       "    <tr>\n",
       "      <th>4</th>\n",
       "      <td>House for Rent</td>\n",
       "      <td>Maharajgunj, Kathmandu</td>\n",
       "      <td>Rs. 2.90 Cr</td>\n",
       "      <td>6.0 aana</td>\n",
       "      <td>2.0</td>\n",
       "      <td>4.0</td>\n",
       "      <td>4.0</td>\n",
       "    </tr>\n",
       "    <tr>\n",
       "      <th>...</th>\n",
       "      <td>...</td>\n",
       "      <td>...</td>\n",
       "      <td>...</td>\n",
       "      <td>...</td>\n",
       "      <td>...</td>\n",
       "      <td>...</td>\n",
       "      <td>...</td>\n",
       "    </tr>\n",
       "    <tr>\n",
       "      <th>5010</th>\n",
       "      <td>Chitwanma Sasto Ghaderi : Land For Sale In Chi...</td>\n",
       "      <td>Bharatpur 14 chitwan, Chitrawan, Chitwan</td>\n",
       "      <td>Rs. 3.8 Cr</td>\n",
       "      <td>12 aana</td>\n",
       "      <td>2.5</td>\n",
       "      <td>6.0</td>\n",
       "      <td>4.0</td>\n",
       "    </tr>\n",
       "    <tr>\n",
       "      <th>5011</th>\n",
       "      <td>Land For Sale In Baluwatar, Kathmandu</td>\n",
       "      <td>Tudaldevi, Baluwatar, Kathmandu</td>\n",
       "      <td>Rs. 3.6 Cr</td>\n",
       "      <td>13 Aana</td>\n",
       "      <td>2.5</td>\n",
       "      <td>5.0</td>\n",
       "      <td>5.0</td>\n",
       "    </tr>\n",
       "    <tr>\n",
       "      <th>5012</th>\n",
       "      <td>Land For Sale : Land For Sale In Taadi, Chitwan</td>\n",
       "      <td>Ratnanagar Tandi Chitwan, Taadi, Chitwan</td>\n",
       "      <td>Rs. 7 Cr</td>\n",
       "      <td>20 Aana</td>\n",
       "      <td>4.0</td>\n",
       "      <td>19.0</td>\n",
       "      <td>18.0</td>\n",
       "    </tr>\n",
       "    <tr>\n",
       "      <th>5013</th>\n",
       "      <td>House For Sale In Bharatpur, Chitwan</td>\n",
       "      <td>2, Bharatpur, Chitwan</td>\n",
       "      <td>Rs. 3.5 Cr</td>\n",
       "      <td>10 Aana</td>\n",
       "      <td>3.0</td>\n",
       "      <td>7.0</td>\n",
       "      <td>6.0</td>\n",
       "    </tr>\n",
       "    <tr>\n",
       "      <th>5014</th>\n",
       "      <td>House For Sale In Baluwatar, Kathmandu</td>\n",
       "      <td>Near PM Quarter, Baluwatar, Kathmandu</td>\n",
       "      <td>Rs. 3.9 Cr</td>\n",
       "      <td>5 Aana</td>\n",
       "      <td>3.0</td>\n",
       "      <td>5.0</td>\n",
       "      <td>5.0</td>\n",
       "    </tr>\n",
       "  </tbody>\n",
       "</table>\n",
       "<p>5011 rows × 7 columns</p>\n",
       "</div>"
      ],
      "text/plain": [
       "                                                  Title  \\\n",
       "0                                        House for Sale   \n",
       "1                                        House for Sale   \n",
       "2                                  4 BHK House for Sale   \n",
       "3                               Bungalow House for Sale   \n",
       "4                                        House for Rent   \n",
       "...                                                 ...   \n",
       "5010  Chitwanma Sasto Ghaderi : Land For Sale In Chi...   \n",
       "5011              Land For Sale In Baluwatar, Kathmandu   \n",
       "5012    Land For Sale : Land For Sale In Taadi, Chitwan   \n",
       "5013               House For Sale In Bharatpur, Chitwan   \n",
       "5014             House For Sale In Baluwatar, Kathmandu   \n",
       "\n",
       "                                       Address         Price      Area  \\\n",
       "0                             Imadol, Lalitpur   Rs. 2.9 Cr   4.0 aana   \n",
       "1                          Satdobato, Lalitpur  Rs. 4.75 Cr   3.0 aana   \n",
       "2                             Imadol, Lalitpur  Rs. 1.99 Cr   2.3 aana   \n",
       "3                         Bhaisepati, Lalitpur     Rs. 4 Cr   7.0 aana   \n",
       "4                       Maharajgunj, Kathmandu   Rs. 2.90 Cr  6.0 aana   \n",
       "...                                        ...           ...       ...   \n",
       "5010  Bharatpur 14 chitwan, Chitrawan, Chitwan   Rs. 3.8 Cr    12 aana   \n",
       "5011           Tudaldevi, Baluwatar, Kathmandu   Rs. 3.6 Cr    13 Aana   \n",
       "5012  Ratnanagar Tandi Chitwan, Taadi, Chitwan      Rs. 7 Cr   20 Aana   \n",
       "5013                     2, Bharatpur, Chitwan    Rs. 3.5 Cr   10 Aana   \n",
       "5014     Near PM Quarter, Baluwatar, Kathmandu   Rs. 3.9 Cr     5 Aana   \n",
       "\n",
       "      Floors  Bedroom  Bathroom  \n",
       "0        3.0      5.0       4.0  \n",
       "1        4.5      5.0       6.0  \n",
       "2        2.5      4.0       4.0  \n",
       "3        2.5      4.0       3.0  \n",
       "4        2.0      4.0       4.0  \n",
       "...      ...      ...       ...  \n",
       "5010     2.5      6.0       4.0  \n",
       "5011     2.5      5.0       5.0  \n",
       "5012     4.0     19.0      18.0  \n",
       "5013     3.0      7.0       6.0  \n",
       "5014     3.0      5.0       5.0  \n",
       "\n",
       "[5011 rows x 7 columns]"
      ]
     },
     "execution_count": 59,
     "metadata": {},
     "output_type": "execute_result"
    }
   ],
   "source": [
    "home"
   ]
  },
  {
   "cell_type": "code",
   "execution_count": 60,
   "id": "68028848",
   "metadata": {},
   "outputs": [
    {
     "data": {
      "text/plain": [
       "1"
      ]
     },
     "execution_count": 60,
     "metadata": {},
     "output_type": "execute_result"
    }
   ],
   "source": [
    "home.duplicated().sum()"
   ]
  },
  {
   "cell_type": "code",
   "execution_count": 61,
   "id": "8ff98735",
   "metadata": {},
   "outputs": [
    {
     "data": {
      "text/html": [
       "<div>\n",
       "<style scoped>\n",
       "    .dataframe tbody tr th:only-of-type {\n",
       "        vertical-align: middle;\n",
       "    }\n",
       "\n",
       "    .dataframe tbody tr th {\n",
       "        vertical-align: top;\n",
       "    }\n",
       "\n",
       "    .dataframe thead th {\n",
       "        text-align: right;\n",
       "    }\n",
       "</style>\n",
       "<table border=\"1\" class=\"dataframe\">\n",
       "  <thead>\n",
       "    <tr style=\"text-align: right;\">\n",
       "      <th></th>\n",
       "      <th>Title</th>\n",
       "      <th>Address</th>\n",
       "      <th>Price</th>\n",
       "      <th>Area</th>\n",
       "      <th>Floors</th>\n",
       "      <th>Bedroom</th>\n",
       "      <th>Bathroom</th>\n",
       "    </tr>\n",
       "  </thead>\n",
       "  <tbody>\n",
       "    <tr>\n",
       "      <th>0</th>\n",
       "      <td>House for Sale</td>\n",
       "      <td>Imadol, Lalitpur</td>\n",
       "      <td>Rs. 2.9 Cr</td>\n",
       "      <td>4.0 aana</td>\n",
       "      <td>3.0</td>\n",
       "      <td>5.0</td>\n",
       "      <td>4.0</td>\n",
       "    </tr>\n",
       "    <tr>\n",
       "      <th>1</th>\n",
       "      <td>House for Sale</td>\n",
       "      <td>Satdobato, Lalitpur</td>\n",
       "      <td>Rs. 4.75 Cr</td>\n",
       "      <td>3.0 aana</td>\n",
       "      <td>4.5</td>\n",
       "      <td>5.0</td>\n",
       "      <td>6.0</td>\n",
       "    </tr>\n",
       "    <tr>\n",
       "      <th>2</th>\n",
       "      <td>4 BHK House for Sale</td>\n",
       "      <td>Imadol, Lalitpur</td>\n",
       "      <td>Rs. 1.99 Cr</td>\n",
       "      <td>2.3 aana</td>\n",
       "      <td>2.5</td>\n",
       "      <td>4.0</td>\n",
       "      <td>4.0</td>\n",
       "    </tr>\n",
       "    <tr>\n",
       "      <th>3</th>\n",
       "      <td>Bungalow House for Sale</td>\n",
       "      <td>Bhaisepati, Lalitpur</td>\n",
       "      <td>Rs. 4 Cr</td>\n",
       "      <td>7.0 aana</td>\n",
       "      <td>2.5</td>\n",
       "      <td>4.0</td>\n",
       "      <td>3.0</td>\n",
       "    </tr>\n",
       "    <tr>\n",
       "      <th>4</th>\n",
       "      <td>House for Rent</td>\n",
       "      <td>Maharajgunj, Kathmandu</td>\n",
       "      <td>Rs. 2.90 Cr</td>\n",
       "      <td>6.0 aana</td>\n",
       "      <td>2.0</td>\n",
       "      <td>4.0</td>\n",
       "      <td>4.0</td>\n",
       "    </tr>\n",
       "    <tr>\n",
       "      <th>...</th>\n",
       "      <td>...</td>\n",
       "      <td>...</td>\n",
       "      <td>...</td>\n",
       "      <td>...</td>\n",
       "      <td>...</td>\n",
       "      <td>...</td>\n",
       "      <td>...</td>\n",
       "    </tr>\n",
       "    <tr>\n",
       "      <th>5010</th>\n",
       "      <td>Chitwanma Sasto Ghaderi : Land For Sale In Chi...</td>\n",
       "      <td>Bharatpur 14 chitwan, Chitrawan, Chitwan</td>\n",
       "      <td>Rs. 3.8 Cr</td>\n",
       "      <td>12 aana</td>\n",
       "      <td>2.5</td>\n",
       "      <td>6.0</td>\n",
       "      <td>4.0</td>\n",
       "    </tr>\n",
       "    <tr>\n",
       "      <th>5011</th>\n",
       "      <td>Land For Sale In Baluwatar, Kathmandu</td>\n",
       "      <td>Tudaldevi, Baluwatar, Kathmandu</td>\n",
       "      <td>Rs. 3.6 Cr</td>\n",
       "      <td>13 Aana</td>\n",
       "      <td>2.5</td>\n",
       "      <td>5.0</td>\n",
       "      <td>5.0</td>\n",
       "    </tr>\n",
       "    <tr>\n",
       "      <th>5012</th>\n",
       "      <td>Land For Sale : Land For Sale In Taadi, Chitwan</td>\n",
       "      <td>Ratnanagar Tandi Chitwan, Taadi, Chitwan</td>\n",
       "      <td>Rs. 7 Cr</td>\n",
       "      <td>20 Aana</td>\n",
       "      <td>4.0</td>\n",
       "      <td>19.0</td>\n",
       "      <td>18.0</td>\n",
       "    </tr>\n",
       "    <tr>\n",
       "      <th>5013</th>\n",
       "      <td>House For Sale In Bharatpur, Chitwan</td>\n",
       "      <td>2, Bharatpur, Chitwan</td>\n",
       "      <td>Rs. 3.5 Cr</td>\n",
       "      <td>10 Aana</td>\n",
       "      <td>3.0</td>\n",
       "      <td>7.0</td>\n",
       "      <td>6.0</td>\n",
       "    </tr>\n",
       "    <tr>\n",
       "      <th>5014</th>\n",
       "      <td>House For Sale In Baluwatar, Kathmandu</td>\n",
       "      <td>Near PM Quarter, Baluwatar, Kathmandu</td>\n",
       "      <td>Rs. 3.9 Cr</td>\n",
       "      <td>5 Aana</td>\n",
       "      <td>3.0</td>\n",
       "      <td>5.0</td>\n",
       "      <td>5.0</td>\n",
       "    </tr>\n",
       "  </tbody>\n",
       "</table>\n",
       "<p>5010 rows × 7 columns</p>\n",
       "</div>"
      ],
      "text/plain": [
       "                                                  Title  \\\n",
       "0                                        House for Sale   \n",
       "1                                        House for Sale   \n",
       "2                                  4 BHK House for Sale   \n",
       "3                               Bungalow House for Sale   \n",
       "4                                        House for Rent   \n",
       "...                                                 ...   \n",
       "5010  Chitwanma Sasto Ghaderi : Land For Sale In Chi...   \n",
       "5011              Land For Sale In Baluwatar, Kathmandu   \n",
       "5012    Land For Sale : Land For Sale In Taadi, Chitwan   \n",
       "5013               House For Sale In Bharatpur, Chitwan   \n",
       "5014             House For Sale In Baluwatar, Kathmandu   \n",
       "\n",
       "                                       Address         Price      Area  \\\n",
       "0                             Imadol, Lalitpur   Rs. 2.9 Cr   4.0 aana   \n",
       "1                          Satdobato, Lalitpur  Rs. 4.75 Cr   3.0 aana   \n",
       "2                             Imadol, Lalitpur  Rs. 1.99 Cr   2.3 aana   \n",
       "3                         Bhaisepati, Lalitpur     Rs. 4 Cr   7.0 aana   \n",
       "4                       Maharajgunj, Kathmandu   Rs. 2.90 Cr  6.0 aana   \n",
       "...                                        ...           ...       ...   \n",
       "5010  Bharatpur 14 chitwan, Chitrawan, Chitwan   Rs. 3.8 Cr    12 aana   \n",
       "5011           Tudaldevi, Baluwatar, Kathmandu   Rs. 3.6 Cr    13 Aana   \n",
       "5012  Ratnanagar Tandi Chitwan, Taadi, Chitwan      Rs. 7 Cr   20 Aana   \n",
       "5013                     2, Bharatpur, Chitwan    Rs. 3.5 Cr   10 Aana   \n",
       "5014     Near PM Quarter, Baluwatar, Kathmandu   Rs. 3.9 Cr     5 Aana   \n",
       "\n",
       "      Floors  Bedroom  Bathroom  \n",
       "0        3.0      5.0       4.0  \n",
       "1        4.5      5.0       6.0  \n",
       "2        2.5      4.0       4.0  \n",
       "3        2.5      4.0       3.0  \n",
       "4        2.0      4.0       4.0  \n",
       "...      ...      ...       ...  \n",
       "5010     2.5      6.0       4.0  \n",
       "5011     2.5      5.0       5.0  \n",
       "5012     4.0     19.0      18.0  \n",
       "5013     3.0      7.0       6.0  \n",
       "5014     3.0      5.0       5.0  \n",
       "\n",
       "[5010 rows x 7 columns]"
      ]
     },
     "execution_count": 61,
     "metadata": {},
     "output_type": "execute_result"
    }
   ],
   "source": [
    "home.drop_duplicates()"
   ]
  },
  {
   "cell_type": "code",
   "execution_count": 62,
   "id": "b88d955c",
   "metadata": {},
   "outputs": [
    {
     "data": {
      "text/plain": [
       "Title       0\n",
       "Address     0\n",
       "Price       0\n",
       "Area        0\n",
       "Floors      0\n",
       "Bedroom     0\n",
       "Bathroom    0\n",
       "dtype: int64"
      ]
     },
     "execution_count": 62,
     "metadata": {},
     "output_type": "execute_result"
    }
   ],
   "source": [
    "home.isnull().sum()"
   ]
  },
  {
   "cell_type": "code",
   "execution_count": 63,
   "id": "7c328f93",
   "metadata": {},
   "outputs": [
    {
     "data": {
      "text/plain": [
       "(5011, 7)"
      ]
     },
     "execution_count": 63,
     "metadata": {},
     "output_type": "execute_result"
    }
   ],
   "source": [
    "home.shape"
   ]
  },
  {
   "cell_type": "code",
   "execution_count": 64,
   "id": "51a519af",
   "metadata": {},
   "outputs": [
    {
     "name": "stdout",
     "output_type": "stream",
     "text": [
      "<class 'pandas.core.frame.DataFrame'>\n",
      "Int64Index: 5011 entries, 0 to 5014\n",
      "Data columns (total 7 columns):\n",
      " #   Column    Non-Null Count  Dtype  \n",
      "---  ------    --------------  -----  \n",
      " 0   Title     5011 non-null   object \n",
      " 1   Address   5011 non-null   object \n",
      " 2   Price     5011 non-null   object \n",
      " 3   Area      5011 non-null   object \n",
      " 4   Floors    5011 non-null   float64\n",
      " 5   Bedroom   5011 non-null   float64\n",
      " 6   Bathroom  5011 non-null   float64\n",
      "dtypes: float64(3), object(4)\n",
      "memory usage: 313.2+ KB\n"
     ]
    }
   ],
   "source": [
    "home.info()"
   ]
  },
  {
   "cell_type": "code",
   "execution_count": 65,
   "id": "bb40b264",
   "metadata": {},
   "outputs": [
    {
     "name": "stderr",
     "output_type": "stream",
     "text": [
      "C:\\Users\\Dell\\AppData\\Local\\Temp\\ipykernel_1940\\1915959737.py:1: FutureWarning: The default value of regex will change from True to False in a future version.\n",
      "  home['Price'] = home['Price'].str.replace('Rs.','')\n"
     ]
    }
   ],
   "source": [
    "home['Price'] = home['Price'].str.replace('Rs.','')"
   ]
  },
  {
   "cell_type": "code",
   "execution_count": 66,
   "id": "3fa2dbc4",
   "metadata": {},
   "outputs": [],
   "source": [
    "home['Price'] = home['Price'].str.replace('Cr','')"
   ]
  },
  {
   "cell_type": "code",
   "execution_count": 67,
   "id": "08492721",
   "metadata": {},
   "outputs": [],
   "source": [
    "home['Area'] = home['Area'].str.replace('aana','')"
   ]
  },
  {
   "cell_type": "code",
   "execution_count": 68,
   "id": "cac24f8a",
   "metadata": {},
   "outputs": [],
   "source": [
    "home['Area'] = home['Area'].str.replace('Aana','')"
   ]
  },
  {
   "cell_type": "code",
   "execution_count": 69,
   "id": "1d250a64",
   "metadata": {},
   "outputs": [
    {
     "name": "stderr",
     "output_type": "stream",
     "text": [
      "C:\\Users\\Dell\\AppData\\Local\\Temp\\ipykernel_1940\\3826133102.py:1: FutureWarning: The default value of regex will change from True to False in a future version.\n",
      "  home['Area'] = home['Area'].str.replace('14.4.0','14')\n"
     ]
    }
   ],
   "source": [
    "home['Area'] = home['Area'].str.replace('14.4.0','14')"
   ]
  },
  {
   "cell_type": "code",
   "execution_count": 70,
   "id": "4a6fac2a",
   "metadata": {},
   "outputs": [
    {
     "name": "stderr",
     "output_type": "stream",
     "text": [
      "C:\\Users\\Dell\\AppData\\Local\\Temp\\ipykernel_1940\\4174468510.py:1: FutureWarning: The default value of regex will change from True to False in a future version.\n",
      "  home['Area'] = home['Area'].str.replace('0.5 kattha','20')\n"
     ]
    }
   ],
   "source": [
    "home['Area'] = home['Area'].str.replace('0.5 kattha','20')"
   ]
  },
  {
   "cell_type": "code",
   "execution_count": 71,
   "id": "fd30879f",
   "metadata": {},
   "outputs": [
    {
     "name": "stderr",
     "output_type": "stream",
     "text": [
      "C:\\Users\\Dell\\AppData\\Local\\Temp\\ipykernel_1940\\1679220817.py:1: FutureWarning: The default value of regex will change from True to False in a future version.\n",
      "  home['Area'] = home['Area'].str.replace('2700 sq. ft','13.5')\n"
     ]
    }
   ],
   "source": [
    "home['Area'] = home['Area'].str.replace('2700 sq. ft','13.5')"
   ]
  },
  {
   "cell_type": "code",
   "execution_count": 72,
   "id": "e618a11f",
   "metadata": {},
   "outputs": [
    {
     "name": "stderr",
     "output_type": "stream",
     "text": [
      "C:\\Users\\Dell\\AppData\\Local\\Temp\\ipykernel_1940\\555058243.py:1: FutureWarning: The default value of regex will change from True to False in a future version.\n",
      "  home['Area'] = home['Area'].str.replace('13.0 aaa','13.0')\n"
     ]
    }
   ],
   "source": [
    "home['Area'] = home['Area'].str.replace('13.0 aaa','13.0')"
   ]
  },
  {
   "cell_type": "code",
   "execution_count": 73,
   "id": "70a040a8",
   "metadata": {},
   "outputs": [
    {
     "name": "stderr",
     "output_type": "stream",
     "text": [
      "C:\\Users\\Dell\\AppData\\Local\\Temp\\ipykernel_1940\\2414225889.py:1: FutureWarning: The default value of regex will change from True to False in a future version.\n",
      "  home['Area'] = home['Area'].str.replace('1886 sq. ft','9.5')\n"
     ]
    }
   ],
   "source": [
    "home['Area'] = home['Area'].str.replace('1886 sq. ft','9.5')"
   ]
  },
  {
   "cell_type": "code",
   "execution_count": 74,
   "id": "c7c81afc",
   "metadata": {},
   "outputs": [
    {
     "name": "stderr",
     "output_type": "stream",
     "text": [
      "C:\\Users\\Dell\\AppData\\Local\\Temp\\ipykernel_1940\\2191557337.py:1: FutureWarning: The default value of regex will change from True to False in a future version.\n",
      "  home['Area'] = home['Area'].str.replace('12.0 ana','12.0')\n"
     ]
    }
   ],
   "source": [
    "home['Area'] = home['Area'].str.replace('12.0 ana','12.0')"
   ]
  },
  {
   "cell_type": "code",
   "execution_count": 75,
   "id": "d1f0e7dc",
   "metadata": {},
   "outputs": [],
   "source": [
    "home['Area'] = home['Area'].str.replace('0-4-2-3 Ropani','14.5')"
   ]
  },
  {
   "cell_type": "code",
   "execution_count": 76,
   "id": "a5d3d413",
   "metadata": {},
   "outputs": [
    {
     "data": {
      "text/html": [
       "<div>\n",
       "<style scoped>\n",
       "    .dataframe tbody tr th:only-of-type {\n",
       "        vertical-align: middle;\n",
       "    }\n",
       "\n",
       "    .dataframe tbody tr th {\n",
       "        vertical-align: top;\n",
       "    }\n",
       "\n",
       "    .dataframe thead th {\n",
       "        text-align: right;\n",
       "    }\n",
       "</style>\n",
       "<table border=\"1\" class=\"dataframe\">\n",
       "  <thead>\n",
       "    <tr style=\"text-align: right;\">\n",
       "      <th></th>\n",
       "      <th>Title</th>\n",
       "      <th>Address</th>\n",
       "      <th>Price</th>\n",
       "      <th>Area</th>\n",
       "      <th>Floors</th>\n",
       "      <th>Bedroom</th>\n",
       "      <th>Bathroom</th>\n",
       "    </tr>\n",
       "  </thead>\n",
       "  <tbody>\n",
       "    <tr>\n",
       "      <th>1735</th>\n",
       "      <td>Brand new house for sale in Gwarko, Lalitpur</td>\n",
       "      <td>Gwarko, Lalitpur</td>\n",
       "      <td>3.55</td>\n",
       "      <td>4.2</td>\n",
       "      <td>3.5</td>\n",
       "      <td>6.0</td>\n",
       "      <td>5.0</td>\n",
       "    </tr>\n",
       "    <tr>\n",
       "      <th>1909</th>\n",
       "      <td>Beautiful bungalow for sale in Buddha Chowk Sw...</td>\n",
       "      <td>Swoyambhu, Kathmandu</td>\n",
       "      <td>3.65</td>\n",
       "      <td>21.0</td>\n",
       "      <td>2.5</td>\n",
       "      <td>5.0</td>\n",
       "      <td>5.0</td>\n",
       "    </tr>\n",
       "    <tr>\n",
       "      <th>4634</th>\n",
       "      <td>House For Sale In Birgunj, Parsa</td>\n",
       "      <td>Alakhiya math main road, Birgunj, Parsa</td>\n",
       "      <td>6.5</td>\n",
       "      <td>40</td>\n",
       "      <td>4.0</td>\n",
       "      <td>24.0</td>\n",
       "      <td>22.0</td>\n",
       "    </tr>\n",
       "    <tr>\n",
       "      <th>2670</th>\n",
       "      <td>House on rent in Thapathali Height</td>\n",
       "      <td>Thapathali, Kathmandu</td>\n",
       "      <td>3.66</td>\n",
       "      <td>48.0</td>\n",
       "      <td>2.5</td>\n",
       "      <td>6.0</td>\n",
       "      <td>4.0</td>\n",
       "    </tr>\n",
       "    <tr>\n",
       "      <th>2039</th>\n",
       "      <td>House For Sale At Kapan, Ram Mandir</td>\n",
       "      <td>Kapan, Kathmandu</td>\n",
       "      <td>4.55</td>\n",
       "      <td>6.0</td>\n",
       "      <td>2.5</td>\n",
       "      <td>5.0</td>\n",
       "      <td>3.0</td>\n",
       "    </tr>\n",
       "    <tr>\n",
       "      <th>4820</th>\n",
       "      <td>House For Sale In Budhanilkantha, Kathmandu</td>\n",
       "      <td>Budhanilkantha, Budhanilkantha, Kathmandu</td>\n",
       "      <td>2.9</td>\n",
       "      <td>10</td>\n",
       "      <td>2.0</td>\n",
       "      <td>4.0</td>\n",
       "      <td>4.0</td>\n",
       "    </tr>\n",
       "    <tr>\n",
       "      <th>2211</th>\n",
       "      <td>House on sale at Deuba Chowk, Budhanilkantha</td>\n",
       "      <td>Kathmandu</td>\n",
       "      <td>7.65</td>\n",
       "      <td>8.0</td>\n",
       "      <td>4.0</td>\n",
       "      <td>15.0</td>\n",
       "      <td>13.0</td>\n",
       "    </tr>\n",
       "    <tr>\n",
       "      <th>132</th>\n",
       "      <td>House for Sale</td>\n",
       "      <td>Tikathali, Lalitpur</td>\n",
       "      <td>2.55</td>\n",
       "      <td>3.0</td>\n",
       "      <td>3.0</td>\n",
       "      <td>6.0</td>\n",
       "      <td>5.0</td>\n",
       "    </tr>\n",
       "    <tr>\n",
       "      <th>343</th>\n",
       "      <td>Under construction House for Sale</td>\n",
       "      <td>Omsatiya, Rupandehi</td>\n",
       "      <td>2.2</td>\n",
       "      <td>12</td>\n",
       "      <td>2.5</td>\n",
       "      <td>4.0</td>\n",
       "      <td>4.0</td>\n",
       "    </tr>\n",
       "    <tr>\n",
       "      <th>2387</th>\n",
       "      <td>House for sale in Boudha</td>\n",
       "      <td>Bouddha, Kathmandu</td>\n",
       "      <td>6.75</td>\n",
       "      <td>9.2</td>\n",
       "      <td>4.0</td>\n",
       "      <td>8.0</td>\n",
       "      <td>8.0</td>\n",
       "    </tr>\n",
       "  </tbody>\n",
       "</table>\n",
       "</div>"
      ],
      "text/plain": [
       "                                                  Title  \\\n",
       "1735       Brand new house for sale in Gwarko, Lalitpur   \n",
       "1909  Beautiful bungalow for sale in Buddha Chowk Sw...   \n",
       "4634                   House For Sale In Birgunj, Parsa   \n",
       "2670                 House on rent in Thapathali Height   \n",
       "2039                House For Sale At Kapan, Ram Mandir   \n",
       "4820        House For Sale In Budhanilkantha, Kathmandu   \n",
       "2211       House on sale at Deuba Chowk, Budhanilkantha   \n",
       "132                                      House for Sale   \n",
       "343                   Under construction House for Sale   \n",
       "2387                           House for sale in Boudha   \n",
       "\n",
       "                                        Address    Price   Area  Floors  \\\n",
       "1735                           Gwarko, Lalitpur   3.55     4.2      3.5   \n",
       "1909                       Swoyambhu, Kathmandu   3.65    21.0      2.5   \n",
       "4634    Alakhiya math main road, Birgunj, Parsa    6.5      40      4.0   \n",
       "2670                      Thapathali, Kathmandu    3.66   48.0      2.5   \n",
       "2039                           Kapan, Kathmandu   4.55     6.0      2.5   \n",
       "4820  Budhanilkantha, Budhanilkantha, Kathmandu     2.9     10      2.0   \n",
       "2211                                  Kathmandu   7.65     8.0      4.0   \n",
       "132                         Tikathali, Lalitpur   2.55     3.0      3.0   \n",
       "343                         Omsatiya, Rupandehi    2.2      12      2.5   \n",
       "2387                         Bouddha, Kathmandu   6.75     9.2      4.0   \n",
       "\n",
       "      Bedroom  Bathroom  \n",
       "1735      6.0       5.0  \n",
       "1909      5.0       5.0  \n",
       "4634     24.0      22.0  \n",
       "2670      6.0       4.0  \n",
       "2039      5.0       3.0  \n",
       "4820      4.0       4.0  \n",
       "2211     15.0      13.0  \n",
       "132       6.0       5.0  \n",
       "343       4.0       4.0  \n",
       "2387      8.0       8.0  "
      ]
     },
     "execution_count": 76,
     "metadata": {},
     "output_type": "execute_result"
    }
   ],
   "source": [
    "home.sample(10)"
   ]
  },
  {
   "cell_type": "code",
   "execution_count": 77,
   "id": "65560afe",
   "metadata": {},
   "outputs": [],
   "source": [
    "home['Price'] = pd.to_numeric(home['Price'])"
   ]
  },
  {
   "cell_type": "code",
   "execution_count": 78,
   "id": "65b42bb7",
   "metadata": {},
   "outputs": [],
   "source": [
    "home['Area'] = pd.to_numeric(home['Area'])"
   ]
  },
  {
   "cell_type": "code",
   "execution_count": 79,
   "id": "e6f16678",
   "metadata": {},
   "outputs": [
    {
     "name": "stdout",
     "output_type": "stream",
     "text": [
      "<class 'pandas.core.frame.DataFrame'>\n",
      "Int64Index: 5011 entries, 0 to 5014\n",
      "Data columns (total 7 columns):\n",
      " #   Column    Non-Null Count  Dtype  \n",
      "---  ------    --------------  -----  \n",
      " 0   Title     5011 non-null   object \n",
      " 1   Address   5011 non-null   object \n",
      " 2   Price     5011 non-null   float64\n",
      " 3   Area      5011 non-null   float64\n",
      " 4   Floors    5011 non-null   float64\n",
      " 5   Bedroom   5011 non-null   float64\n",
      " 6   Bathroom  5011 non-null   float64\n",
      "dtypes: float64(5), object(2)\n",
      "memory usage: 313.2+ KB\n"
     ]
    }
   ],
   "source": [
    "home.info()"
   ]
  },
  {
   "cell_type": "code",
   "execution_count": 80,
   "id": "8e7e08c3",
   "metadata": {},
   "outputs": [
    {
     "data": {
      "text/html": [
       "<div>\n",
       "<style scoped>\n",
       "    .dataframe tbody tr th:only-of-type {\n",
       "        vertical-align: middle;\n",
       "    }\n",
       "\n",
       "    .dataframe tbody tr th {\n",
       "        vertical-align: top;\n",
       "    }\n",
       "\n",
       "    .dataframe thead th {\n",
       "        text-align: right;\n",
       "    }\n",
       "</style>\n",
       "<table border=\"1\" class=\"dataframe\">\n",
       "  <thead>\n",
       "    <tr style=\"text-align: right;\">\n",
       "      <th></th>\n",
       "      <th>Price</th>\n",
       "      <th>Area</th>\n",
       "      <th>Floors</th>\n",
       "      <th>Bedroom</th>\n",
       "      <th>Bathroom</th>\n",
       "    </tr>\n",
       "  </thead>\n",
       "  <tbody>\n",
       "    <tr>\n",
       "      <th>count</th>\n",
       "      <td>5011.000000</td>\n",
       "      <td>5011.000000</td>\n",
       "      <td>5011.000000</td>\n",
       "      <td>5011.000000</td>\n",
       "      <td>5011.000000</td>\n",
       "    </tr>\n",
       "    <tr>\n",
       "      <th>mean</th>\n",
       "      <td>4.035450</td>\n",
       "      <td>8.377793</td>\n",
       "      <td>2.696049</td>\n",
       "      <td>6.553183</td>\n",
       "      <td>5.166434</td>\n",
       "    </tr>\n",
       "    <tr>\n",
       "      <th>std</th>\n",
       "      <td>2.363108</td>\n",
       "      <td>8.013890</td>\n",
       "      <td>0.921647</td>\n",
       "      <td>4.649095</td>\n",
       "      <td>4.021479</td>\n",
       "    </tr>\n",
       "    <tr>\n",
       "      <th>min</th>\n",
       "      <td>0.750000</td>\n",
       "      <td>0.000000</td>\n",
       "      <td>1.000000</td>\n",
       "      <td>0.000000</td>\n",
       "      <td>0.000000</td>\n",
       "    </tr>\n",
       "    <tr>\n",
       "      <th>25%</th>\n",
       "      <td>2.900000</td>\n",
       "      <td>4.000000</td>\n",
       "      <td>2.500000</td>\n",
       "      <td>4.000000</td>\n",
       "      <td>3.000000</td>\n",
       "    </tr>\n",
       "    <tr>\n",
       "      <th>50%</th>\n",
       "      <td>3.600000</td>\n",
       "      <td>5.500000</td>\n",
       "      <td>2.500000</td>\n",
       "      <td>5.000000</td>\n",
       "      <td>4.000000</td>\n",
       "    </tr>\n",
       "    <tr>\n",
       "      <th>75%</th>\n",
       "      <td>4.500000</td>\n",
       "      <td>11.000000</td>\n",
       "      <td>3.000000</td>\n",
       "      <td>7.000000</td>\n",
       "      <td>5.000000</td>\n",
       "    </tr>\n",
       "    <tr>\n",
       "      <th>max</th>\n",
       "      <td>70.000000</td>\n",
       "      <td>124.000000</td>\n",
       "      <td>23.500000</td>\n",
       "      <td>70.000000</td>\n",
       "      <td>40.000000</td>\n",
       "    </tr>\n",
       "  </tbody>\n",
       "</table>\n",
       "</div>"
      ],
      "text/plain": [
       "             Price         Area       Floors      Bedroom     Bathroom\n",
       "count  5011.000000  5011.000000  5011.000000  5011.000000  5011.000000\n",
       "mean      4.035450     8.377793     2.696049     6.553183     5.166434\n",
       "std       2.363108     8.013890     0.921647     4.649095     4.021479\n",
       "min       0.750000     0.000000     1.000000     0.000000     0.000000\n",
       "25%       2.900000     4.000000     2.500000     4.000000     3.000000\n",
       "50%       3.600000     5.500000     2.500000     5.000000     4.000000\n",
       "75%       4.500000    11.000000     3.000000     7.000000     5.000000\n",
       "max      70.000000   124.000000    23.500000    70.000000    40.000000"
      ]
     },
     "execution_count": 80,
     "metadata": {},
     "output_type": "execute_result"
    }
   ],
   "source": [
    "home.describe()"
   ]
  },
  {
   "cell_type": "code",
   "execution_count": 81,
   "id": "61056927",
   "metadata": {},
   "outputs": [],
   "source": [
    "import seaborn as sns"
   ]
  },
  {
   "cell_type": "code",
   "execution_count": 82,
   "id": "fdb38328",
   "metadata": {},
   "outputs": [
    {
     "name": "stderr",
     "output_type": "stream",
     "text": [
      "C:\\Users\\Dell\\AppData\\Local\\Temp\\ipykernel_1940\\1672699926.py:1: UserWarning: \n",
      "\n",
      "`distplot` is a deprecated function and will be removed in seaborn v0.14.0.\n",
      "\n",
      "Please adapt your code to use either `displot` (a figure-level function with\n",
      "similar flexibility) or `histplot` (an axes-level function for histograms).\n",
      "\n",
      "For a guide to updating your code to use the new functions, please see\n",
      "https://gist.github.com/mwaskom/de44147ed2974457ad6372750bbe5751\n",
      "\n",
      "  sns.distplot(home['Price'])\n"
     ]
    },
    {
     "data": {
      "text/plain": [
       "<Axes: xlabel='Price', ylabel='Density'>"
      ]
     },
     "execution_count": 82,
     "metadata": {},
     "output_type": "execute_result"
    },
    {
     "data": {
      "image/png": "[encoded data removed]",
      "text/plain": [
       "<Figure size 640x480 with 1 Axes>"
      ]
     },
     "metadata": {},
     "output_type": "display_data"
    }
   ],
   "source": [
    "sns.distplot(home['Price'])"
   ]
  },
  {
   "cell_type": "code",
   "execution_count": 83,
   "id": "931b7105",
   "metadata": {},
   "outputs": [
    {
     "data": {
      "text/plain": [
       "<Axes: >"
      ]
     },
     "execution_count": 83,
     "metadata": {},
     "output_type": "execute_result"
    },
    {
     "name": "stderr",
     "output_type": "stream",
     "text": [
      "C:\\Users\\Dell\\.conda\\envs\\Shambhu\\lib\\site-packages\\IPython\\core\\events.py:89: UserWarning: Glyph 2335 (\\N{DEVANAGARI LETTER TTA}) missing from current font.\n",
      "  func(*args, **kwargs)\n",
      "C:\\Users\\Dell\\.conda\\envs\\Shambhu\\lib\\site-packages\\IPython\\core\\events.py:89: UserWarning: Matplotlib currently does not support Devanagari natively.\n",
      "  func(*args, **kwargs)\n",
      "C:\\Users\\Dell\\.conda\\envs\\Shambhu\\lib\\site-packages\\IPython\\core\\events.py:89: UserWarning: Glyph 2367 (\\N{DEVANAGARI VOWEL SIGN I}) missing from current font.\n",
      "  func(*args, **kwargs)\n",
      "C:\\Users\\Dell\\.conda\\envs\\Shambhu\\lib\\site-packages\\IPython\\core\\events.py:89: UserWarning: Glyph 2325 (\\N{DEVANAGARI LETTER KA}) missing from current font.\n",
      "  func(*args, **kwargs)\n",
      "C:\\Users\\Dell\\.conda\\envs\\Shambhu\\lib\\site-packages\\IPython\\core\\events.py:89: UserWarning: Glyph 2366 (\\N{DEVANAGARI VOWEL SIGN AA}) missing from current font.\n",
      "  func(*args, **kwargs)\n",
      "C:\\Users\\Dell\\.conda\\envs\\Shambhu\\lib\\site-packages\\IPython\\core\\events.py:89: UserWarning: Glyph 2349 (\\N{DEVANAGARI LETTER BHA}) missing from current font.\n",
      "  func(*args, **kwargs)\n",
      "C:\\Users\\Dell\\.conda\\envs\\Shambhu\\lib\\site-packages\\IPython\\core\\events.py:89: UserWarning: Glyph 2376 (\\N{DEVANAGARI VOWEL SIGN AI}) missing from current font.\n",
      "  func(*args, **kwargs)\n",
      "C:\\Users\\Dell\\.conda\\envs\\Shambhu\\lib\\site-packages\\IPython\\core\\events.py:89: UserWarning: Glyph 2352 (\\N{DEVANAGARI LETTER RA}) missing from current font.\n",
      "  func(*args, **kwargs)\n",
      "C:\\Users\\Dell\\.conda\\envs\\Shambhu\\lib\\site-packages\\IPython\\core\\events.py:89: UserWarning: Glyph 2348 (\\N{DEVANAGARI LETTER BA}) missing from current font.\n",
      "  func(*args, **kwargs)\n",
      "C:\\Users\\Dell\\.conda\\envs\\Shambhu\\lib\\site-packages\\IPython\\core\\events.py:89: UserWarning: Glyph 2379 (\\N{DEVANAGARI VOWEL SIGN O}) missing from current font.\n",
      "  func(*args, **kwargs)\n",
      "C:\\Users\\Dell\\.conda\\envs\\Shambhu\\lib\\site-packages\\IPython\\core\\events.py:89: UserWarning: Glyph 2337 (\\N{DEVANAGARI LETTER DDA}) missing from current font.\n",
      "  func(*args, **kwargs)\n",
      "C:\\Users\\Dell\\.conda\\envs\\Shambhu\\lib\\site-packages\\IPython\\core\\events.py:89: UserWarning: Glyph 2373 (\\N{DEVANAGARI VOWEL SIGN CANDRA E}) missing from current font.\n",
      "  func(*args, **kwargs)\n",
      "C:\\Users\\Dell\\.conda\\envs\\Shambhu\\lib\\site-packages\\IPython\\core\\pylabtools.py:152: UserWarning: Glyph 2335 (\\N{DEVANAGARI LETTER TTA}) missing from current font.\n",
      "  fig.canvas.print_figure(bytes_io, **kw)\n",
      "C:\\Users\\Dell\\.conda\\envs\\Shambhu\\lib\\site-packages\\IPython\\core\\pylabtools.py:152: UserWarning: Matplotlib currently does not support Devanagari natively.\n",
      "  fig.canvas.print_figure(bytes_io, **kw)\n",
      "C:\\Users\\Dell\\.conda\\envs\\Shambhu\\lib\\site-packages\\IPython\\core\\pylabtools.py:152: UserWarning: Glyph 2367 (\\N{DEVANAGARI VOWEL SIGN I}) missing from current font.\n",
      "  fig.canvas.print_figure(bytes_io, **kw)\n",
      "C:\\Users\\Dell\\.conda\\envs\\Shambhu\\lib\\site-packages\\IPython\\core\\pylabtools.py:152: UserWarning: Glyph 2325 (\\N{DEVANAGARI LETTER KA}) missing from current font.\n",
      "  fig.canvas.print_figure(bytes_io, **kw)\n",
      "C:\\Users\\Dell\\.conda\\envs\\Shambhu\\lib\\site-packages\\IPython\\core\\pylabtools.py:152: UserWarning: Glyph 2366 (\\N{DEVANAGARI VOWEL SIGN AA}) missing from current font.\n",
      "  fig.canvas.print_figure(bytes_io, **kw)\n",
      "C:\\Users\\Dell\\.conda\\envs\\Shambhu\\lib\\site-packages\\IPython\\core\\pylabtools.py:152: UserWarning: Glyph 2349 (\\N{DEVANAGARI LETTER BHA}) missing from current font.\n",
      "  fig.canvas.print_figure(bytes_io, **kw)\n",
      "C:\\Users\\Dell\\.conda\\envs\\Shambhu\\lib\\site-packages\\IPython\\core\\pylabtools.py:152: UserWarning: Glyph 2376 (\\N{DEVANAGARI VOWEL SIGN AI}) missing from current font.\n",
      "  fig.canvas.print_figure(bytes_io, **kw)\n",
      "C:\\Users\\Dell\\.conda\\envs\\Shambhu\\lib\\site-packages\\IPython\\core\\pylabtools.py:152: UserWarning: Glyph 2352 (\\N{DEVANAGARI LETTER RA}) missing from current font.\n",
      "  fig.canvas.print_figure(bytes_io, **kw)\n",
      "C:\\Users\\Dell\\.conda\\envs\\Shambhu\\lib\\site-packages\\IPython\\core\\pylabtools.py:152: UserWarning: Glyph 2348 (\\N{DEVANAGARI LETTER BA}) missing from current font.\n",
      "  fig.canvas.print_figure(bytes_io, **kw)\n",
      "C:\\Users\\Dell\\.conda\\envs\\Shambhu\\lib\\site-packages\\IPython\\core\\pylabtools.py:152: UserWarning: Glyph 2379 (\\N{DEVANAGARI VOWEL SIGN O}) missing from current font.\n",
      "  fig.canvas.print_figure(bytes_io, **kw)\n",
      "C:\\Users\\Dell\\.conda\\envs\\Shambhu\\lib\\site-packages\\IPython\\core\\pylabtools.py:152: UserWarning: Glyph 2337 (\\N{DEVANAGARI LETTER DDA}) missing from current font.\n",
      "  fig.canvas.print_figure(bytes_io, **kw)\n",
      "C:\\Users\\Dell\\.conda\\envs\\Shambhu\\lib\\site-packages\\IPython\\core\\pylabtools.py:152: UserWarning: Glyph 2373 (\\N{DEVANAGARI VOWEL SIGN CANDRA E}) missing from current font.\n",
      "  fig.canvas.print_figure(bytes_io, **kw)\n"
     ]
    },
    {
     "data": {
      "image/png": "[encoded data removed]",
      "text/plain": [
       "<Figure size 640x480 with 1 Axes>"
      ]
     },
     "metadata": {},
     "output_type": "display_data"
    }
   ],
   "source": [
    "home['Address'].value_counts().plot(kind='bar')"
   ]
  },
  {
   "cell_type": "code",
   "execution_count": 84,
   "id": "408fcfeb",
   "metadata": {},
   "outputs": [
    {
     "data": {
      "text/plain": [
       "Imadol, Lalitpur                                    233\n",
       "Bhaisepati, Lalitpur                                231\n",
       "Budhanilkantha, Kathmandu                           192\n",
       "Dhapasi, Kathmandu                                   74\n",
       "Kapan, Kathmandu                                     56\n",
       "                                                   ... \n",
       "Thankot, Thankot, Kathmandu                           1\n",
       "townplanning, Samakhusi, Kathmandu                    1\n",
       "Tarahara bhuwanipur, Birtamod Road, Itahari           1\n",
       "Nearby Guheshwori Planning, Gaurighat, Kathmandu      1\n",
       "Near PM Quarter, Baluwatar, Kathmandu                 1\n",
       "Name: Address, Length: 1706, dtype: int64"
      ]
     },
     "execution_count": 84,
     "metadata": {},
     "output_type": "execute_result"
    }
   ],
   "source": [
    "home['Address'].value_counts()"
   ]
  },
  {
   "cell_type": "code",
   "execution_count": 85,
   "id": "94372c1f",
   "metadata": {},
   "outputs": [
    {
     "data": {
      "text/plain": [
       "array(['Imadol, Lalitpur', 'Satdobato, Lalitpur', 'Bhaisepati, Lalitpur',\n",
       "       ..., 'Ratnanagar Tandi Chitwan, Taadi, Chitwan',\n",
       "       '2, Bharatpur, Chitwan', 'Near PM Quarter, Baluwatar, Kathmandu'],\n",
       "      dtype=object)"
      ]
     },
     "execution_count": 85,
     "metadata": {},
     "output_type": "execute_result"
    }
   ],
   "source": [
    "home.Address.unique()"
   ]
  },
  {
   "cell_type": "code",
   "execution_count": null,
   "id": "562c9e30",
   "metadata": {},
   "outputs": [],
   "source": []
  },
  {
   "cell_type": "code",
   "execution_count": 86,
   "id": "3c1f651f",
   "metadata": {},
   "outputs": [],
   "source": [
    "home['City']=home['Address'].apply(lambda x:\"\".join(x.split()[-1]))"
   ]
  },
  {
   "cell_type": "code",
   "execution_count": 87,
   "id": "68e4de60",
   "metadata": {},
   "outputs": [],
   "source": [
    "A=home['Address'].apply(lambda x:(x.split()))"
   ]
  },
  {
   "cell_type": "code",
   "execution_count": 88,
   "id": "4b6cffd2",
   "metadata": {},
   "outputs": [],
   "source": [
    "home['Address'] = [inner_list[:-1] for inner_list in A]"
   ]
  },
  {
   "cell_type": "code",
   "execution_count": 89,
   "id": "a856a88a",
   "metadata": {},
   "outputs": [
    {
     "data": {
      "text/html": [
       "<div>\n",
       "<style scoped>\n",
       "    .dataframe tbody tr th:only-of-type {\n",
       "        vertical-align: middle;\n",
       "    }\n",
       "\n",
       "    .dataframe tbody tr th {\n",
       "        vertical-align: top;\n",
       "    }\n",
       "\n",
       "    .dataframe thead th {\n",
       "        text-align: right;\n",
       "    }\n",
       "</style>\n",
       "<table border=\"1\" class=\"dataframe\">\n",
       "  <thead>\n",
       "    <tr style=\"text-align: right;\">\n",
       "      <th></th>\n",
       "      <th>Title</th>\n",
       "      <th>Address</th>\n",
       "      <th>Price</th>\n",
       "      <th>Area</th>\n",
       "      <th>Floors</th>\n",
       "      <th>Bedroom</th>\n",
       "      <th>Bathroom</th>\n",
       "      <th>City</th>\n",
       "    </tr>\n",
       "  </thead>\n",
       "  <tbody>\n",
       "    <tr>\n",
       "      <th>656</th>\n",
       "      <td>Flat system house for sale in Imadol</td>\n",
       "      <td>[Imadol,]</td>\n",
       "      <td>2.5</td>\n",
       "      <td>3.0</td>\n",
       "      <td>2.5</td>\n",
       "      <td>4.0</td>\n",
       "      <td>4.0</td>\n",
       "      <td>Lalitpur</td>\n",
       "    </tr>\n",
       "  </tbody>\n",
       "</table>\n",
       "</div>"
      ],
      "text/plain": [
       "                                    Title    Address  Price  Area  Floors  \\\n",
       "656  Flat system house for sale in Imadol  [Imadol,]    2.5   3.0     2.5   \n",
       "\n",
       "     Bedroom  Bathroom      City  \n",
       "656      4.0       4.0  Lalitpur  "
      ]
     },
     "execution_count": 89,
     "metadata": {},
     "output_type": "execute_result"
    }
   ],
   "source": [
    "home.sample()"
   ]
  },
  {
   "cell_type": "code",
   "execution_count": 90,
   "id": "058a7947",
   "metadata": {},
   "outputs": [],
   "source": [
    "home['Address']=home['Address'].apply(lambda x:\"\".join(x))"
   ]
  },
  {
   "cell_type": "code",
   "execution_count": null,
   "id": "d0bf332d",
   "metadata": {},
   "outputs": [],
   "source": []
  },
  {
   "cell_type": "code",
   "execution_count": 91,
   "id": "347f5dd5",
   "metadata": {},
   "outputs": [
    {
     "data": {
      "text/html": [
       "<div>\n",
       "<style scoped>\n",
       "    .dataframe tbody tr th:only-of-type {\n",
       "        vertical-align: middle;\n",
       "    }\n",
       "\n",
       "    .dataframe tbody tr th {\n",
       "        vertical-align: top;\n",
       "    }\n",
       "\n",
       "    .dataframe thead th {\n",
       "        text-align: right;\n",
       "    }\n",
       "</style>\n",
       "<table border=\"1\" class=\"dataframe\">\n",
       "  <thead>\n",
       "    <tr style=\"text-align: right;\">\n",
       "      <th></th>\n",
       "      <th>Title</th>\n",
       "      <th>Address</th>\n",
       "      <th>Price</th>\n",
       "      <th>Area</th>\n",
       "      <th>Floors</th>\n",
       "      <th>Bedroom</th>\n",
       "      <th>Bathroom</th>\n",
       "      <th>City</th>\n",
       "    </tr>\n",
       "  </thead>\n",
       "  <tbody>\n",
       "    <tr>\n",
       "      <th>3661</th>\n",
       "      <td>House On Sale At Chabahil (50m Towards Ganeshs...</td>\n",
       "      <td>Chabahil,Charumatibihar,Chabahil,</td>\n",
       "      <td>5.50</td>\n",
       "      <td>7.5</td>\n",
       "      <td>4.0</td>\n",
       "      <td>6.0</td>\n",
       "      <td>6.0</td>\n",
       "      <td>Kathmandu</td>\n",
       "    </tr>\n",
       "    <tr>\n",
       "      <th>4144</th>\n",
       "      <td>5 Ana Land On Sale In Panga Kritipur Near Fast...</td>\n",
       "      <td>Panga,Machhegaun,</td>\n",
       "      <td>3.30</td>\n",
       "      <td>15.0</td>\n",
       "      <td>2.5</td>\n",
       "      <td>6.0</td>\n",
       "      <td>4.0</td>\n",
       "      <td>Kirtipur</td>\n",
       "    </tr>\n",
       "    <tr>\n",
       "      <th>4426</th>\n",
       "      <td>House For Sale In Hattigauda, Kathmandu</td>\n",
       "      <td>Hattigauda,Hattigauda,</td>\n",
       "      <td>1.80</td>\n",
       "      <td>3.0</td>\n",
       "      <td>2.0</td>\n",
       "      <td>4.0</td>\n",
       "      <td>2.0</td>\n",
       "      <td>Kathmandu</td>\n",
       "    </tr>\n",
       "    <tr>\n",
       "      <th>2086</th>\n",
       "      <td>Bungalow for sale in Budhanilkantha, Pasikot</td>\n",
       "      <td>Pasikot,</td>\n",
       "      <td>4.50</td>\n",
       "      <td>4.4</td>\n",
       "      <td>2.5</td>\n",
       "      <td>4.0</td>\n",
       "      <td>3.0</td>\n",
       "      <td>Kathmandu</td>\n",
       "    </tr>\n",
       "    <tr>\n",
       "      <th>3115</th>\n",
       "      <td>House on sale at Kalanki, Syuchatar</td>\n",
       "      <td>Kalanki,</td>\n",
       "      <td>2.50</td>\n",
       "      <td>4.0</td>\n",
       "      <td>2.5</td>\n",
       "      <td>5.0</td>\n",
       "      <td>5.0</td>\n",
       "      <td>Kathmandu</td>\n",
       "    </tr>\n",
       "    <tr>\n",
       "      <th>92</th>\n",
       "      <td>House for Sale</td>\n",
       "      <td>NilBarahiMandir,</td>\n",
       "      <td>3.55</td>\n",
       "      <td>3.2</td>\n",
       "      <td>2.5</td>\n",
       "      <td>6.0</td>\n",
       "      <td>3.0</td>\n",
       "      <td>Bhaktapur</td>\n",
       "    </tr>\n",
       "    <tr>\n",
       "      <th>4734</th>\n",
       "      <td>Urgent Sale Dhulikhel Land : Land For Sale In ...</td>\n",
       "      <td>dhulikheltouristarea,Bhaktapur,</td>\n",
       "      <td>4.50</td>\n",
       "      <td>16.0</td>\n",
       "      <td>3.0</td>\n",
       "      <td>6.0</td>\n",
       "      <td>4.0</td>\n",
       "      <td>Bhaktapur</td>\n",
       "    </tr>\n",
       "    <tr>\n",
       "      <th>3863</th>\n",
       "      <td>Siddarth Colony Under Construction Home : Hous...</td>\n",
       "      <td>Na,Budhanilkantha,</td>\n",
       "      <td>4.70</td>\n",
       "      <td>21.0</td>\n",
       "      <td>3.0</td>\n",
       "      <td>6.0</td>\n",
       "      <td>6.0</td>\n",
       "      <td>Kathmandu</td>\n",
       "    </tr>\n",
       "    <tr>\n",
       "      <th>2102</th>\n",
       "      <td>House on rent in Ravi Bhawan</td>\n",
       "      <td>RabiBhawan,</td>\n",
       "      <td>3.70</td>\n",
       "      <td>11.0</td>\n",
       "      <td>2.5</td>\n",
       "      <td>6.0</td>\n",
       "      <td>5.0</td>\n",
       "      <td>Kathmandu</td>\n",
       "    </tr>\n",
       "    <tr>\n",
       "      <th>261</th>\n",
       "      <td>House for Sale</td>\n",
       "      <td>Mulpani,</td>\n",
       "      <td>1.60</td>\n",
       "      <td>2.2</td>\n",
       "      <td>2.5</td>\n",
       "      <td>5.0</td>\n",
       "      <td>3.0</td>\n",
       "      <td>Kathmandu</td>\n",
       "    </tr>\n",
       "  </tbody>\n",
       "</table>\n",
       "</div>"
      ],
      "text/plain": [
       "                                                  Title  \\\n",
       "3661  House On Sale At Chabahil (50m Towards Ganeshs...   \n",
       "4144  5 Ana Land On Sale In Panga Kritipur Near Fast...   \n",
       "4426            House For Sale In Hattigauda, Kathmandu   \n",
       "2086       Bungalow for sale in Budhanilkantha, Pasikot   \n",
       "3115                House on sale at Kalanki, Syuchatar   \n",
       "92                                       House for Sale   \n",
       "4734  Urgent Sale Dhulikhel Land : Land For Sale In ...   \n",
       "3863  Siddarth Colony Under Construction Home : Hous...   \n",
       "2102                       House on rent in Ravi Bhawan   \n",
       "261                                      House for Sale   \n",
       "\n",
       "                                Address  Price  Area  Floors  Bedroom  \\\n",
       "3661  Chabahil,Charumatibihar,Chabahil,   5.50   7.5     4.0      6.0   \n",
       "4144                  Panga,Machhegaun,   3.30  15.0     2.5      6.0   \n",
       "4426             Hattigauda,Hattigauda,   1.80   3.0     2.0      4.0   \n",
       "2086                           Pasikot,   4.50   4.4     2.5      4.0   \n",
       "3115                           Kalanki,   2.50   4.0     2.5      5.0   \n",
       "92                     NilBarahiMandir,   3.55   3.2     2.5      6.0   \n",
       "4734    dhulikheltouristarea,Bhaktapur,   4.50  16.0     3.0      6.0   \n",
       "3863                 Na,Budhanilkantha,   4.70  21.0     3.0      6.0   \n",
       "2102                        RabiBhawan,   3.70  11.0     2.5      6.0   \n",
       "261                            Mulpani,   1.60   2.2     2.5      5.0   \n",
       "\n",
       "      Bathroom       City  \n",
       "3661       6.0  Kathmandu  \n",
       "4144       4.0   Kirtipur  \n",
       "4426       2.0  Kathmandu  \n",
       "2086       3.0  Kathmandu  \n",
       "3115       5.0  Kathmandu  \n",
       "92         3.0  Bhaktapur  \n",
       "4734       4.0  Bhaktapur  \n",
       "3863       6.0  Kathmandu  \n",
       "2102       5.0  Kathmandu  \n",
       "261        3.0  Kathmandu  "
      ]
     },
     "execution_count": 91,
     "metadata": {},
     "output_type": "execute_result"
    }
   ],
   "source": [
    "home.sample(10)"
   ]
  },
  {
   "cell_type": "code",
   "execution_count": 92,
   "id": "63ecbcc9",
   "metadata": {},
   "outputs": [
    {
     "data": {
      "text/plain": [
       "Kathmandu         3282\n",
       "Lalitpur          1341\n",
       "Bhaktapur          138\n",
       "Chitwan             40\n",
       "Pokhara             32\n",
       "KATHMANDU           18\n",
       "Rupandehi           12\n",
       "Makwanpur           12\n",
       "Kaski               11\n",
       "Sunsari             11\n",
       "Dharan              11\n",
       "Jhapa               10\n",
       "Kavrepalanchok       9\n",
       "Kirtipur             6\n",
       "Biratnagar           6\n",
       "Kavre                6\n",
       "Butwal               5\n",
       "Morang               5\n",
       "undefined            4\n",
       "Parsa                4\n",
       "LALITPUR             4\n",
       "Dhading              4\n",
       "Bara                 4\n",
       "Itahari              3\n",
       "Nawalparasi          2\n",
       "Surkhet              2\n",
       "kathmandu            2\n",
       "Bardiya              2\n",
       "Dang                 2\n",
       "Mahottari            1\n",
       "Illam                1\n",
       "Kapilvastu           1\n",
       "Nawalpur             1\n",
       "Bhairahawa           1\n",
       "Birtamod             1\n",
       "Tanahu               1\n",
       "lalitpur             1\n",
       "Kathmandhu           1\n",
       "Narayanthan          1\n",
       "chowk                1\n",
       "Kathmndu             1\n",
       "Karhmandu            1\n",
       "BHAKTAPUR            1\n",
       "IMADOL               1\n",
       "Sukedhara            1\n",
       "Sitapaila            1\n",
       "Swoyambhu            1\n",
       "Banke                1\n",
       "Nuwakot              1\n",
       "Dhanusa              1\n",
       "Tanahun              1\n",
       "Kailali              1\n",
       "Name: City, dtype: int64"
      ]
     },
     "execution_count": 92,
     "metadata": {},
     "output_type": "execute_result"
    }
   ],
   "source": [
    "home['City'].value_counts()"
   ]
  },
  {
   "cell_type": "code",
   "execution_count": 93,
   "id": "b4852c68",
   "metadata": {},
   "outputs": [],
   "source": [
    "home['City'] = home['City'].str.replace('KATHMANDU','Kathmandu')"
   ]
  },
  {
   "cell_type": "code",
   "execution_count": 94,
   "id": "90574128",
   "metadata": {},
   "outputs": [],
   "source": [
    "home['City'] = home['City'].str.replace('Kathmndu','Kathmandu')"
   ]
  },
  {
   "cell_type": "code",
   "execution_count": 95,
   "id": "893befd6",
   "metadata": {},
   "outputs": [],
   "source": [
    "home['City'] = home['City'].str.replace('Karhmandu','Kathmandu')"
   ]
  },
  {
   "cell_type": "code",
   "execution_count": 96,
   "id": "2fe1261c",
   "metadata": {},
   "outputs": [],
   "source": [
    "home['City'] = home['City'].str.replace('Kathmandhu','Kathmandu')"
   ]
  },
  {
   "cell_type": "code",
   "execution_count": 97,
   "id": "1331ca94",
   "metadata": {},
   "outputs": [],
   "source": [
    "home['City'] = home['City'].str.replace('Swoyambhu','Kathmandu')"
   ]
  },
  {
   "cell_type": "code",
   "execution_count": 98,
   "id": "e62955d9",
   "metadata": {},
   "outputs": [],
   "source": [
    "home['City'] = home['City'].str.replace('kathmandu','Kathmandu')"
   ]
  },
  {
   "cell_type": "code",
   "execution_count": 99,
   "id": "7cb076d4",
   "metadata": {},
   "outputs": [],
   "source": [
    "home['City'] = home['City'].str.replace('LALITPUR','Lalitpur')"
   ]
  },
  {
   "cell_type": "code",
   "execution_count": 100,
   "id": "cec231ec",
   "metadata": {},
   "outputs": [],
   "source": [
    "home['City'] = home['City'].str.replace('lalitpur','Lalitpur')"
   ]
  },
  {
   "cell_type": "code",
   "execution_count": 101,
   "id": "8d9b549c",
   "metadata": {},
   "outputs": [],
   "source": [
    "home['City'] = home['City'].str.replace('BHAKTAPUR','Bhaktapur')"
   ]
  },
  {
   "cell_type": "code",
   "execution_count": 102,
   "id": "f0e3b306",
   "metadata": {},
   "outputs": [
    {
     "data": {
      "text/plain": [
       "Kathmandu         3306\n",
       "Lalitpur          1346\n",
       "Bhaktapur          139\n",
       "Chitwan             40\n",
       "Pokhara             32\n",
       "Rupandehi           12\n",
       "Makwanpur           12\n",
       "Kaski               11\n",
       "Sunsari             11\n",
       "Dharan              11\n",
       "Jhapa               10\n",
       "Kavrepalanchok       9\n",
       "Kavre                6\n",
       "Kirtipur             6\n",
       "Biratnagar           6\n",
       "Butwal               5\n",
       "Morang               5\n",
       "undefined            4\n",
       "Dhading              4\n",
       "Bara                 4\n",
       "Parsa                4\n",
       "Itahari              3\n",
       "Bardiya              2\n",
       "Dang                 2\n",
       "Surkhet              2\n",
       "Nawalparasi          2\n",
       "Kapilvastu           1\n",
       "Tanahu               1\n",
       "Bhairahawa           1\n",
       "Illam                1\n",
       "Mahottari            1\n",
       "Sukedhara            1\n",
       "Nawalpur             1\n",
       "Birtamod             1\n",
       "Narayanthan          1\n",
       "chowk                1\n",
       "IMADOL               1\n",
       "Sitapaila            1\n",
       "Banke                1\n",
       "Nuwakot              1\n",
       "Dhanusa              1\n",
       "Tanahun              1\n",
       "Kailali              1\n",
       "Name: City, dtype: int64"
      ]
     },
     "execution_count": 102,
     "metadata": {},
     "output_type": "execute_result"
    }
   ],
   "source": [
    "home['City'].value_counts()"
   ]
  },
  {
   "cell_type": "code",
   "execution_count": 103,
   "id": "951c1c24",
   "metadata": {},
   "outputs": [],
   "source": [
    "home.drop(columns=['Title'],inplace=True)"
   ]
  },
  {
   "cell_type": "code",
   "execution_count": 104,
   "id": "df231cf7",
   "metadata": {},
   "outputs": [
    {
     "data": {
      "text/html": [
       "<div>\n",
       "<style scoped>\n",
       "    .dataframe tbody tr th:only-of-type {\n",
       "        vertical-align: middle;\n",
       "    }\n",
       "\n",
       "    .dataframe tbody tr th {\n",
       "        vertical-align: top;\n",
       "    }\n",
       "\n",
       "    .dataframe thead th {\n",
       "        text-align: right;\n",
       "    }\n",
       "</style>\n",
       "<table border=\"1\" class=\"dataframe\">\n",
       "  <thead>\n",
       "    <tr style=\"text-align: right;\">\n",
       "      <th></th>\n",
       "      <th>Address</th>\n",
       "      <th>Price</th>\n",
       "      <th>Area</th>\n",
       "      <th>Floors</th>\n",
       "      <th>Bedroom</th>\n",
       "      <th>Bathroom</th>\n",
       "      <th>City</th>\n",
       "    </tr>\n",
       "  </thead>\n",
       "  <tbody>\n",
       "    <tr>\n",
       "      <th>0</th>\n",
       "      <td>Imadol,</td>\n",
       "      <td>2.90</td>\n",
       "      <td>4.0</td>\n",
       "      <td>3.0</td>\n",
       "      <td>5.0</td>\n",
       "      <td>4.0</td>\n",
       "      <td>Lalitpur</td>\n",
       "    </tr>\n",
       "    <tr>\n",
       "      <th>1</th>\n",
       "      <td>Satdobato,</td>\n",
       "      <td>4.75</td>\n",
       "      <td>3.0</td>\n",
       "      <td>4.5</td>\n",
       "      <td>5.0</td>\n",
       "      <td>6.0</td>\n",
       "      <td>Lalitpur</td>\n",
       "    </tr>\n",
       "    <tr>\n",
       "      <th>2</th>\n",
       "      <td>Imadol,</td>\n",
       "      <td>1.99</td>\n",
       "      <td>2.3</td>\n",
       "      <td>2.5</td>\n",
       "      <td>4.0</td>\n",
       "      <td>4.0</td>\n",
       "      <td>Lalitpur</td>\n",
       "    </tr>\n",
       "    <tr>\n",
       "      <th>3</th>\n",
       "      <td>Bhaisepati,</td>\n",
       "      <td>4.00</td>\n",
       "      <td>7.0</td>\n",
       "      <td>2.5</td>\n",
       "      <td>4.0</td>\n",
       "      <td>3.0</td>\n",
       "      <td>Lalitpur</td>\n",
       "    </tr>\n",
       "    <tr>\n",
       "      <th>4</th>\n",
       "      <td>Maharajgunj,</td>\n",
       "      <td>2.90</td>\n",
       "      <td>6.0</td>\n",
       "      <td>2.0</td>\n",
       "      <td>4.0</td>\n",
       "      <td>4.0</td>\n",
       "      <td>Kathmandu</td>\n",
       "    </tr>\n",
       "  </tbody>\n",
       "</table>\n",
       "</div>"
      ],
      "text/plain": [
       "        Address  Price  Area  Floors  Bedroom  Bathroom       City\n",
       "0       Imadol,   2.90   4.0     3.0      5.0       4.0   Lalitpur\n",
       "1    Satdobato,   4.75   3.0     4.5      5.0       6.0   Lalitpur\n",
       "2       Imadol,   1.99   2.3     2.5      4.0       4.0   Lalitpur\n",
       "3   Bhaisepati,   4.00   7.0     2.5      4.0       3.0   Lalitpur\n",
       "4  Maharajgunj,   2.90   6.0     2.0      4.0       4.0  Kathmandu"
      ]
     },
     "execution_count": 104,
     "metadata": {},
     "output_type": "execute_result"
    }
   ],
   "source": [
    "home.head()"
   ]
  },
  {
   "cell_type": "code",
   "execution_count": 105,
   "id": "2bc3c3da",
   "metadata": {},
   "outputs": [],
   "source": [
    "City_count= home['City'].value_counts()"
   ]
  },
  {
   "cell_type": "code",
   "execution_count": 106,
   "id": "a18761ed",
   "metadata": {},
   "outputs": [],
   "source": [
    "City_count_less_than_41=City_count[City_count<=40]"
   ]
  },
  {
   "cell_type": "code",
   "execution_count": 107,
   "id": "04fa7292",
   "metadata": {},
   "outputs": [
    {
     "data": {
      "text/plain": [
       "Chitwan           40\n",
       "Pokhara           32\n",
       "Rupandehi         12\n",
       "Makwanpur         12\n",
       "Kaski             11\n",
       "Sunsari           11\n",
       "Dharan            11\n",
       "Jhapa             10\n",
       "Kavrepalanchok     9\n",
       "Kavre              6\n",
       "Kirtipur           6\n",
       "Biratnagar         6\n",
       "Butwal             5\n",
       "Morang             5\n",
       "undefined          4\n",
       "Dhading            4\n",
       "Bara               4\n",
       "Parsa              4\n",
       "Itahari            3\n",
       "Bardiya            2\n",
       "Dang               2\n",
       "Surkhet            2\n",
       "Nawalparasi        2\n",
       "Kapilvastu         1\n",
       "Tanahu             1\n",
       "Bhairahawa         1\n",
       "Illam              1\n",
       "Mahottari          1\n",
       "Sukedhara          1\n",
       "Nawalpur           1\n",
       "Birtamod           1\n",
       "Narayanthan        1\n",
       "chowk              1\n",
       "IMADOL             1\n",
       "Sitapaila          1\n",
       "Banke              1\n",
       "Nuwakot            1\n",
       "Dhanusa            1\n",
       "Tanahun            1\n",
       "Kailali            1\n",
       "Name: City, dtype: int64"
      ]
     },
     "execution_count": 107,
     "metadata": {},
     "output_type": "execute_result"
    }
   ],
   "source": [
    "City_count_less_than_41"
   ]
  },
  {
   "cell_type": "code",
   "execution_count": 108,
   "id": "0c3d5c26",
   "metadata": {},
   "outputs": [],
   "source": [
    "home['City']=home['City'].apply(lambda x:'Other' if x in City_count_less_than_41 else x)"
   ]
  },
  {
   "cell_type": "code",
   "execution_count": 109,
   "id": "bc661e29",
   "metadata": {},
   "outputs": [
    {
     "data": {
      "text/plain": [
       "Kathmandu    3306\n",
       "Lalitpur     1346\n",
       "Other         220\n",
       "Bhaktapur     139\n",
       "Name: City, dtype: int64"
      ]
     },
     "execution_count": 109,
     "metadata": {},
     "output_type": "execute_result"
    }
   ],
   "source": [
    "home['City'].value_counts()"
   ]
  },
  {
   "cell_type": "code",
   "execution_count": 110,
   "id": "5b6ca860",
   "metadata": {},
   "outputs": [
    {
     "data": {
      "text/plain": [
       "5011"
      ]
     },
     "execution_count": 110,
     "metadata": {},
     "output_type": "execute_result"
    }
   ],
   "source": [
    "len(home)"
   ]
  },
  {
   "cell_type": "code",
   "execution_count": 111,
   "id": "f7dca62d",
   "metadata": {},
   "outputs": [
    {
     "data": {
      "text/html": [
       "<div>\n",
       "<style scoped>\n",
       "    .dataframe tbody tr th:only-of-type {\n",
       "        vertical-align: middle;\n",
       "    }\n",
       "\n",
       "    .dataframe tbody tr th {\n",
       "        vertical-align: top;\n",
       "    }\n",
       "\n",
       "    .dataframe thead th {\n",
       "        text-align: right;\n",
       "    }\n",
       "</style>\n",
       "<table border=\"1\" class=\"dataframe\">\n",
       "  <thead>\n",
       "    <tr style=\"text-align: right;\">\n",
       "      <th></th>\n",
       "      <th>Address</th>\n",
       "      <th>Price</th>\n",
       "      <th>Area</th>\n",
       "      <th>Floors</th>\n",
       "      <th>Bedroom</th>\n",
       "      <th>Bathroom</th>\n",
       "      <th>City</th>\n",
       "    </tr>\n",
       "  </thead>\n",
       "  <tbody>\n",
       "    <tr>\n",
       "      <th>834</th>\n",
       "      <td>Changathali,</td>\n",
       "      <td>1.70</td>\n",
       "      <td>4.0</td>\n",
       "      <td>2.5</td>\n",
       "      <td>7.0</td>\n",
       "      <td>3.0</td>\n",
       "      <td>Lalitpur</td>\n",
       "    </tr>\n",
       "    <tr>\n",
       "      <th>1982</th>\n",
       "      <td>Dhapasi,</td>\n",
       "      <td>2.95</td>\n",
       "      <td>4.0</td>\n",
       "      <td>2.5</td>\n",
       "      <td>3.0</td>\n",
       "      <td>3.0</td>\n",
       "      <td>Kathmandu</td>\n",
       "    </tr>\n",
       "    <tr>\n",
       "      <th>1624</th>\n",
       "      <td>Bhaisepati,</td>\n",
       "      <td>3.98</td>\n",
       "      <td>5.2</td>\n",
       "      <td>2.0</td>\n",
       "      <td>4.0</td>\n",
       "      <td>4.0</td>\n",
       "      <td>Lalitpur</td>\n",
       "    </tr>\n",
       "    <tr>\n",
       "      <th>5005</th>\n",
       "      <td>Halgada,Itahari,</td>\n",
       "      <td>0.85</td>\n",
       "      <td>8.0</td>\n",
       "      <td>1.0</td>\n",
       "      <td>3.0</td>\n",
       "      <td>1.0</td>\n",
       "      <td>Other</td>\n",
       "    </tr>\n",
       "    <tr>\n",
       "      <th>2761</th>\n",
       "      <td>GrandeVilla,</td>\n",
       "      <td>2.80</td>\n",
       "      <td>4.0</td>\n",
       "      <td>2.0</td>\n",
       "      <td>6.0</td>\n",
       "      <td>3.0</td>\n",
       "      <td>Kathmandu</td>\n",
       "    </tr>\n",
       "    <tr>\n",
       "      <th>3818</th>\n",
       "      <td>Smritinagar,Kusunti,</td>\n",
       "      <td>1.30</td>\n",
       "      <td>10.0</td>\n",
       "      <td>1.0</td>\n",
       "      <td>2.0</td>\n",
       "      <td>2.0</td>\n",
       "      <td>Lalitpur</td>\n",
       "    </tr>\n",
       "    <tr>\n",
       "      <th>2710</th>\n",
       "      <td>Bhaisepati,</td>\n",
       "      <td>3.50</td>\n",
       "      <td>5.2</td>\n",
       "      <td>2.5</td>\n",
       "      <td>4.0</td>\n",
       "      <td>4.0</td>\n",
       "      <td>Lalitpur</td>\n",
       "    </tr>\n",
       "    <tr>\n",
       "      <th>2808</th>\n",
       "      <td>Kapan,</td>\n",
       "      <td>2.10</td>\n",
       "      <td>4.0</td>\n",
       "      <td>2.0</td>\n",
       "      <td>6.0</td>\n",
       "      <td>2.0</td>\n",
       "      <td>Kathmandu</td>\n",
       "    </tr>\n",
       "    <tr>\n",
       "      <th>2523</th>\n",
       "      <td>GaneshChowk,</td>\n",
       "      <td>2.25</td>\n",
       "      <td>4.0</td>\n",
       "      <td>2.0</td>\n",
       "      <td>4.0</td>\n",
       "      <td>4.0</td>\n",
       "      <td>Kathmandu</td>\n",
       "    </tr>\n",
       "    <tr>\n",
       "      <th>2034</th>\n",
       "      <td>Nikhileshwor,</td>\n",
       "      <td>2.75</td>\n",
       "      <td>3.1</td>\n",
       "      <td>2.5</td>\n",
       "      <td>7.0</td>\n",
       "      <td>7.0</td>\n",
       "      <td>Kathmandu</td>\n",
       "    </tr>\n",
       "  </tbody>\n",
       "</table>\n",
       "</div>"
      ],
      "text/plain": [
       "                   Address  Price  Area  Floors  Bedroom  Bathroom       City\n",
       "834           Changathali,   1.70   4.0     2.5      7.0       3.0   Lalitpur\n",
       "1982              Dhapasi,   2.95   4.0     2.5      3.0       3.0  Kathmandu\n",
       "1624           Bhaisepati,   3.98   5.2     2.0      4.0       4.0   Lalitpur\n",
       "5005      Halgada,Itahari,   0.85   8.0     1.0      3.0       1.0      Other\n",
       "2761          GrandeVilla,   2.80   4.0     2.0      6.0       3.0  Kathmandu\n",
       "3818  Smritinagar,Kusunti,   1.30  10.0     1.0      2.0       2.0   Lalitpur\n",
       "2710           Bhaisepati,   3.50   5.2     2.5      4.0       4.0   Lalitpur\n",
       "2808                Kapan,   2.10   4.0     2.0      6.0       2.0  Kathmandu\n",
       "2523          GaneshChowk,   2.25   4.0     2.0      4.0       4.0  Kathmandu\n",
       "2034         Nikhileshwor,   2.75   3.1     2.5      7.0       7.0  Kathmandu"
      ]
     },
     "execution_count": 111,
     "metadata": {},
     "output_type": "execute_result"
    }
   ],
   "source": [
    "home.sample(10)"
   ]
  },
  {
   "cell_type": "code",
   "execution_count": 112,
   "id": "fdb48e84",
   "metadata": {},
   "outputs": [
    {
     "data": {
      "text/html": [
       "<div>\n",
       "<style scoped>\n",
       "    .dataframe tbody tr th:only-of-type {\n",
       "        vertical-align: middle;\n",
       "    }\n",
       "\n",
       "    .dataframe tbody tr th {\n",
       "        vertical-align: top;\n",
       "    }\n",
       "\n",
       "    .dataframe thead th {\n",
       "        text-align: right;\n",
       "    }\n",
       "</style>\n",
       "<table border=\"1\" class=\"dataframe\">\n",
       "  <thead>\n",
       "    <tr style=\"text-align: right;\">\n",
       "      <th></th>\n",
       "      <th>Price</th>\n",
       "      <th>Area</th>\n",
       "      <th>Floors</th>\n",
       "      <th>Bedroom</th>\n",
       "      <th>Bathroom</th>\n",
       "    </tr>\n",
       "  </thead>\n",
       "  <tbody>\n",
       "    <tr>\n",
       "      <th>count</th>\n",
       "      <td>5011.000000</td>\n",
       "      <td>5011.000000</td>\n",
       "      <td>5011.000000</td>\n",
       "      <td>5011.000000</td>\n",
       "      <td>5011.000000</td>\n",
       "    </tr>\n",
       "    <tr>\n",
       "      <th>mean</th>\n",
       "      <td>4.035450</td>\n",
       "      <td>8.377793</td>\n",
       "      <td>2.696049</td>\n",
       "      <td>6.553183</td>\n",
       "      <td>5.166434</td>\n",
       "    </tr>\n",
       "    <tr>\n",
       "      <th>std</th>\n",
       "      <td>2.363108</td>\n",
       "      <td>8.013890</td>\n",
       "      <td>0.921647</td>\n",
       "      <td>4.649095</td>\n",
       "      <td>4.021479</td>\n",
       "    </tr>\n",
       "    <tr>\n",
       "      <th>min</th>\n",
       "      <td>0.750000</td>\n",
       "      <td>0.000000</td>\n",
       "      <td>1.000000</td>\n",
       "      <td>0.000000</td>\n",
       "      <td>0.000000</td>\n",
       "    </tr>\n",
       "    <tr>\n",
       "      <th>25%</th>\n",
       "      <td>2.900000</td>\n",
       "      <td>4.000000</td>\n",
       "      <td>2.500000</td>\n",
       "      <td>4.000000</td>\n",
       "      <td>3.000000</td>\n",
       "    </tr>\n",
       "    <tr>\n",
       "      <th>50%</th>\n",
       "      <td>3.600000</td>\n",
       "      <td>5.500000</td>\n",
       "      <td>2.500000</td>\n",
       "      <td>5.000000</td>\n",
       "      <td>4.000000</td>\n",
       "    </tr>\n",
       "    <tr>\n",
       "      <th>75%</th>\n",
       "      <td>4.500000</td>\n",
       "      <td>11.000000</td>\n",
       "      <td>3.000000</td>\n",
       "      <td>7.000000</td>\n",
       "      <td>5.000000</td>\n",
       "    </tr>\n",
       "    <tr>\n",
       "      <th>max</th>\n",
       "      <td>70.000000</td>\n",
       "      <td>124.000000</td>\n",
       "      <td>23.500000</td>\n",
       "      <td>70.000000</td>\n",
       "      <td>40.000000</td>\n",
       "    </tr>\n",
       "  </tbody>\n",
       "</table>\n",
       "</div>"
      ],
      "text/plain": [
       "             Price         Area       Floors      Bedroom     Bathroom\n",
       "count  5011.000000  5011.000000  5011.000000  5011.000000  5011.000000\n",
       "mean      4.035450     8.377793     2.696049     6.553183     5.166434\n",
       "std       2.363108     8.013890     0.921647     4.649095     4.021479\n",
       "min       0.750000     0.000000     1.000000     0.000000     0.000000\n",
       "25%       2.900000     4.000000     2.500000     4.000000     3.000000\n",
       "50%       3.600000     5.500000     2.500000     5.000000     4.000000\n",
       "75%       4.500000    11.000000     3.000000     7.000000     5.000000\n",
       "max      70.000000   124.000000    23.500000    70.000000    40.000000"
      ]
     },
     "execution_count": 112,
     "metadata": {},
     "output_type": "execute_result"
    }
   ],
   "source": [
    "home.describe()"
   ]
  },
  {
   "cell_type": "code",
   "execution_count": 113,
   "id": "ef83f688",
   "metadata": {},
   "outputs": [],
   "source": [
    "Area_count=home['Area'].value_counts()"
   ]
  },
  {
   "cell_type": "code",
   "execution_count": 114,
   "id": "ac877230",
   "metadata": {},
   "outputs": [],
   "source": [
    "Area_count_less_than_3=Area_count[Area_count<3.0]"
   ]
  },
  {
   "cell_type": "code",
   "execution_count": 115,
   "id": "fcad607b",
   "metadata": {},
   "outputs": [
    {
     "data": {
      "text/plain": [
       "4.75     2\n",
       "10.50    2\n",
       "12.50    2\n",
       "12.20    2\n",
       "15.20    2\n",
       "        ..\n",
       "36.00    1\n",
       "38.00    1\n",
       "2.40     1\n",
       "8.60     1\n",
       "16.50    1\n",
       "Name: Area, Length: 73, dtype: int64"
      ]
     },
     "execution_count": 115,
     "metadata": {},
     "output_type": "execute_result"
    }
   ],
   "source": [
    "Area_count_less_than_3"
   ]
  },
  {
   "cell_type": "code",
   "execution_count": 116,
   "id": "809f2537",
   "metadata": {},
   "outputs": [],
   "source": [
    "def swap_columns(home, col1, col2):\n",
    "    col_list = list(home.columns)\n",
    "    a, b = col_list.index(col1), col_list.index(col2)\n",
    "    col_list[b], col_list[a] = col_list[a], col_list[b]\n",
    "    home = home[col_list]\n",
    "    return home"
   ]
  },
  {
   "cell_type": "code",
   "execution_count": 117,
   "id": "81f43186",
   "metadata": {},
   "outputs": [],
   "source": [
    "home = swap_columns(home, 'Price', 'City')"
   ]
  },
  {
   "cell_type": "code",
   "execution_count": 118,
   "id": "18c6dd4e",
   "metadata": {},
   "outputs": [
    {
     "data": {
      "text/html": [
       "<div>\n",
       "<style scoped>\n",
       "    .dataframe tbody tr th:only-of-type {\n",
       "        vertical-align: middle;\n",
       "    }\n",
       "\n",
       "    .dataframe tbody tr th {\n",
       "        vertical-align: top;\n",
       "    }\n",
       "\n",
       "    .dataframe thead th {\n",
       "        text-align: right;\n",
       "    }\n",
       "</style>\n",
       "<table border=\"1\" class=\"dataframe\">\n",
       "  <thead>\n",
       "    <tr style=\"text-align: right;\">\n",
       "      <th></th>\n",
       "      <th>Address</th>\n",
       "      <th>City</th>\n",
       "      <th>Area</th>\n",
       "      <th>Floors</th>\n",
       "      <th>Bedroom</th>\n",
       "      <th>Bathroom</th>\n",
       "      <th>Price</th>\n",
       "    </tr>\n",
       "  </thead>\n",
       "  <tbody>\n",
       "    <tr>\n",
       "      <th>0</th>\n",
       "      <td>Imadol,</td>\n",
       "      <td>Lalitpur</td>\n",
       "      <td>4.0</td>\n",
       "      <td>3.0</td>\n",
       "      <td>5.0</td>\n",
       "      <td>4.0</td>\n",
       "      <td>2.90</td>\n",
       "    </tr>\n",
       "    <tr>\n",
       "      <th>1</th>\n",
       "      <td>Satdobato,</td>\n",
       "      <td>Lalitpur</td>\n",
       "      <td>3.0</td>\n",
       "      <td>4.5</td>\n",
       "      <td>5.0</td>\n",
       "      <td>6.0</td>\n",
       "      <td>4.75</td>\n",
       "    </tr>\n",
       "    <tr>\n",
       "      <th>2</th>\n",
       "      <td>Imadol,</td>\n",
       "      <td>Lalitpur</td>\n",
       "      <td>2.3</td>\n",
       "      <td>2.5</td>\n",
       "      <td>4.0</td>\n",
       "      <td>4.0</td>\n",
       "      <td>1.99</td>\n",
       "    </tr>\n",
       "    <tr>\n",
       "      <th>3</th>\n",
       "      <td>Bhaisepati,</td>\n",
       "      <td>Lalitpur</td>\n",
       "      <td>7.0</td>\n",
       "      <td>2.5</td>\n",
       "      <td>4.0</td>\n",
       "      <td>3.0</td>\n",
       "      <td>4.00</td>\n",
       "    </tr>\n",
       "    <tr>\n",
       "      <th>4</th>\n",
       "      <td>Maharajgunj,</td>\n",
       "      <td>Kathmandu</td>\n",
       "      <td>6.0</td>\n",
       "      <td>2.0</td>\n",
       "      <td>4.0</td>\n",
       "      <td>4.0</td>\n",
       "      <td>2.90</td>\n",
       "    </tr>\n",
       "    <tr>\n",
       "      <th>...</th>\n",
       "      <td>...</td>\n",
       "      <td>...</td>\n",
       "      <td>...</td>\n",
       "      <td>...</td>\n",
       "      <td>...</td>\n",
       "      <td>...</td>\n",
       "      <td>...</td>\n",
       "    </tr>\n",
       "    <tr>\n",
       "      <th>5010</th>\n",
       "      <td>Bharatpur14chitwan,Chitrawan,</td>\n",
       "      <td>Other</td>\n",
       "      <td>12.0</td>\n",
       "      <td>2.5</td>\n",
       "      <td>6.0</td>\n",
       "      <td>4.0</td>\n",
       "      <td>3.80</td>\n",
       "    </tr>\n",
       "    <tr>\n",
       "      <th>5011</th>\n",
       "      <td>Tudaldevi,Baluwatar,</td>\n",
       "      <td>Kathmandu</td>\n",
       "      <td>13.0</td>\n",
       "      <td>2.5</td>\n",
       "      <td>5.0</td>\n",
       "      <td>5.0</td>\n",
       "      <td>3.60</td>\n",
       "    </tr>\n",
       "    <tr>\n",
       "      <th>5012</th>\n",
       "      <td>RatnanagarTandiChitwan,Taadi,</td>\n",
       "      <td>Other</td>\n",
       "      <td>20.0</td>\n",
       "      <td>4.0</td>\n",
       "      <td>19.0</td>\n",
       "      <td>18.0</td>\n",
       "      <td>7.00</td>\n",
       "    </tr>\n",
       "    <tr>\n",
       "      <th>5013</th>\n",
       "      <td>2,Bharatpur,</td>\n",
       "      <td>Other</td>\n",
       "      <td>10.0</td>\n",
       "      <td>3.0</td>\n",
       "      <td>7.0</td>\n",
       "      <td>6.0</td>\n",
       "      <td>3.50</td>\n",
       "    </tr>\n",
       "    <tr>\n",
       "      <th>5014</th>\n",
       "      <td>NearPMQuarter,Baluwatar,</td>\n",
       "      <td>Kathmandu</td>\n",
       "      <td>5.0</td>\n",
       "      <td>3.0</td>\n",
       "      <td>5.0</td>\n",
       "      <td>5.0</td>\n",
       "      <td>3.90</td>\n",
       "    </tr>\n",
       "  </tbody>\n",
       "</table>\n",
       "<p>5011 rows × 7 columns</p>\n",
       "</div>"
      ],
      "text/plain": [
       "                            Address       City  Area  Floors  Bedroom  \\\n",
       "0                           Imadol,   Lalitpur   4.0     3.0      5.0   \n",
       "1                        Satdobato,   Lalitpur   3.0     4.5      5.0   \n",
       "2                           Imadol,   Lalitpur   2.3     2.5      4.0   \n",
       "3                       Bhaisepati,   Lalitpur   7.0     2.5      4.0   \n",
       "4                      Maharajgunj,  Kathmandu   6.0     2.0      4.0   \n",
       "...                             ...        ...   ...     ...      ...   \n",
       "5010  Bharatpur14chitwan,Chitrawan,      Other  12.0     2.5      6.0   \n",
       "5011           Tudaldevi,Baluwatar,  Kathmandu  13.0     2.5      5.0   \n",
       "5012  RatnanagarTandiChitwan,Taadi,      Other  20.0     4.0     19.0   \n",
       "5013                   2,Bharatpur,      Other  10.0     3.0      7.0   \n",
       "5014       NearPMQuarter,Baluwatar,  Kathmandu   5.0     3.0      5.0   \n",
       "\n",
       "      Bathroom  Price  \n",
       "0          4.0   2.90  \n",
       "1          6.0   4.75  \n",
       "2          4.0   1.99  \n",
       "3          3.0   4.00  \n",
       "4          4.0   2.90  \n",
       "...        ...    ...  \n",
       "5010       4.0   3.80  \n",
       "5011       5.0   3.60  \n",
       "5012      18.0   7.00  \n",
       "5013       6.0   3.50  \n",
       "5014       5.0   3.90  \n",
       "\n",
       "[5011 rows x 7 columns]"
      ]
     },
     "execution_count": 118,
     "metadata": {},
     "output_type": "execute_result"
    }
   ],
   "source": [
    "home"
   ]
  },
  {
   "cell_type": "code",
   "execution_count": 119,
   "id": "4de9f708",
   "metadata": {},
   "outputs": [],
   "source": [
    "home = home[home['City'] == 'Kathmandu']"
   ]
  },
  {
   "cell_type": "code",
   "execution_count": 120,
   "id": "dcd8dbda",
   "metadata": {},
   "outputs": [
    {
     "data": {
      "text/html": [
       "<div>\n",
       "<style scoped>\n",
       "    .dataframe tbody tr th:only-of-type {\n",
       "        vertical-align: middle;\n",
       "    }\n",
       "\n",
       "    .dataframe tbody tr th {\n",
       "        vertical-align: top;\n",
       "    }\n",
       "\n",
       "    .dataframe thead th {\n",
       "        text-align: right;\n",
       "    }\n",
       "</style>\n",
       "<table border=\"1\" class=\"dataframe\">\n",
       "  <thead>\n",
       "    <tr style=\"text-align: right;\">\n",
       "      <th></th>\n",
       "      <th>Address</th>\n",
       "      <th>City</th>\n",
       "      <th>Area</th>\n",
       "      <th>Floors</th>\n",
       "      <th>Bedroom</th>\n",
       "      <th>Bathroom</th>\n",
       "      <th>Price</th>\n",
       "    </tr>\n",
       "  </thead>\n",
       "  <tbody>\n",
       "    <tr>\n",
       "      <th>2216</th>\n",
       "      <td>Chunikhel,</td>\n",
       "      <td>Kathmandu</td>\n",
       "      <td>3.2</td>\n",
       "      <td>2.0</td>\n",
       "      <td>4.0</td>\n",
       "      <td>3.0</td>\n",
       "      <td>2.20</td>\n",
       "    </tr>\n",
       "    <tr>\n",
       "      <th>2269</th>\n",
       "      <td>Bhangal,</td>\n",
       "      <td>Kathmandu</td>\n",
       "      <td>4.0</td>\n",
       "      <td>2.5</td>\n",
       "      <td>4.0</td>\n",
       "      <td>4.0</td>\n",
       "      <td>2.90</td>\n",
       "    </tr>\n",
       "    <tr>\n",
       "      <th>4507</th>\n",
       "      <td>Pepsicola,Pepsicola,</td>\n",
       "      <td>Kathmandu</td>\n",
       "      <td>17.0</td>\n",
       "      <td>3.0</td>\n",
       "      <td>3.0</td>\n",
       "      <td>3.0</td>\n",
       "      <td>3.40</td>\n",
       "    </tr>\n",
       "    <tr>\n",
       "      <th>1682</th>\n",
       "      <td>Sundarbasti,</td>\n",
       "      <td>Kathmandu</td>\n",
       "      <td>3.2</td>\n",
       "      <td>2.0</td>\n",
       "      <td>5.0</td>\n",
       "      <td>2.0</td>\n",
       "      <td>2.45</td>\n",
       "    </tr>\n",
       "    <tr>\n",
       "      <th>2371</th>\n",
       "      <td>Jyotinagar,</td>\n",
       "      <td>Kathmandu</td>\n",
       "      <td>4.1</td>\n",
       "      <td>2.0</td>\n",
       "      <td>7.0</td>\n",
       "      <td>5.0</td>\n",
       "      <td>2.88</td>\n",
       "    </tr>\n",
       "    <tr>\n",
       "      <th>2172</th>\n",
       "      <td>Mandikhatar,</td>\n",
       "      <td>Kathmandu</td>\n",
       "      <td>5.0</td>\n",
       "      <td>2.5</td>\n",
       "      <td>5.0</td>\n",
       "      <td>5.0</td>\n",
       "      <td>3.95</td>\n",
       "    </tr>\n",
       "    <tr>\n",
       "      <th>478</th>\n",
       "      <td>Dhapasi,</td>\n",
       "      <td>Kathmandu</td>\n",
       "      <td>9.2</td>\n",
       "      <td>2.5</td>\n",
       "      <td>6.0</td>\n",
       "      <td>6.0</td>\n",
       "      <td>7.50</td>\n",
       "    </tr>\n",
       "    <tr>\n",
       "      <th>4226</th>\n",
       "      <td>budhanilkantha,Budhanilkantha,</td>\n",
       "      <td>Kathmandu</td>\n",
       "      <td>8.0</td>\n",
       "      <td>2.0</td>\n",
       "      <td>4.0</td>\n",
       "      <td>4.0</td>\n",
       "      <td>3.10</td>\n",
       "    </tr>\n",
       "    <tr>\n",
       "      <th>1622</th>\n",
       "      <td>Kapan,</td>\n",
       "      <td>Kathmandu</td>\n",
       "      <td>3.0</td>\n",
       "      <td>2.5</td>\n",
       "      <td>5.0</td>\n",
       "      <td>4.0</td>\n",
       "      <td>1.85</td>\n",
       "    </tr>\n",
       "    <tr>\n",
       "      <th>2419</th>\n",
       "      <td>Baniyatar,</td>\n",
       "      <td>Kathmandu</td>\n",
       "      <td>7.0</td>\n",
       "      <td>3.0</td>\n",
       "      <td>18.0</td>\n",
       "      <td>12.0</td>\n",
       "      <td>6.50</td>\n",
       "    </tr>\n",
       "  </tbody>\n",
       "</table>\n",
       "</div>"
      ],
      "text/plain": [
       "                             Address       City  Area  Floors  Bedroom  \\\n",
       "2216                      Chunikhel,  Kathmandu   3.2     2.0      4.0   \n",
       "2269                        Bhangal,  Kathmandu   4.0     2.5      4.0   \n",
       "4507            Pepsicola,Pepsicola,  Kathmandu  17.0     3.0      3.0   \n",
       "1682                    Sundarbasti,  Kathmandu   3.2     2.0      5.0   \n",
       "2371                     Jyotinagar,  Kathmandu   4.1     2.0      7.0   \n",
       "2172                    Mandikhatar,  Kathmandu   5.0     2.5      5.0   \n",
       "478                         Dhapasi,  Kathmandu   9.2     2.5      6.0   \n",
       "4226  budhanilkantha,Budhanilkantha,  Kathmandu   8.0     2.0      4.0   \n",
       "1622                          Kapan,  Kathmandu   3.0     2.5      5.0   \n",
       "2419                      Baniyatar,  Kathmandu   7.0     3.0     18.0   \n",
       "\n",
       "      Bathroom  Price  \n",
       "2216       3.0   2.20  \n",
       "2269       4.0   2.90  \n",
       "4507       3.0   3.40  \n",
       "1682       2.0   2.45  \n",
       "2371       5.0   2.88  \n",
       "2172       5.0   3.95  \n",
       "478        6.0   7.50  \n",
       "4226       4.0   3.10  \n",
       "1622       4.0   1.85  \n",
       "2419      12.0   6.50  "
      ]
     },
     "execution_count": 120,
     "metadata": {},
     "output_type": "execute_result"
    }
   ],
   "source": [
    "home.sample(10)"
   ]
  },
  {
   "cell_type": "code",
   "execution_count": 121,
   "id": "a3cc27bd",
   "metadata": {},
   "outputs": [],
   "source": [
    "home=home[(home['Area']>=2.0)]"
   ]
  },
  {
   "cell_type": "code",
   "execution_count": 122,
   "id": "283d78d2",
   "metadata": {},
   "outputs": [],
   "source": [
    "home=home[(home['Bedroom']>=2)]"
   ]
  },
  {
   "cell_type": "code",
   "execution_count": 123,
   "id": "ec361320",
   "metadata": {},
   "outputs": [],
   "source": [
    "home=home[(home['Bathroom']>=1)]"
   ]
  },
  {
   "cell_type": "code",
   "execution_count": 124,
   "id": "79b09c2e",
   "metadata": {},
   "outputs": [],
   "source": [
    "#home['price_per_aana']=home['Price']*10000000/home['Area']"
   ]
  },
  {
   "cell_type": "code",
   "execution_count": 125,
   "id": "542e082d",
   "metadata": {},
   "outputs": [],
   "source": [
    "#home['price_per_aana']"
   ]
  },
  {
   "cell_type": "code",
   "execution_count": 126,
   "id": "62085cae",
   "metadata": {},
   "outputs": [
    {
     "data": {
      "text/html": [
       "<div>\n",
       "<style scoped>\n",
       "    .dataframe tbody tr th:only-of-type {\n",
       "        vertical-align: middle;\n",
       "    }\n",
       "\n",
       "    .dataframe tbody tr th {\n",
       "        vertical-align: top;\n",
       "    }\n",
       "\n",
       "    .dataframe thead th {\n",
       "        text-align: right;\n",
       "    }\n",
       "</style>\n",
       "<table border=\"1\" class=\"dataframe\">\n",
       "  <thead>\n",
       "    <tr style=\"text-align: right;\">\n",
       "      <th></th>\n",
       "      <th>Area</th>\n",
       "      <th>Floors</th>\n",
       "      <th>Bedroom</th>\n",
       "      <th>Bathroom</th>\n",
       "      <th>Price</th>\n",
       "    </tr>\n",
       "  </thead>\n",
       "  <tbody>\n",
       "    <tr>\n",
       "      <th>count</th>\n",
       "      <td>3288.000000</td>\n",
       "      <td>3288.000000</td>\n",
       "      <td>3288.000000</td>\n",
       "      <td>3288.000000</td>\n",
       "      <td>3288.000000</td>\n",
       "    </tr>\n",
       "    <tr>\n",
       "      <th>mean</th>\n",
       "      <td>8.346296</td>\n",
       "      <td>2.740085</td>\n",
       "      <td>6.895681</td>\n",
       "      <td>5.399331</td>\n",
       "      <td>4.169507</td>\n",
       "    </tr>\n",
       "    <tr>\n",
       "      <th>std</th>\n",
       "      <td>7.851649</td>\n",
       "      <td>0.918696</td>\n",
       "      <td>4.890191</td>\n",
       "      <td>4.251905</td>\n",
       "      <td>2.301848</td>\n",
       "    </tr>\n",
       "    <tr>\n",
       "      <th>min</th>\n",
       "      <td>2.000000</td>\n",
       "      <td>1.000000</td>\n",
       "      <td>2.000000</td>\n",
       "      <td>1.000000</td>\n",
       "      <td>0.850000</td>\n",
       "    </tr>\n",
       "    <tr>\n",
       "      <th>25%</th>\n",
       "      <td>4.000000</td>\n",
       "      <td>2.500000</td>\n",
       "      <td>5.000000</td>\n",
       "      <td>3.000000</td>\n",
       "      <td>3.000000</td>\n",
       "    </tr>\n",
       "    <tr>\n",
       "      <th>50%</th>\n",
       "      <td>6.000000</td>\n",
       "      <td>2.500000</td>\n",
       "      <td>6.000000</td>\n",
       "      <td>4.000000</td>\n",
       "      <td>3.660000</td>\n",
       "    </tr>\n",
       "    <tr>\n",
       "      <th>75%</th>\n",
       "      <td>10.350000</td>\n",
       "      <td>3.000000</td>\n",
       "      <td>7.000000</td>\n",
       "      <td>6.000000</td>\n",
       "      <td>4.650000</td>\n",
       "    </tr>\n",
       "    <tr>\n",
       "      <th>max</th>\n",
       "      <td>112.000000</td>\n",
       "      <td>10.000000</td>\n",
       "      <td>56.000000</td>\n",
       "      <td>40.000000</td>\n",
       "      <td>40.000000</td>\n",
       "    </tr>\n",
       "  </tbody>\n",
       "</table>\n",
       "</div>"
      ],
      "text/plain": [
       "              Area       Floors      Bedroom     Bathroom        Price\n",
       "count  3288.000000  3288.000000  3288.000000  3288.000000  3288.000000\n",
       "mean      8.346296     2.740085     6.895681     5.399331     4.169507\n",
       "std       7.851649     0.918696     4.890191     4.251905     2.301848\n",
       "min       2.000000     1.000000     2.000000     1.000000     0.850000\n",
       "25%       4.000000     2.500000     5.000000     3.000000     3.000000\n",
       "50%       6.000000     2.500000     6.000000     4.000000     3.660000\n",
       "75%      10.350000     3.000000     7.000000     6.000000     4.650000\n",
       "max     112.000000    10.000000    56.000000    40.000000    40.000000"
      ]
     },
     "execution_count": 126,
     "metadata": {},
     "output_type": "execute_result"
    }
   ],
   "source": [
    "home.describe()"
   ]
  },
  {
   "cell_type": "code",
   "execution_count": 127,
   "id": "ac1cb87f",
   "metadata": {},
   "outputs": [
    {
     "data": {
      "text/plain": [
       "(3288, 7)"
      ]
     },
     "execution_count": 127,
     "metadata": {},
     "output_type": "execute_result"
    }
   ],
   "source": [
    "home.shape"
   ]
  },
  {
   "cell_type": "code",
   "execution_count": 128,
   "id": "24362496",
   "metadata": {},
   "outputs": [
    {
     "name": "stdout",
     "output_type": "stream",
     "text": [
      "<class 'pandas.core.frame.DataFrame'>\n",
      "Int64Index: 3288 entries, 4 to 5014\n",
      "Data columns (total 7 columns):\n",
      " #   Column    Non-Null Count  Dtype  \n",
      "---  ------    --------------  -----  \n",
      " 0   Address   3288 non-null   object \n",
      " 1   City      3288 non-null   object \n",
      " 2   Area      3288 non-null   float64\n",
      " 3   Floors    3288 non-null   float64\n",
      " 4   Bedroom   3288 non-null   float64\n",
      " 5   Bathroom  3288 non-null   float64\n",
      " 6   Price     3288 non-null   float64\n",
      "dtypes: float64(5), object(2)\n",
      "memory usage: 205.5+ KB\n"
     ]
    }
   ],
   "source": [
    "home.info()"
   ]
  },
  {
   "cell_type": "code",
   "execution_count": 129,
   "id": "90c6735b",
   "metadata": {},
   "outputs": [
    {
     "name": "stderr",
     "output_type": "stream",
     "text": [
      "C:\\Users\\Dell\\AppData\\Local\\Temp\\ipykernel_1940\\2542458168.py:1: FutureWarning: The default value of numeric_only in DataFrame.corr is deprecated. In a future version, it will default to False. Select only valid columns or specify the value of numeric_only to silence this warning.\n",
      "  sns.heatmap(home.corr())\n"
     ]
    },
    {
     "data": {
      "text/plain": [
       "<Axes: >"
      ]
     },
     "execution_count": 129,
     "metadata": {},
     "output_type": "execute_result"
    },
    {
     "data": {
      "image/png": "[encoded data removed]",
      "text/plain": [
       "<Figure size 640x480 with 2 Axes>"
      ]
     },
     "metadata": {},
     "output_type": "display_data"
    }
   ],
   "source": [
    "sns.heatmap(home.corr())"
   ]
  },
  {
   "cell_type": "code",
   "execution_count": 130,
   "id": "4f704724",
   "metadata": {},
   "outputs": [],
   "source": [
    "home = home[['City','Area','Floors','Bedroom','Bathroom','Price']]"
   ]
  },
  {
   "cell_type": "code",
   "execution_count": 131,
   "id": "293e5b71",
   "metadata": {},
   "outputs": [
    {
     "data": {
      "text/html": [
       "<div>\n",
       "<style scoped>\n",
       "    .dataframe tbody tr th:only-of-type {\n",
       "        vertical-align: middle;\n",
       "    }\n",
       "\n",
       "    .dataframe tbody tr th {\n",
       "        vertical-align: top;\n",
       "    }\n",
       "\n",
       "    .dataframe thead th {\n",
       "        text-align: right;\n",
       "    }\n",
       "</style>\n",
       "<table border=\"1\" class=\"dataframe\">\n",
       "  <thead>\n",
       "    <tr style=\"text-align: right;\">\n",
       "      <th></th>\n",
       "      <th>City</th>\n",
       "      <th>Area</th>\n",
       "      <th>Floors</th>\n",
       "      <th>Bedroom</th>\n",
       "      <th>Bathroom</th>\n",
       "      <th>Price</th>\n",
       "    </tr>\n",
       "  </thead>\n",
       "  <tbody>\n",
       "    <tr>\n",
       "      <th>4</th>\n",
       "      <td>Kathmandu</td>\n",
       "      <td>6.0</td>\n",
       "      <td>2.0</td>\n",
       "      <td>4.0</td>\n",
       "      <td>4.0</td>\n",
       "      <td>2.90</td>\n",
       "    </tr>\n",
       "    <tr>\n",
       "      <th>7</th>\n",
       "      <td>Kathmandu</td>\n",
       "      <td>4.3</td>\n",
       "      <td>2.5</td>\n",
       "      <td>5.0</td>\n",
       "      <td>4.0</td>\n",
       "      <td>4.00</td>\n",
       "    </tr>\n",
       "    <tr>\n",
       "      <th>8</th>\n",
       "      <td>Kathmandu</td>\n",
       "      <td>2.2</td>\n",
       "      <td>5.5</td>\n",
       "      <td>13.0</td>\n",
       "      <td>5.0</td>\n",
       "      <td>7.50</td>\n",
       "    </tr>\n",
       "    <tr>\n",
       "      <th>11</th>\n",
       "      <td>Kathmandu</td>\n",
       "      <td>3.0</td>\n",
       "      <td>2.5</td>\n",
       "      <td>4.0</td>\n",
       "      <td>2.0</td>\n",
       "      <td>2.45</td>\n",
       "    </tr>\n",
       "    <tr>\n",
       "      <th>12</th>\n",
       "      <td>Kathmandu</td>\n",
       "      <td>4.0</td>\n",
       "      <td>4.0</td>\n",
       "      <td>4.0</td>\n",
       "      <td>5.0</td>\n",
       "      <td>2.50</td>\n",
       "    </tr>\n",
       "    <tr>\n",
       "      <th>...</th>\n",
       "      <td>...</td>\n",
       "      <td>...</td>\n",
       "      <td>...</td>\n",
       "      <td>...</td>\n",
       "      <td>...</td>\n",
       "      <td>...</td>\n",
       "    </tr>\n",
       "    <tr>\n",
       "      <th>5006</th>\n",
       "      <td>Kathmandu</td>\n",
       "      <td>14.0</td>\n",
       "      <td>2.5</td>\n",
       "      <td>9.0</td>\n",
       "      <td>8.0</td>\n",
       "      <td>4.30</td>\n",
       "    </tr>\n",
       "    <tr>\n",
       "      <th>5007</th>\n",
       "      <td>Kathmandu</td>\n",
       "      <td>13.0</td>\n",
       "      <td>2.0</td>\n",
       "      <td>4.0</td>\n",
       "      <td>3.0</td>\n",
       "      <td>3.35</td>\n",
       "    </tr>\n",
       "    <tr>\n",
       "      <th>5008</th>\n",
       "      <td>Kathmandu</td>\n",
       "      <td>18.0</td>\n",
       "      <td>4.0</td>\n",
       "      <td>18.0</td>\n",
       "      <td>18.0</td>\n",
       "      <td>8.00</td>\n",
       "    </tr>\n",
       "    <tr>\n",
       "      <th>5011</th>\n",
       "      <td>Kathmandu</td>\n",
       "      <td>13.0</td>\n",
       "      <td>2.5</td>\n",
       "      <td>5.0</td>\n",
       "      <td>5.0</td>\n",
       "      <td>3.60</td>\n",
       "    </tr>\n",
       "    <tr>\n",
       "      <th>5014</th>\n",
       "      <td>Kathmandu</td>\n",
       "      <td>5.0</td>\n",
       "      <td>3.0</td>\n",
       "      <td>5.0</td>\n",
       "      <td>5.0</td>\n",
       "      <td>3.90</td>\n",
       "    </tr>\n",
       "  </tbody>\n",
       "</table>\n",
       "<p>3288 rows × 6 columns</p>\n",
       "</div>"
      ],
      "text/plain": [
       "           City  Area  Floors  Bedroom  Bathroom  Price\n",
       "4     Kathmandu   6.0     2.0      4.0       4.0   2.90\n",
       "7     Kathmandu   4.3     2.5      5.0       4.0   4.00\n",
       "8     Kathmandu   2.2     5.5     13.0       5.0   7.50\n",
       "11    Kathmandu   3.0     2.5      4.0       2.0   2.45\n",
       "12    Kathmandu   4.0     4.0      4.0       5.0   2.50\n",
       "...         ...   ...     ...      ...       ...    ...\n",
       "5006  Kathmandu  14.0     2.5      9.0       8.0   4.30\n",
       "5007  Kathmandu  13.0     2.0      4.0       3.0   3.35\n",
       "5008  Kathmandu  18.0     4.0     18.0      18.0   8.00\n",
       "5011  Kathmandu  13.0     2.5      5.0       5.0   3.60\n",
       "5014  Kathmandu   5.0     3.0      5.0       5.0   3.90\n",
       "\n",
       "[3288 rows x 6 columns]"
      ]
     },
     "execution_count": 131,
     "metadata": {},
     "output_type": "execute_result"
    }
   ],
   "source": [
    "home"
   ]
  },
  {
   "cell_type": "code",
   "execution_count": 132,
   "id": "297623ba",
   "metadata": {},
   "outputs": [],
   "source": [
    "x=home.drop(columns=['Price'])"
   ]
  },
  {
   "cell_type": "code",
   "execution_count": 133,
   "id": "f696f30f",
   "metadata": {},
   "outputs": [],
   "source": [
    "y=home['Price']"
   ]
  },
  {
   "cell_type": "code",
   "execution_count": 134,
   "id": "e33b5a67",
   "metadata": {},
   "outputs": [
    {
     "data": {
      "text/html": [
       "<div>\n",
       "<style scoped>\n",
       "    .dataframe tbody tr th:only-of-type {\n",
       "        vertical-align: middle;\n",
       "    }\n",
       "\n",
       "    .dataframe tbody tr th {\n",
       "        vertical-align: top;\n",
       "    }\n",
       "\n",
       "    .dataframe thead th {\n",
       "        text-align: right;\n",
       "    }\n",
       "</style>\n",
       "<table border=\"1\" class=\"dataframe\">\n",
       "  <thead>\n",
       "    <tr style=\"text-align: right;\">\n",
       "      <th></th>\n",
       "      <th>City</th>\n",
       "      <th>Area</th>\n",
       "      <th>Floors</th>\n",
       "      <th>Bedroom</th>\n",
       "      <th>Bathroom</th>\n",
       "    </tr>\n",
       "  </thead>\n",
       "  <tbody>\n",
       "    <tr>\n",
       "      <th>4</th>\n",
       "      <td>Kathmandu</td>\n",
       "      <td>6.0</td>\n",
       "      <td>2.0</td>\n",
       "      <td>4.0</td>\n",
       "      <td>4.0</td>\n",
       "    </tr>\n",
       "    <tr>\n",
       "      <th>7</th>\n",
       "      <td>Kathmandu</td>\n",
       "      <td>4.3</td>\n",
       "      <td>2.5</td>\n",
       "      <td>5.0</td>\n",
       "      <td>4.0</td>\n",
       "    </tr>\n",
       "    <tr>\n",
       "      <th>8</th>\n",
       "      <td>Kathmandu</td>\n",
       "      <td>2.2</td>\n",
       "      <td>5.5</td>\n",
       "      <td>13.0</td>\n",
       "      <td>5.0</td>\n",
       "    </tr>\n",
       "    <tr>\n",
       "      <th>11</th>\n",
       "      <td>Kathmandu</td>\n",
       "      <td>3.0</td>\n",
       "      <td>2.5</td>\n",
       "      <td>4.0</td>\n",
       "      <td>2.0</td>\n",
       "    </tr>\n",
       "    <tr>\n",
       "      <th>12</th>\n",
       "      <td>Kathmandu</td>\n",
       "      <td>4.0</td>\n",
       "      <td>4.0</td>\n",
       "      <td>4.0</td>\n",
       "      <td>5.0</td>\n",
       "    </tr>\n",
       "    <tr>\n",
       "      <th>...</th>\n",
       "      <td>...</td>\n",
       "      <td>...</td>\n",
       "      <td>...</td>\n",
       "      <td>...</td>\n",
       "      <td>...</td>\n",
       "    </tr>\n",
       "    <tr>\n",
       "      <th>5006</th>\n",
       "      <td>Kathmandu</td>\n",
       "      <td>14.0</td>\n",
       "      <td>2.5</td>\n",
       "      <td>9.0</td>\n",
       "      <td>8.0</td>\n",
       "    </tr>\n",
       "    <tr>\n",
       "      <th>5007</th>\n",
       "      <td>Kathmandu</td>\n",
       "      <td>13.0</td>\n",
       "      <td>2.0</td>\n",
       "      <td>4.0</td>\n",
       "      <td>3.0</td>\n",
       "    </tr>\n",
       "    <tr>\n",
       "      <th>5008</th>\n",
       "      <td>Kathmandu</td>\n",
       "      <td>18.0</td>\n",
       "      <td>4.0</td>\n",
       "      <td>18.0</td>\n",
       "      <td>18.0</td>\n",
       "    </tr>\n",
       "    <tr>\n",
       "      <th>5011</th>\n",
       "      <td>Kathmandu</td>\n",
       "      <td>13.0</td>\n",
       "      <td>2.5</td>\n",
       "      <td>5.0</td>\n",
       "      <td>5.0</td>\n",
       "    </tr>\n",
       "    <tr>\n",
       "      <th>5014</th>\n",
       "      <td>Kathmandu</td>\n",
       "      <td>5.0</td>\n",
       "      <td>3.0</td>\n",
       "      <td>5.0</td>\n",
       "      <td>5.0</td>\n",
       "    </tr>\n",
       "  </tbody>\n",
       "</table>\n",
       "<p>3288 rows × 5 columns</p>\n",
       "</div>"
      ],
      "text/plain": [
       "           City  Area  Floors  Bedroom  Bathroom\n",
       "4     Kathmandu   6.0     2.0      4.0       4.0\n",
       "7     Kathmandu   4.3     2.5      5.0       4.0\n",
       "8     Kathmandu   2.2     5.5     13.0       5.0\n",
       "11    Kathmandu   3.0     2.5      4.0       2.0\n",
       "12    Kathmandu   4.0     4.0      4.0       5.0\n",
       "...         ...   ...     ...      ...       ...\n",
       "5006  Kathmandu  14.0     2.5      9.0       8.0\n",
       "5007  Kathmandu  13.0     2.0      4.0       3.0\n",
       "5008  Kathmandu  18.0     4.0     18.0      18.0\n",
       "5011  Kathmandu  13.0     2.5      5.0       5.0\n",
       "5014  Kathmandu   5.0     3.0      5.0       5.0\n",
       "\n",
       "[3288 rows x 5 columns]"
      ]
     },
     "execution_count": 134,
     "metadata": {},
     "output_type": "execute_result"
    }
   ],
   "source": [
    "x"
   ]
  },
  {
   "cell_type": "code",
   "execution_count": 135,
   "id": "cac9b879",
   "metadata": {},
   "outputs": [
    {
     "data": {
      "text/plain": [
       "4       2.90\n",
       "7       4.00\n",
       "8       7.50\n",
       "11      2.45\n",
       "12      2.50\n",
       "        ... \n",
       "5006    4.30\n",
       "5007    3.35\n",
       "5008    8.00\n",
       "5011    3.60\n",
       "5014    3.90\n",
       "Name: Price, Length: 3288, dtype: float64"
      ]
     },
     "execution_count": 135,
     "metadata": {},
     "output_type": "execute_result"
    }
   ],
   "source": [
    "y"
   ]
  },
  {
   "cell_type": "code",
   "execution_count": 136,
   "id": "e1ae4d22",
   "metadata": {},
   "outputs": [
    {
     "name": "stdout",
     "output_type": "stream",
     "text": [
      "\n",
      "Note: you may need to restart the kernel to use updated packages.\n"
     ]
    },
    {
     "name": "stderr",
     "output_type": "stream",
     "text": [
      "\n",
      "PackageNotInstalledError: Package is not installed in prefix.\n",
      "  prefix: C:\\Users\\Dell\\.conda\\envs\\Shambhu\n",
      "  package name: scikit-learn\n",
      "\n",
      "\n"
     ]
    }
   ],
   "source": [
    "conda update scikit-learn"
   ]
  },
  {
   "cell_type": "code",
   "execution_count": 137,
   "id": "f96dbaec",
   "metadata": {},
   "outputs": [],
   "source": [
    "from sklearn.model_selection import train_test_split"
   ]
  },
  {
   "cell_type": "code",
   "execution_count": 138,
   "id": "f0deaa5c",
   "metadata": {},
   "outputs": [],
   "source": [
    "x_train,x_test,y_train,y_test=train_test_split(x,y,test_size=0.2,random_state=42)"
   ]
  },
  {
   "cell_type": "code",
   "execution_count": 139,
   "id": "54fb295d",
   "metadata": {},
   "outputs": [
    {
     "data": {
      "text/plain": [
       "(2630, 5)"
      ]
     },
     "execution_count": 139,
     "metadata": {},
     "output_type": "execute_result"
    }
   ],
   "source": [
    "x_train.shape"
   ]
  },
  {
   "cell_type": "code",
   "execution_count": 140,
   "id": "8a716d47",
   "metadata": {},
   "outputs": [
    {
     "data": {
      "text/plain": [
       "(658, 5)"
      ]
     },
     "execution_count": 140,
     "metadata": {},
     "output_type": "execute_result"
    }
   ],
   "source": [
    "x_test.shape"
   ]
  },
  {
   "cell_type": "code",
   "execution_count": 141,
   "id": "522d684d",
   "metadata": {},
   "outputs": [
    {
     "data": {
      "text/plain": [
       "(2630,)"
      ]
     },
     "execution_count": 141,
     "metadata": {},
     "output_type": "execute_result"
    }
   ],
   "source": [
    "y_train.shape"
   ]
  },
  {
   "cell_type": "code",
   "execution_count": 142,
   "id": "7eea411f",
   "metadata": {},
   "outputs": [
    {
     "data": {
      "text/plain": [
       "(658,)"
      ]
     },
     "execution_count": 142,
     "metadata": {},
     "output_type": "execute_result"
    }
   ],
   "source": [
    "y_test.shape"
   ]
  },
  {
   "cell_type": "code",
   "execution_count": 143,
   "id": "0915bd12",
   "metadata": {},
   "outputs": [
    {
     "data": {
      "text/plain": [
       "Index(['City', 'Area', 'Floors', 'Bedroom', 'Bathroom'], dtype='object')"
      ]
     },
     "execution_count": 143,
     "metadata": {},
     "output_type": "execute_result"
    }
   ],
   "source": [
    "x_train.columns"
   ]
  },
  {
   "cell_type": "code",
   "execution_count": 144,
   "id": "df3f52af",
   "metadata": {},
   "outputs": [
    {
     "name": "stdout",
     "output_type": "stream",
     "text": [
      "Requirement already satisfied: xgboost in c:\\users\\dell\\.conda\\envs\\shambhu\\lib\\site-packages (2.0.1)Note: you may need to restart the kernel to use updated packages.\n",
      "\n",
      "Requirement already satisfied: scipy in c:\\users\\dell\\.conda\\envs\\shambhu\\lib\\site-packages (from xgboost) (1.10.1)\n",
      "Requirement already satisfied: numpy in c:\\users\\dell\\.conda\\envs\\shambhu\\lib\\site-packages (from xgboost) (1.24.2)\n"
     ]
    }
   ],
   "source": [
    "pip install xgboost"
   ]
  },
  {
   "cell_type": "code",
   "execution_count": 145,
   "id": "296be7eb",
   "metadata": {},
   "outputs": [
    {
     "name": "stdout",
     "output_type": "stream",
     "text": [
      "Requirement already satisfied: scikit-learn in c:\\users\\dell\\.conda\\envs\\shambhu\\lib\\site-packages (1.4.1.post1)\n",
      "Requirement already satisfied: scipy>=1.6.0 in c:\\users\\dell\\.conda\\envs\\shambhu\\lib\\site-packages (from scikit-learn) (1.10.1)\n",
      "Requirement already satisfied: numpy<2.0,>=1.19.5 in c:\\users\\dell\\.conda\\envs\\shambhu\\lib\\site-packages (from scikit-learn) (1.24.2)\n",
      "Requirement already satisfied: threadpoolctl>=2.0.0 in c:\\users\\dell\\.conda\\envs\\shambhu\\lib\\site-packages (from scikit-learn) (3.1.0)\n",
      "Requirement already satisfied: joblib>=1.2.0 in c:\\users\\dell\\.conda\\envs\\shambhu\\lib\\site-packages (from scikit-learn) (1.2.0)\n",
      "Note: you may need to restart the kernel to use updated packages.\n"
     ]
    }
   ],
   "source": [
    "pip install scikit-learn"
   ]
  },
  {
   "cell_type": "code",
   "execution_count": 146,
   "id": "8852bb37",
   "metadata": {},
   "outputs": [],
   "source": [
    "import sklearn"
   ]
  },
  {
   "cell_type": "code",
   "execution_count": 147,
   "id": "a1431e1b",
   "metadata": {},
   "outputs": [
    {
     "name": "stdout",
     "output_type": "stream",
     "text": [
      "1.4.1.post1\n"
     ]
    }
   ],
   "source": [
    "print(sklearn.__version__)"
   ]
  },
  {
   "cell_type": "code",
   "execution_count": 148,
   "id": "56d42afa",
   "metadata": {},
   "outputs": [
    {
     "name": "stdout",
     "output_type": "stream",
     "text": [
      "Requirement already satisfied: scikit-learn in c:\\users\\dell\\.conda\\envs\\shambhu\\lib\\site-packages (1.4.1.post1)\n",
      "Requirement already satisfied: threadpoolctl>=2.0.0 in c:\\users\\dell\\.conda\\envs\\shambhu\\lib\\site-packages (from scikit-learn) (3.1.0)\n",
      "Requirement already satisfied: joblib>=1.2.0 in c:\\users\\dell\\.conda\\envs\\shambhu\\lib\\site-packages (from scikit-learn) (1.2.0)\n",
      "Requirement already satisfied: scipy>=1.6.0 in c:\\users\\dell\\.conda\\envs\\shambhu\\lib\\site-packages (from scikit-learn) (1.10.1)\n",
      "Requirement already satisfied: numpy<2.0,>=1.19.5 in c:\\users\\dell\\.conda\\envs\\shambhu\\lib\\site-packages (from scikit-learn) (1.24.2)\n",
      "Note: you may need to restart the kernel to use updated packages.\n"
     ]
    }
   ],
   "source": [
    "pip install --upgrade scikit-learn"
   ]
  },
  {
   "cell_type": "code",
   "execution_count": 149,
   "id": "ae7c37be",
   "metadata": {},
   "outputs": [
    {
     "name": "stdout",
     "output_type": "stream",
     "text": [
      "1.4.1.post1\n"
     ]
    }
   ],
   "source": [
    "print(sklearn.__version__)"
   ]
  },
  {
   "cell_type": "code",
   "execution_count": null,
   "id": "dbbc6ee6",
   "metadata": {},
   "outputs": [],
   "source": []
  },
  {
   "cell_type": "code",
   "execution_count": 150,
   "id": "d8fcb0fd",
   "metadata": {},
   "outputs": [],
   "source": [
    "from sklearn.linear_model import LinearRegression,Ridge,Lasso\n",
    "from sklearn.ensemble import RandomForestRegressor,GradientBoostingRegressor,AdaBoostRegressor\n",
    "from sklearn.neighbors import KNeighborsRegressor\n",
    "from sklearn.tree import DecisionTreeRegressor\n",
    "from xgboost import XGBRegressor"
   ]
  },
  {
   "cell_type": "code",
   "execution_count": 151,
   "id": "2acab34d",
   "metadata": {},
   "outputs": [],
   "source": [
    "from sklearn.compose import ColumnTransformer\n",
    "from sklearn.pipeline import Pipeline\n",
    "from sklearn.preprocessing import OneHotEncoder, StandardScaler\n",
    "from sklearn.metrics import r2_score,mean_absolute_error,mean_squared_error\n",
    "from math import sqrt"
   ]
  },
  {
   "cell_type": "code",
   "execution_count": 152,
   "id": "1ecfddfe",
   "metadata": {},
   "outputs": [
    {
     "name": "stdout",
     "output_type": "stream",
     "text": [
      "Requirement already satisfied: scikit-learn in c:\\users\\dell\\.conda\\envs\\shambhu\\lib\\site-packages (1.4.1.post1)Note: you may need to restart the kernel to use updated packages.\n",
      "\n",
      "Requirement already satisfied: scipy>=1.6.0 in c:\\users\\dell\\.conda\\envs\\shambhu\\lib\\site-packages (from scikit-learn) (1.10.1)\n",
      "Requirement already satisfied: numpy<2.0,>=1.19.5 in c:\\users\\dell\\.conda\\envs\\shambhu\\lib\\site-packages (from scikit-learn) (1.24.2)\n",
      "Requirement already satisfied: joblib>=1.2.0 in c:\\users\\dell\\.conda\\envs\\shambhu\\lib\\site-packages (from scikit-learn) (1.2.0)\n",
      "Requirement already satisfied: threadpoolctl>=2.0.0 in c:\\users\\dell\\.conda\\envs\\shambhu\\lib\\site-packages (from scikit-learn) (3.1.0)\n"
     ]
    }
   ],
   "source": [
    "pip install --upgrade scikit-learn"
   ]
  },
  {
   "cell_type": "markdown",
   "id": "2ce91410",
   "metadata": {},
   "source": [
    "# Linear Regression"
   ]
  },
  {
   "cell_type": "code",
   "execution_count": 153,
   "id": "6c248ff8",
   "metadata": {},
   "outputs": [
    {
     "name": "stdout",
     "output_type": "stream",
     "text": [
      "R2_score 0.7977820820037432\n",
      "MAE 0.6123922171641064\n",
      "MSE 0.9370703145139879\n"
     ]
    }
   ],
   "source": [
    "step1 = ColumnTransformer(transformers=[\n",
    "    ('col_tnf', OneHotEncoder(drop='first', handle_unknown='ignore'), ['City'])\n",
    "], remainder='passthrough')\n",
    "step2=LinearRegression()\n",
    "pipe=Pipeline([\n",
    "    ('step1',step1),\n",
    "    ('step2',step2)\n",
    "])\n",
    "pipe.fit(x_train,y_train)\n",
    "\n",
    "y_pred=pipe.predict(x_test)\n",
    "\n",
    "print('R2_score',r2_score(y_test,y_pred))\n",
    "print('MAE',mean_absolute_error(y_test,y_pred))\n",
    "print('MSE',mean_squared_error(y_test,y_pred))\n"
   ]
  },
  {
   "cell_type": "code",
   "execution_count": 154,
   "id": "7ffa7d44",
   "metadata": {},
   "outputs": [],
   "source": [
    "#np.exp(0.21)"
   ]
  },
  {
   "cell_type": "markdown",
   "id": "f4e64ab4",
   "metadata": {},
   "source": [
    "# Ridge"
   ]
  },
  {
   "cell_type": "code",
   "execution_count": 155,
   "id": "c26fc70e",
   "metadata": {},
   "outputs": [
    {
     "data": {
      "text/plain": [
       "\"step1 = ColumnTransformer(transformers=[\\n    ('col_tnf', OneHotEncoder(drop='first', handle_unknown='ignore'), [-3,0])\\n], remainder='passthrough')\\nstep2=Ridge(alpha=10)\\npipe=Pipeline([\\n    ('step1',step1),\\n    ('step2',step2)\\n])\\npipe.fit(x_train,y_train)\\n\\ny_pred=pipe.predict(x_test)\\n\\nprint('R2_score',r2_score(y_test,y_pred))\\nprint('MAE',mean_absolute_error(y_test,y_pred))\\nmse = print('MSE',mean_squared_error(y_test,y_pred))\\n\""
      ]
     },
     "execution_count": 155,
     "metadata": {},
     "output_type": "execute_result"
    }
   ],
   "source": [
    "\n",
    "'''step1 = ColumnTransformer(transformers=[\n",
    "    ('col_tnf', OneHotEncoder(drop='first', handle_unknown='ignore'), [-3,0])\n",
    "], remainder='passthrough')\n",
    "step2=Ridge(alpha=10)\n",
    "pipe=Pipeline([\n",
    "    ('step1',step1),\n",
    "    ('step2',step2)\n",
    "])\n",
    "pipe.fit(x_train,y_train)\n",
    "\n",
    "y_pred=pipe.predict(x_test)\n",
    "\n",
    "print('R2_score',r2_score(y_test,y_pred))\n",
    "print('MAE',mean_absolute_error(y_test,y_pred))\n",
    "mse = print('MSE',mean_squared_error(y_test,y_pred))\n",
    "'''"
   ]
  },
  {
   "cell_type": "markdown",
   "id": "8141dd14",
   "metadata": {},
   "source": [
    "# Lasso"
   ]
  },
  {
   "cell_type": "code",
   "execution_count": 156,
   "id": "23834fda",
   "metadata": {},
   "outputs": [
    {
     "data": {
      "text/plain": [
       "\"\\nstep1=ColumnTransformer(transformers=[\\n    ('col_tnf',OneHotEncoder(sparse=False,drop='first',handle_unknown='ignore'),[0,1])\\n],remainder='passthrough')\\nstep2=Lasso(alpha=0.001)\\npipe=Pipeline([\\n    ('step1',step1),\\n    ('step2',step2)\\n])\\npipe.fit(x_train,y_train)\\n\\ny_pred=pipe.predict(x_test)\\n\\nprint('R2_score',r2_score(y_test,y_pred))\\nprint('MAE',mean_absolute_error(y_test,y_pred))\\n\""
      ]
     },
     "execution_count": 156,
     "metadata": {},
     "output_type": "execute_result"
    }
   ],
   "source": [
    "'''\n",
    "step1=ColumnTransformer(transformers=[\n",
    "    ('col_tnf',OneHotEncoder(sparse=False,drop='first',handle_unknown='ignore'),[0,1])\n",
    "],remainder='passthrough')\n",
    "step2=Lasso(alpha=0.001)\n",
    "pipe=Pipeline([\n",
    "    ('step1',step1),\n",
    "    ('step2',step2)\n",
    "])\n",
    "pipe.fit(x_train,y_train)\n",
    "\n",
    "y_pred=pipe.predict(x_test)\n",
    "\n",
    "print('R2_score',r2_score(y_test,y_pred))\n",
    "print('MAE',mean_absolute_error(y_test,y_pred))\n",
    "'''"
   ]
  },
  {
   "cell_type": "markdown",
   "id": "ebec9d3b",
   "metadata": {},
   "source": [
    "# KNN"
   ]
  },
  {
   "cell_type": "code",
   "execution_count": 157,
   "id": "7551d713",
   "metadata": {},
   "outputs": [
    {
     "data": {
      "text/plain": [
       "\"\\nstep1 = ColumnTransformer(transformers=[\\n    ('col_tnf', OneHotEncoder(sparse=False, drop='first', handle_unknown='ignore'), [-3,0])\\n], remainder='passthrough')\\nstep2=KNeighborsRegressor(n_neighbors=25)\\npipe=Pipeline([\\n    ('step1',step1),\\n    ('step2',step2)\\n])\\npipe.fit(x_train,y_train)\\n\\ny_pred=pipe.predict(x_test)\\n\\nprint('R2_score',r2_score(y_test,y_pred))\\nprint('MAE',mean_absolute_error(y_test,y_pred))\\n\""
      ]
     },
     "execution_count": 157,
     "metadata": {},
     "output_type": "execute_result"
    }
   ],
   "source": [
    "'''\n",
    "step1 = ColumnTransformer(transformers=[\n",
    "    ('col_tnf', OneHotEncoder(sparse=False, drop='first', handle_unknown='ignore'), [-3,0])\n",
    "], remainder='passthrough')\n",
    "step2=KNeighborsRegressor(n_neighbors=25)\n",
    "pipe=Pipeline([\n",
    "    ('step1',step1),\n",
    "    ('step2',step2)\n",
    "])\n",
    "pipe.fit(x_train,y_train)\n",
    "\n",
    "y_pred=pipe.predict(x_test)\n",
    "\n",
    "print('R2_score',r2_score(y_test,y_pred))\n",
    "print('MAE',mean_absolute_error(y_test,y_pred))\n",
    "'''"
   ]
  },
  {
   "cell_type": "markdown",
   "id": "16821d2f",
   "metadata": {},
   "source": [
    "# Decision Tree"
   ]
  },
  {
   "cell_type": "code",
   "execution_count": 158,
   "id": "2e78998d",
   "metadata": {},
   "outputs": [
    {
     "data": {
      "text/plain": [
       "\"step1 = ColumnTransformer(transformers=[\\n    ('col_tnf', OneHotEncoder(drop='first', handle_unknown='ignore'), [-3,0])\\n], remainder='passthrough')\\nstep2=DecisionTreeRegressor(max_depth=8)\\npipe=Pipeline([\\n    ('step1',step1),\\n    ('step2',step2)\\n])\\npipe.fit(x_train,y_train)\\n\\ny_pred=pipe.predict(x_test)\\n\\nprint('R2_score',r2_score(y_test,y_pred))\\nprint('MAE',mean_absolute_error(y_test,y_pred))\\n\""
      ]
     },
     "execution_count": 158,
     "metadata": {},
     "output_type": "execute_result"
    }
   ],
   "source": [
    "'''step1 = ColumnTransformer(transformers=[\n",
    "    ('col_tnf', OneHotEncoder(drop='first', handle_unknown='ignore'), [-3,0])\n",
    "], remainder='passthrough')\n",
    "step2=DecisionTreeRegressor(max_depth=8)\n",
    "pipe=Pipeline([\n",
    "    ('step1',step1),\n",
    "    ('step2',step2)\n",
    "])\n",
    "pipe.fit(x_train,y_train)\n",
    "\n",
    "y_pred=pipe.predict(x_test)\n",
    "\n",
    "print('R2_score',r2_score(y_test,y_pred))\n",
    "print('MAE',mean_absolute_error(y_test,y_pred))\n",
    "'''"
   ]
  },
  {
   "cell_type": "markdown",
   "id": "41d401bd",
   "metadata": {},
   "source": [
    "# Random Forest"
   ]
  },
  {
   "cell_type": "code",
   "execution_count": 172,
   "id": "a7331e10",
   "metadata": {
    "scrolled": true
   },
   "outputs": [
    {
     "name": "stdout",
     "output_type": "stream",
     "text": [
      "R2_score 0.7923416376073822\n",
      "MAE 0.6232671828814355\n",
      "MSE 0.962281131597409\n"
     ]
    }
   ],
   "source": [
    "step1 = ColumnTransformer(transformers=[\n",
    "    ('col_tnf', OneHotEncoder(drop='first', handle_unknown='ignore'), ['City'])\n",
    "], remainder='passthrough')\n",
    "step2=RandomForestRegressor(n_estimators=200,\n",
    "                            random_state=20,\n",
    "                            max_samples=0.9,\n",
    "                            max_features=0.25,\n",
    "                            max_depth=18\n",
    "                           )\n",
    "pipe=Pipeline([\n",
    "    ('step1',step1),\n",
    "    ('step2',step2)\n",
    "])\n",
    "pipe.fit(x_train,y_train)\n",
    "\n",
    "y_pred=pipe.predict(x_test)\n",
    "\n",
    "print('R2_score',r2_score(y_test,y_pred))\n",
    "print('MAE',mean_absolute_error(y_test,y_pred))\n",
    "print('MSE',mean_squared_error(y_test,y_pred))\n"
   ]
  },
  {
   "cell_type": "markdown",
   "id": "189a0ef7",
   "metadata": {},
   "source": [
    "# Adaboost"
   ]
  },
  {
   "cell_type": "code",
   "execution_count": 160,
   "id": "dfc35cab",
   "metadata": {},
   "outputs": [
    {
     "data": {
      "text/plain": [
       "\"step1 = ColumnTransformer(transformers=[\\n    ('col_tnf', OneHotEncoder(sparse=False, drop='first', handle_unknown='ignore'), [-3,0])\\n], remainder='passthrough')\\nstep2=AdaBoostRegressor(n_estimators=100,learning_rate=1.0)\\npipe=Pipeline([\\n    ('step1',step1),\\n    ('step2',step2)\\n])\\npipe.fit(x_train,y_train)\\n\\ny_pred=pipe.predict(x_test)\\n\\nprint('R2_score',r2_score(y_test,y_pred))\\nprint('MAE',mean_absolute_error(y_test,y_pred))\\n\""
      ]
     },
     "execution_count": 160,
     "metadata": {},
     "output_type": "execute_result"
    }
   ],
   "source": [
    "'''step1 = ColumnTransformer(transformers=[\n",
    "    ('col_tnf', OneHotEncoder(sparse=False, drop='first', handle_unknown='ignore'), [-3,0])\n",
    "], remainder='passthrough')\n",
    "step2=AdaBoostRegressor(n_estimators=100,learning_rate=1.0)\n",
    "pipe=Pipeline([\n",
    "    ('step1',step1),\n",
    "    ('step2',step2)\n",
    "])\n",
    "pipe.fit(x_train,y_train)\n",
    "\n",
    "y_pred=pipe.predict(x_test)\n",
    "\n",
    "print('R2_score',r2_score(y_test,y_pred))\n",
    "print('MAE',mean_absolute_error(y_test,y_pred))\n",
    "'''"
   ]
  },
  {
   "cell_type": "markdown",
   "id": "78e5ea0b",
   "metadata": {},
   "source": [
    "# GradientBoost"
   ]
  },
  {
   "cell_type": "code",
   "execution_count": 161,
   "id": "469143ce",
   "metadata": {},
   "outputs": [
    {
     "data": {
      "text/plain": [
       "\"\\nstep1 = ColumnTransformer(transformers=[\\n    ('col_tnf', OneHotEncoder(sparse=False, drop='first', handle_unknown='ignore'), [-3,0])\\n], remainder='passthrough')\\nstep2=GradientBoostingRegressor(n_estimators=500)\\npipe=Pipeline([\\n    ('step1',step1),\\n    ('step2',step2)\\n])\\npipe.fit(x_train,y_train)\\n\\ny_pred=pipe.predict(x_test)\\n\\nprint('R2_score',r2_score(y_test,y_pred))\\nprint('MAE',mean_absolute_error(y_test,y_pred))\\n\""
      ]
     },
     "execution_count": 161,
     "metadata": {},
     "output_type": "execute_result"
    }
   ],
   "source": [
    "'''\n",
    "step1 = ColumnTransformer(transformers=[\n",
    "    ('col_tnf', OneHotEncoder(sparse=False, drop='first', handle_unknown='ignore'), [-3,0])\n",
    "], remainder='passthrough')\n",
    "step2=GradientBoostingRegressor(n_estimators=500)\n",
    "pipe=Pipeline([\n",
    "    ('step1',step1),\n",
    "    ('step2',step2)\n",
    "])\n",
    "pipe.fit(x_train,y_train)\n",
    "\n",
    "y_pred=pipe.predict(x_test)\n",
    "\n",
    "print('R2_score',r2_score(y_test,y_pred))\n",
    "print('MAE',mean_absolute_error(y_test,y_pred))\n",
    "'''"
   ]
  },
  {
   "cell_type": "markdown",
   "id": "64d36149",
   "metadata": {},
   "source": [
    "# Xg Boost"
   ]
  },
  {
   "cell_type": "code",
   "execution_count": 162,
   "id": "8357c717",
   "metadata": {},
   "outputs": [
    {
     "data": {
      "text/plain": [
       "\"step1 = ColumnTransformer(transformers=[\\n    ('col_tnf', OneHotEncoder(drop='first', handle_unknown='ignore'), ['City'])\\n], remainder='passthrough')\\nstep2=XGBRegressor(n_estimators=45,max_depth=5,learning_rate=0.5)\\npipe=Pipeline([\\n    ('step1',step1),\\n    ('step2',step2)\\n])\\npipe.fit(x_train,y_train)\\n\\ny_pred=pipe.predict(x_test)\\n\\nprint('R2_score',r2_score(y_test,y_pred))\\nprint('MAE',mean_absolute_error(y_test,y_pred))\\nprint('MSE',mean_squared_error(y_test,y_pred))\\n\""
      ]
     },
     "execution_count": 162,
     "metadata": {},
     "output_type": "execute_result"
    }
   ],
   "source": [
    "'''step1 = ColumnTransformer(transformers=[\n",
    "    ('col_tnf', OneHotEncoder(drop='first', handle_unknown='ignore'), ['City'])\n",
    "], remainder='passthrough')\n",
    "step2=XGBRegressor(n_estimators=45,max_depth=5,learning_rate=0.5)\n",
    "pipe=Pipeline([\n",
    "    ('step1',step1),\n",
    "    ('step2',step2)\n",
    "])\n",
    "pipe.fit(x_train,y_train)\n",
    "\n",
    "y_pred=pipe.predict(x_test)\n",
    "\n",
    "print('R2_score',r2_score(y_test,y_pred))\n",
    "print('MAE',mean_absolute_error(y_test,y_pred))\n",
    "print('MSE',mean_squared_error(y_test,y_pred))\n",
    "'''"
   ]
  },
  {
   "cell_type": "code",
   "execution_count": 163,
   "id": "25bc540c",
   "metadata": {},
   "outputs": [],
   "source": [
    "#from sklearn.compose import make_column_transformer\n",
    "#from sklearn.pipeline import make_pipeline"
   ]
  },
  {
   "cell_type": "code",
   "execution_count": 164,
   "id": "ceabcef2",
   "metadata": {},
   "outputs": [],
   "source": [
    "#column_trans = make_column_transformer((OneHotEncoder(drop='first',handle_unknown='ignore'),['City']),remainder='passthrough')"
   ]
  },
  {
   "cell_type": "code",
   "execution_count": 165,
   "id": "05d868ea",
   "metadata": {},
   "outputs": [],
   "source": [
    "#scaler=StandardScaler(with_mean=False)"
   ]
  },
  {
   "cell_type": "code",
   "execution_count": 166,
   "id": "d4fe0a1a",
   "metadata": {},
   "outputs": [],
   "source": [
    "#lr = LinearRegression()"
   ]
  },
  {
   "cell_type": "code",
   "execution_count": 167,
   "id": "9b857a9e",
   "metadata": {},
   "outputs": [],
   "source": [
    "#pipe=make_pipeline(column_trans,scaler,lr)"
   ]
  },
  {
   "cell_type": "code",
   "execution_count": 168,
   "id": "35501ee7",
   "metadata": {},
   "outputs": [],
   "source": [
    "#pipe.fit(x_train,y_train)"
   ]
  },
  {
   "cell_type": "code",
   "execution_count": 169,
   "id": "4b8d9672",
   "metadata": {},
   "outputs": [],
   "source": [
    "#y_pred=pipe.predict(x_test)"
   ]
  },
  {
   "cell_type": "code",
   "execution_count": 170,
   "id": "ebfb221d",
   "metadata": {},
   "outputs": [],
   "source": [
    "#r2_score(y_test,y_pred)"
   ]
  },
  {
   "cell_type": "markdown",
   "id": "f55f6a32",
   "metadata": {},
   "source": [
    "# Exporting model"
   ]
  },
  {
   "cell_type": "code",
   "execution_count": 171,
   "id": "00534a8f",
   "metadata": {},
   "outputs": [],
   "source": [
    "import pickle\n",
    "pickle.dump(home,open('home.pkl','wb'))\n",
    "pickle.dump(pipe,open('pipe.pkl','wb'))"
   ]
  },
  {
   "cell_type": "code",
   "execution_count": null,
   "id": "2ab05f0d",
   "metadata": {},
   "outputs": [],
   "source": []
  },
  {
   "cell_type": "code",
   "execution_count": null,
   "id": "3bb0fdc4",
   "metadata": {},
   "outputs": [],
   "source": []
  }
 ],
 "metadata": {
  "kernelspec": {
   "display_name": "Python 3 (ipykernel)",
   "language": "python",
   "name": "python3"
  },
  "language_info": {
   "codemirror_mode": {
    "name": "ipython",
    "version": 3
   },
   "file_extension": ".py",
   "mimetype": "text/x-python",
   "name": "python",
   "nbconvert_exporter": "python",
   "pygments_lexer": "ipython3",
   "version": "3.9.0"
  }
 },
 "nbformat": 4,
 "nbformat_minor": 5
}
